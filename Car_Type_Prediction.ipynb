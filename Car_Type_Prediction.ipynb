{
 "cells": [
  {
   "cell_type": "markdown",
   "id": "964ced51",
   "metadata": {},
   "source": [
    "# fetch data"
   ]
  },
  {
   "cell_type": "code",
   "execution_count": 1,
   "id": "147e532f",
   "metadata": {},
   "outputs": [
    {
     "data": {
      "text/html": [
       "<div>\n",
       "<style scoped>\n",
       "    .dataframe tbody tr th:only-of-type {\n",
       "        vertical-align: middle;\n",
       "    }\n",
       "\n",
       "    .dataframe tbody tr th {\n",
       "        vertical-align: top;\n",
       "    }\n",
       "\n",
       "    .dataframe thead th {\n",
       "        text-align: right;\n",
       "    }\n",
       "</style>\n",
       "<table border=\"1\" class=\"dataframe\">\n",
       "  <thead>\n",
       "    <tr style=\"text-align: right;\">\n",
       "      <th></th>\n",
       "      <th>id</th>\n",
       "      <th>Manufacturer</th>\n",
       "      <th>Model</th>\n",
       "      <th>Type</th>\n",
       "      <th>Min.Price</th>\n",
       "      <th>Price</th>\n",
       "      <th>Max.Price</th>\n",
       "      <th>MPG.city</th>\n",
       "      <th>MPG.highway</th>\n",
       "      <th>AirBags</th>\n",
       "      <th>DriveTrain</th>\n",
       "      <th>Cylinders</th>\n",
       "      <th>EngineSize</th>\n",
       "      <th>Horsepower</th>\n",
       "      <th>RPM</th>\n",
       "      <th>Rev.per.mile</th>\n",
       "      <th>Man.trans.avail</th>\n",
       "      <th>Fuel.tank.capacity</th>\n",
       "      <th>Passengers</th>\n",
       "      <th>Length</th>\n",
       "      <th>Wheelbase</th>\n",
       "      <th>Width</th>\n",
       "      <th>Turn.circle</th>\n",
       "      <th>Rear.seat.room</th>\n",
       "      <th>Luggage.room</th>\n",
       "      <th>Weight</th>\n",
       "      <th>Origin</th>\n",
       "      <th>Make</th>\n",
       "    </tr>\n",
       "  </thead>\n",
       "  <tbody>\n",
       "    <tr>\n",
       "      <th>0</th>\n",
       "      <td>1</td>\n",
       "      <td>Acura</td>\n",
       "      <td>Integra</td>\n",
       "      <td>Small</td>\n",
       "      <td>12.9</td>\n",
       "      <td>15.9</td>\n",
       "      <td>18.8</td>\n",
       "      <td>25</td>\n",
       "      <td>31</td>\n",
       "      <td>None</td>\n",
       "      <td>Front</td>\n",
       "      <td>4</td>\n",
       "      <td>1.8</td>\n",
       "      <td>140</td>\n",
       "      <td>6300</td>\n",
       "      <td>2890</td>\n",
       "      <td>Yes</td>\n",
       "      <td>13.2</td>\n",
       "      <td>5</td>\n",
       "      <td>177</td>\n",
       "      <td>102</td>\n",
       "      <td>68</td>\n",
       "      <td>37</td>\n",
       "      <td>26.5</td>\n",
       "      <td>11.0</td>\n",
       "      <td>2705</td>\n",
       "      <td>non-USA</td>\n",
       "      <td>Acura Integra</td>\n",
       "    </tr>\n",
       "    <tr>\n",
       "      <th>1</th>\n",
       "      <td>2</td>\n",
       "      <td>Acura</td>\n",
       "      <td>Legend</td>\n",
       "      <td>Midsize</td>\n",
       "      <td>29.2</td>\n",
       "      <td>33.9</td>\n",
       "      <td>38.7</td>\n",
       "      <td>18</td>\n",
       "      <td>25</td>\n",
       "      <td>Driver &amp; Passenger</td>\n",
       "      <td>Front</td>\n",
       "      <td>6</td>\n",
       "      <td>3.2</td>\n",
       "      <td>200</td>\n",
       "      <td>5500</td>\n",
       "      <td>2335</td>\n",
       "      <td>Yes</td>\n",
       "      <td>18.0</td>\n",
       "      <td>5</td>\n",
       "      <td>195</td>\n",
       "      <td>115</td>\n",
       "      <td>71</td>\n",
       "      <td>38</td>\n",
       "      <td>30.0</td>\n",
       "      <td>15.0</td>\n",
       "      <td>3560</td>\n",
       "      <td>non-USA</td>\n",
       "      <td>Acura Legend</td>\n",
       "    </tr>\n",
       "    <tr>\n",
       "      <th>2</th>\n",
       "      <td>3</td>\n",
       "      <td>Audi</td>\n",
       "      <td>90</td>\n",
       "      <td>Compact</td>\n",
       "      <td>25.9</td>\n",
       "      <td>29.1</td>\n",
       "      <td>32.3</td>\n",
       "      <td>20</td>\n",
       "      <td>26</td>\n",
       "      <td>Driver only</td>\n",
       "      <td>Front</td>\n",
       "      <td>6</td>\n",
       "      <td>2.8</td>\n",
       "      <td>172</td>\n",
       "      <td>5500</td>\n",
       "      <td>2280</td>\n",
       "      <td>Yes</td>\n",
       "      <td>16.9</td>\n",
       "      <td>5</td>\n",
       "      <td>180</td>\n",
       "      <td>102</td>\n",
       "      <td>67</td>\n",
       "      <td>37</td>\n",
       "      <td>28.0</td>\n",
       "      <td>14.0</td>\n",
       "      <td>3375</td>\n",
       "      <td>non-USA</td>\n",
       "      <td>Audi 90</td>\n",
       "    </tr>\n",
       "    <tr>\n",
       "      <th>3</th>\n",
       "      <td>4</td>\n",
       "      <td>Audi</td>\n",
       "      <td>100</td>\n",
       "      <td>Midsize</td>\n",
       "      <td>30.8</td>\n",
       "      <td>37.7</td>\n",
       "      <td>44.6</td>\n",
       "      <td>19</td>\n",
       "      <td>26</td>\n",
       "      <td>Driver &amp; Passenger</td>\n",
       "      <td>Front</td>\n",
       "      <td>6</td>\n",
       "      <td>2.8</td>\n",
       "      <td>172</td>\n",
       "      <td>5500</td>\n",
       "      <td>2535</td>\n",
       "      <td>Yes</td>\n",
       "      <td>21.1</td>\n",
       "      <td>6</td>\n",
       "      <td>193</td>\n",
       "      <td>106</td>\n",
       "      <td>70</td>\n",
       "      <td>37</td>\n",
       "      <td>31.0</td>\n",
       "      <td>17.0</td>\n",
       "      <td>3405</td>\n",
       "      <td>non-USA</td>\n",
       "      <td>Audi 100</td>\n",
       "    </tr>\n",
       "    <tr>\n",
       "      <th>4</th>\n",
       "      <td>5</td>\n",
       "      <td>BMW</td>\n",
       "      <td>535i</td>\n",
       "      <td>Midsize</td>\n",
       "      <td>23.7</td>\n",
       "      <td>30.0</td>\n",
       "      <td>36.2</td>\n",
       "      <td>22</td>\n",
       "      <td>30</td>\n",
       "      <td>Driver only</td>\n",
       "      <td>Rear</td>\n",
       "      <td>4</td>\n",
       "      <td>3.5</td>\n",
       "      <td>208</td>\n",
       "      <td>5700</td>\n",
       "      <td>2545</td>\n",
       "      <td>Yes</td>\n",
       "      <td>21.1</td>\n",
       "      <td>4</td>\n",
       "      <td>186</td>\n",
       "      <td>109</td>\n",
       "      <td>69</td>\n",
       "      <td>39</td>\n",
       "      <td>27.0</td>\n",
       "      <td>13.0</td>\n",
       "      <td>3640</td>\n",
       "      <td>non-USA</td>\n",
       "      <td>BMW 535i</td>\n",
       "    </tr>\n",
       "  </tbody>\n",
       "</table>\n",
       "</div>"
      ],
      "text/plain": [
       "   id Manufacturer    Model     Type  Min.Price  Price  Max.Price  MPG.city  \\\n",
       "0   1        Acura  Integra    Small       12.9   15.9       18.8        25   \n",
       "1   2        Acura   Legend  Midsize       29.2   33.9       38.7        18   \n",
       "2   3         Audi       90  Compact       25.9   29.1       32.3        20   \n",
       "3   4         Audi      100  Midsize       30.8   37.7       44.6        19   \n",
       "4   5          BMW     535i  Midsize       23.7   30.0       36.2        22   \n",
       "\n",
       "   MPG.highway             AirBags DriveTrain Cylinders  EngineSize  \\\n",
       "0           31                None      Front         4         1.8   \n",
       "1           25  Driver & Passenger      Front         6         3.2   \n",
       "2           26         Driver only      Front         6         2.8   \n",
       "3           26  Driver & Passenger      Front         6         2.8   \n",
       "4           30         Driver only       Rear         4         3.5   \n",
       "\n",
       "   Horsepower   RPM  Rev.per.mile Man.trans.avail  Fuel.tank.capacity  \\\n",
       "0         140  6300          2890             Yes                13.2   \n",
       "1         200  5500          2335             Yes                18.0   \n",
       "2         172  5500          2280             Yes                16.9   \n",
       "3         172  5500          2535             Yes                21.1   \n",
       "4         208  5700          2545             Yes                21.1   \n",
       "\n",
       "   Passengers  Length  Wheelbase  Width  Turn.circle  Rear.seat.room  \\\n",
       "0           5     177        102     68           37            26.5   \n",
       "1           5     195        115     71           38            30.0   \n",
       "2           5     180        102     67           37            28.0   \n",
       "3           6     193        106     70           37            31.0   \n",
       "4           4     186        109     69           39            27.0   \n",
       "\n",
       "   Luggage.room  Weight   Origin           Make  \n",
       "0          11.0    2705  non-USA  Acura Integra  \n",
       "1          15.0    3560  non-USA   Acura Legend  \n",
       "2          14.0    3375  non-USA        Audi 90  \n",
       "3          17.0    3405  non-USA       Audi 100  \n",
       "4          13.0    3640  non-USA       BMW 535i  "
      ]
     },
     "execution_count": 1,
     "metadata": {},
     "output_type": "execute_result"
    }
   ],
   "source": [
    "from warnings import filterwarnings\n",
    "filterwarnings(\"ignore\")\n",
    "\n",
    "import pandas as pd\n",
    "\n",
    "pd.set_option(\"max_columns\", 100)\n",
    "\n",
    "A = pd.read_csv(\"F:/DS_ML_AI_Course/START/01_24092021_BOXPLOT/Cars93.csv\")\n",
    "A.head()"
   ]
  },
  {
   "cell_type": "code",
   "execution_count": 2,
   "id": "1a89b2d6",
   "metadata": {},
   "outputs": [
    {
     "name": "stdout",
     "output_type": "stream",
     "text": [
      "<class 'pandas.core.frame.DataFrame'>\n",
      "RangeIndex: 93 entries, 0 to 92\n",
      "Data columns (total 28 columns):\n",
      " #   Column              Non-Null Count  Dtype  \n",
      "---  ------              --------------  -----  \n",
      " 0   id                  93 non-null     int64  \n",
      " 1   Manufacturer        93 non-null     object \n",
      " 2   Model               93 non-null     object \n",
      " 3   Type                93 non-null     object \n",
      " 4   Min.Price           93 non-null     float64\n",
      " 5   Price               93 non-null     float64\n",
      " 6   Max.Price           93 non-null     float64\n",
      " 7   MPG.city            93 non-null     int64  \n",
      " 8   MPG.highway         93 non-null     int64  \n",
      " 9   AirBags             93 non-null     object \n",
      " 10  DriveTrain          93 non-null     object \n",
      " 11  Cylinders           93 non-null     object \n",
      " 12  EngineSize          93 non-null     float64\n",
      " 13  Horsepower          93 non-null     int64  \n",
      " 14  RPM                 93 non-null     int64  \n",
      " 15  Rev.per.mile        93 non-null     int64  \n",
      " 16  Man.trans.avail     93 non-null     object \n",
      " 17  Fuel.tank.capacity  93 non-null     float64\n",
      " 18  Passengers          93 non-null     int64  \n",
      " 19  Length              93 non-null     int64  \n",
      " 20  Wheelbase           93 non-null     int64  \n",
      " 21  Width               93 non-null     int64  \n",
      " 22  Turn.circle         93 non-null     int64  \n",
      " 23  Rear.seat.room      91 non-null     float64\n",
      " 24  Luggage.room        82 non-null     float64\n",
      " 25  Weight              93 non-null     int64  \n",
      " 26  Origin              93 non-null     object \n",
      " 27  Make                93 non-null     object \n",
      "dtypes: float64(7), int64(12), object(9)\n",
      "memory usage: 20.5+ KB\n"
     ]
    }
   ],
   "source": [
    "A.info()"
   ]
  },
  {
   "cell_type": "code",
   "execution_count": 3,
   "id": "b7150a51",
   "metadata": {
    "scrolled": true
   },
   "outputs": [
    {
     "data": {
      "text/plain": [
       "['id',\n",
       " 'Manufacturer',\n",
       " 'Model',\n",
       " 'Type',\n",
       " 'Min.Price',\n",
       " 'Price',\n",
       " 'Max.Price',\n",
       " 'MPG.city',\n",
       " 'MPG.highway',\n",
       " 'AirBags',\n",
       " 'DriveTrain',\n",
       " 'Cylinders',\n",
       " 'EngineSize',\n",
       " 'Horsepower',\n",
       " 'RPM',\n",
       " 'Rev.per.mile',\n",
       " 'Man.trans.avail',\n",
       " 'Fuel.tank.capacity',\n",
       " 'Passengers',\n",
       " 'Length',\n",
       " 'Wheelbase',\n",
       " 'Width',\n",
       " 'Turn.circle',\n",
       " 'Rear.seat.room',\n",
       " 'Luggage.room',\n",
       " 'Weight',\n",
       " 'Origin',\n",
       " 'Make']"
      ]
     },
     "execution_count": 3,
     "metadata": {},
     "output_type": "execute_result"
    }
   ],
   "source": [
    "list(A.columns)"
   ]
  },
  {
   "cell_type": "code",
   "execution_count": 4,
   "id": "b2d753e9",
   "metadata": {},
   "outputs": [],
   "source": [
    "new_col = ['id',\n",
    " 'Manufacturer',\n",
    " 'Model',\n",
    " 'Type',\n",
    " 'Min_Price',\n",
    " 'Price',\n",
    " 'Max_Price',\n",
    " 'MPG_city',\n",
    " 'MPG_highway',\n",
    " 'AirBags',\n",
    " 'DriveTrain',\n",
    " 'Cylinders',\n",
    " 'EngineSize',\n",
    " 'Horsepower',\n",
    " 'RPM',\n",
    " 'Rev_per_mile',\n",
    " 'Man_trans_avail',\n",
    " 'Fuel_tank_capacity',\n",
    " 'Passengers',\n",
    " 'Length',\n",
    " 'Wheelbase',\n",
    " 'Width',\n",
    " 'Turn_circle',\n",
    " 'Rear_seat_room',\n",
    " 'Luggage_room',\n",
    " 'Weight',\n",
    " 'Origin',\n",
    " 'Make']"
   ]
  },
  {
   "cell_type": "code",
   "execution_count": 10,
   "id": "77ca7bc8",
   "metadata": {},
   "outputs": [],
   "source": [
    "A = A.rename(columns= {\"Min.Price\":\"Min_Price\",\"Max.Price\":\"Max_Price\",\"MPG.highway\":\"MPG_highway\",\"MPG.city\":\"MPG_city\",\n",
    "                   \"MPG.highway\":\"MPG_highway\",\"Rev.per.mile\":\"Rev_per_mile\",\"Man.trans.avail\":\"Man_trans_avail\",\n",
    "                   \"Fuel.tank.capacity\":\"Fuel_tank_capacity\",\"Turn.circle\":\"Turn_circle\",\"Rear.seat.room\":\"Rear_seat_room\",\n",
    "                  \"Luggage.room\":\"Luggage_room\"})"
   ]
  },
  {
   "cell_type": "code",
   "execution_count": 11,
   "id": "e4258370",
   "metadata": {},
   "outputs": [
    {
     "data": {
      "text/html": [
       "<div>\n",
       "<style scoped>\n",
       "    .dataframe tbody tr th:only-of-type {\n",
       "        vertical-align: middle;\n",
       "    }\n",
       "\n",
       "    .dataframe tbody tr th {\n",
       "        vertical-align: top;\n",
       "    }\n",
       "\n",
       "    .dataframe thead th {\n",
       "        text-align: right;\n",
       "    }\n",
       "</style>\n",
       "<table border=\"1\" class=\"dataframe\">\n",
       "  <thead>\n",
       "    <tr style=\"text-align: right;\">\n",
       "      <th></th>\n",
       "      <th>id</th>\n",
       "      <th>Manufacturer</th>\n",
       "      <th>Model</th>\n",
       "      <th>Type</th>\n",
       "      <th>Min_Price</th>\n",
       "      <th>Price</th>\n",
       "      <th>Max_Price</th>\n",
       "      <th>MPG_city</th>\n",
       "      <th>MPG_highway</th>\n",
       "      <th>AirBags</th>\n",
       "      <th>DriveTrain</th>\n",
       "      <th>Cylinders</th>\n",
       "      <th>EngineSize</th>\n",
       "      <th>Horsepower</th>\n",
       "      <th>RPM</th>\n",
       "      <th>Rev_per_mile</th>\n",
       "      <th>Man_trans_avail</th>\n",
       "      <th>Fuel_tank_capacity</th>\n",
       "      <th>Passengers</th>\n",
       "      <th>Length</th>\n",
       "      <th>Wheelbase</th>\n",
       "      <th>Width</th>\n",
       "      <th>Turn_circle</th>\n",
       "      <th>Rear_seat_room</th>\n",
       "      <th>Luggage_room</th>\n",
       "      <th>Weight</th>\n",
       "      <th>Origin</th>\n",
       "      <th>Make</th>\n",
       "    </tr>\n",
       "  </thead>\n",
       "  <tbody>\n",
       "    <tr>\n",
       "      <th>0</th>\n",
       "      <td>1</td>\n",
       "      <td>Acura</td>\n",
       "      <td>Integra</td>\n",
       "      <td>Small</td>\n",
       "      <td>12.9</td>\n",
       "      <td>15.9</td>\n",
       "      <td>18.8</td>\n",
       "      <td>25</td>\n",
       "      <td>31</td>\n",
       "      <td>None</td>\n",
       "      <td>Front</td>\n",
       "      <td>4</td>\n",
       "      <td>1.8</td>\n",
       "      <td>140</td>\n",
       "      <td>6300</td>\n",
       "      <td>2890</td>\n",
       "      <td>Yes</td>\n",
       "      <td>13.2</td>\n",
       "      <td>5</td>\n",
       "      <td>177</td>\n",
       "      <td>102</td>\n",
       "      <td>68</td>\n",
       "      <td>37</td>\n",
       "      <td>26.5</td>\n",
       "      <td>11.0</td>\n",
       "      <td>2705</td>\n",
       "      <td>non-USA</td>\n",
       "      <td>Acura Integra</td>\n",
       "    </tr>\n",
       "    <tr>\n",
       "      <th>1</th>\n",
       "      <td>2</td>\n",
       "      <td>Acura</td>\n",
       "      <td>Legend</td>\n",
       "      <td>Midsize</td>\n",
       "      <td>29.2</td>\n",
       "      <td>33.9</td>\n",
       "      <td>38.7</td>\n",
       "      <td>18</td>\n",
       "      <td>25</td>\n",
       "      <td>Driver &amp; Passenger</td>\n",
       "      <td>Front</td>\n",
       "      <td>6</td>\n",
       "      <td>3.2</td>\n",
       "      <td>200</td>\n",
       "      <td>5500</td>\n",
       "      <td>2335</td>\n",
       "      <td>Yes</td>\n",
       "      <td>18.0</td>\n",
       "      <td>5</td>\n",
       "      <td>195</td>\n",
       "      <td>115</td>\n",
       "      <td>71</td>\n",
       "      <td>38</td>\n",
       "      <td>30.0</td>\n",
       "      <td>15.0</td>\n",
       "      <td>3560</td>\n",
       "      <td>non-USA</td>\n",
       "      <td>Acura Legend</td>\n",
       "    </tr>\n",
       "    <tr>\n",
       "      <th>2</th>\n",
       "      <td>3</td>\n",
       "      <td>Audi</td>\n",
       "      <td>90</td>\n",
       "      <td>Compact</td>\n",
       "      <td>25.9</td>\n",
       "      <td>29.1</td>\n",
       "      <td>32.3</td>\n",
       "      <td>20</td>\n",
       "      <td>26</td>\n",
       "      <td>Driver only</td>\n",
       "      <td>Front</td>\n",
       "      <td>6</td>\n",
       "      <td>2.8</td>\n",
       "      <td>172</td>\n",
       "      <td>5500</td>\n",
       "      <td>2280</td>\n",
       "      <td>Yes</td>\n",
       "      <td>16.9</td>\n",
       "      <td>5</td>\n",
       "      <td>180</td>\n",
       "      <td>102</td>\n",
       "      <td>67</td>\n",
       "      <td>37</td>\n",
       "      <td>28.0</td>\n",
       "      <td>14.0</td>\n",
       "      <td>3375</td>\n",
       "      <td>non-USA</td>\n",
       "      <td>Audi 90</td>\n",
       "    </tr>\n",
       "    <tr>\n",
       "      <th>3</th>\n",
       "      <td>4</td>\n",
       "      <td>Audi</td>\n",
       "      <td>100</td>\n",
       "      <td>Midsize</td>\n",
       "      <td>30.8</td>\n",
       "      <td>37.7</td>\n",
       "      <td>44.6</td>\n",
       "      <td>19</td>\n",
       "      <td>26</td>\n",
       "      <td>Driver &amp; Passenger</td>\n",
       "      <td>Front</td>\n",
       "      <td>6</td>\n",
       "      <td>2.8</td>\n",
       "      <td>172</td>\n",
       "      <td>5500</td>\n",
       "      <td>2535</td>\n",
       "      <td>Yes</td>\n",
       "      <td>21.1</td>\n",
       "      <td>6</td>\n",
       "      <td>193</td>\n",
       "      <td>106</td>\n",
       "      <td>70</td>\n",
       "      <td>37</td>\n",
       "      <td>31.0</td>\n",
       "      <td>17.0</td>\n",
       "      <td>3405</td>\n",
       "      <td>non-USA</td>\n",
       "      <td>Audi 100</td>\n",
       "    </tr>\n",
       "    <tr>\n",
       "      <th>4</th>\n",
       "      <td>5</td>\n",
       "      <td>BMW</td>\n",
       "      <td>535i</td>\n",
       "      <td>Midsize</td>\n",
       "      <td>23.7</td>\n",
       "      <td>30.0</td>\n",
       "      <td>36.2</td>\n",
       "      <td>22</td>\n",
       "      <td>30</td>\n",
       "      <td>Driver only</td>\n",
       "      <td>Rear</td>\n",
       "      <td>4</td>\n",
       "      <td>3.5</td>\n",
       "      <td>208</td>\n",
       "      <td>5700</td>\n",
       "      <td>2545</td>\n",
       "      <td>Yes</td>\n",
       "      <td>21.1</td>\n",
       "      <td>4</td>\n",
       "      <td>186</td>\n",
       "      <td>109</td>\n",
       "      <td>69</td>\n",
       "      <td>39</td>\n",
       "      <td>27.0</td>\n",
       "      <td>13.0</td>\n",
       "      <td>3640</td>\n",
       "      <td>non-USA</td>\n",
       "      <td>BMW 535i</td>\n",
       "    </tr>\n",
       "  </tbody>\n",
       "</table>\n",
       "</div>"
      ],
      "text/plain": [
       "   id Manufacturer    Model     Type  Min_Price  Price  Max_Price  MPG_city  \\\n",
       "0   1        Acura  Integra    Small       12.9   15.9       18.8        25   \n",
       "1   2        Acura   Legend  Midsize       29.2   33.9       38.7        18   \n",
       "2   3         Audi       90  Compact       25.9   29.1       32.3        20   \n",
       "3   4         Audi      100  Midsize       30.8   37.7       44.6        19   \n",
       "4   5          BMW     535i  Midsize       23.7   30.0       36.2        22   \n",
       "\n",
       "   MPG_highway             AirBags DriveTrain Cylinders  EngineSize  \\\n",
       "0           31                None      Front         4         1.8   \n",
       "1           25  Driver & Passenger      Front         6         3.2   \n",
       "2           26         Driver only      Front         6         2.8   \n",
       "3           26  Driver & Passenger      Front         6         2.8   \n",
       "4           30         Driver only       Rear         4         3.5   \n",
       "\n",
       "   Horsepower   RPM  Rev_per_mile Man_trans_avail  Fuel_tank_capacity  \\\n",
       "0         140  6300          2890             Yes                13.2   \n",
       "1         200  5500          2335             Yes                18.0   \n",
       "2         172  5500          2280             Yes                16.9   \n",
       "3         172  5500          2535             Yes                21.1   \n",
       "4         208  5700          2545             Yes                21.1   \n",
       "\n",
       "   Passengers  Length  Wheelbase  Width  Turn_circle  Rear_seat_room  \\\n",
       "0           5     177        102     68           37            26.5   \n",
       "1           5     195        115     71           38            30.0   \n",
       "2           5     180        102     67           37            28.0   \n",
       "3           6     193        106     70           37            31.0   \n",
       "4           4     186        109     69           39            27.0   \n",
       "\n",
       "   Luggage_room  Weight   Origin           Make  \n",
       "0          11.0    2705  non-USA  Acura Integra  \n",
       "1          15.0    3560  non-USA   Acura Legend  \n",
       "2          14.0    3375  non-USA        Audi 90  \n",
       "3          17.0    3405  non-USA       Audi 100  \n",
       "4          13.0    3640  non-USA       BMW 535i  "
      ]
     },
     "execution_count": 11,
     "metadata": {},
     "output_type": "execute_result"
    }
   ],
   "source": [
    "A.head()"
   ]
  },
  {
   "cell_type": "markdown",
   "id": "c1c81325",
   "metadata": {},
   "source": [
    "# missing data treatment"
   ]
  },
  {
   "cell_type": "code",
   "execution_count": 12,
   "id": "82ce888d",
   "metadata": {},
   "outputs": [
    {
     "data": {
      "text/plain": [
       "id                     0\n",
       "Manufacturer           0\n",
       "Model                  0\n",
       "Type                   0\n",
       "Min_Price              0\n",
       "Price                  0\n",
       "Max_Price              0\n",
       "MPG_city               0\n",
       "MPG_highway            0\n",
       "AirBags                0\n",
       "DriveTrain             0\n",
       "Cylinders              0\n",
       "EngineSize             0\n",
       "Horsepower             0\n",
       "RPM                    0\n",
       "Rev_per_mile           0\n",
       "Man_trans_avail        0\n",
       "Fuel_tank_capacity     0\n",
       "Passengers             0\n",
       "Length                 0\n",
       "Wheelbase              0\n",
       "Width                  0\n",
       "Turn_circle            0\n",
       "Rear_seat_room         2\n",
       "Luggage_room          11\n",
       "Weight                 0\n",
       "Origin                 0\n",
       "Make                   0\n",
       "dtype: int64"
      ]
     },
     "execution_count": 12,
     "metadata": {},
     "output_type": "execute_result"
    }
   ],
   "source": [
    "A.isna().sum()"
   ]
  },
  {
   "cell_type": "code",
   "execution_count": 13,
   "id": "b014fcca",
   "metadata": {},
   "outputs": [],
   "source": [
    "from PM8 import replacer\n",
    "replacer(A)"
   ]
  },
  {
   "cell_type": "code",
   "execution_count": 14,
   "id": "32aa400a",
   "metadata": {},
   "outputs": [
    {
     "data": {
      "text/plain": [
       "id                    0\n",
       "Manufacturer          0\n",
       "Model                 0\n",
       "Type                  0\n",
       "Min_Price             0\n",
       "Price                 0\n",
       "Max_Price             0\n",
       "MPG_city              0\n",
       "MPG_highway           0\n",
       "AirBags               0\n",
       "DriveTrain            0\n",
       "Cylinders             0\n",
       "EngineSize            0\n",
       "Horsepower            0\n",
       "RPM                   0\n",
       "Rev_per_mile          0\n",
       "Man_trans_avail       0\n",
       "Fuel_tank_capacity    0\n",
       "Passengers            0\n",
       "Length                0\n",
       "Wheelbase             0\n",
       "Width                 0\n",
       "Turn_circle           0\n",
       "Rear_seat_room        0\n",
       "Luggage_room          0\n",
       "Weight                0\n",
       "Origin                0\n",
       "Make                  0\n",
       "dtype: int64"
      ]
     },
     "execution_count": 14,
     "metadata": {},
     "output_type": "execute_result"
    }
   ],
   "source": [
    "A.isna().sum()"
   ]
  },
  {
   "cell_type": "code",
   "execution_count": 16,
   "id": "97f6b138",
   "metadata": {},
   "outputs": [],
   "source": [
    "Y = A[\"Type\"]\n",
    "X = A.drop([\"id\", \"Manufacturer\", \"Make\", \"Model\", \"Min_Price\", \"Max_Price\", \"Type\"], axis=1)"
   ]
  },
  {
   "cell_type": "markdown",
   "id": "fb937b71",
   "metadata": {},
   "source": [
    "# Exploratory Data Analysis"
   ]
  },
  {
   "cell_type": "code",
   "execution_count": 17,
   "id": "be46df08",
   "metadata": {},
   "outputs": [],
   "source": [
    "cat = []\n",
    "con = []\n",
    "for i in X.columns:\n",
    "    if(X[i].dtypes == \"object\"):\n",
    "        cat.append(i)\n",
    "    else:\n",
    "        con.append(i)"
   ]
  },
  {
   "cell_type": "code",
   "execution_count": 18,
   "id": "5e7be9f5",
   "metadata": {},
   "outputs": [
    {
     "data": {
      "text/plain": [
       "['AirBags', 'DriveTrain', 'Cylinders', 'Man_trans_avail', 'Origin']"
      ]
     },
     "execution_count": 18,
     "metadata": {},
     "output_type": "execute_result"
    }
   ],
   "source": [
    "cat"
   ]
  },
  {
   "cell_type": "code",
   "execution_count": 19,
   "id": "7c1aa2e7",
   "metadata": {},
   "outputs": [
    {
     "data": {
      "text/plain": [
       "['Price',\n",
       " 'MPG_city',\n",
       " 'MPG_highway',\n",
       " 'EngineSize',\n",
       " 'Horsepower',\n",
       " 'RPM',\n",
       " 'Rev_per_mile',\n",
       " 'Fuel_tank_capacity',\n",
       " 'Passengers',\n",
       " 'Length',\n",
       " 'Wheelbase',\n",
       " 'Width',\n",
       " 'Turn_circle',\n",
       " 'Rear_seat_room',\n",
       " 'Luggage_room',\n",
       " 'Weight']"
      ]
     },
     "execution_count": 19,
     "metadata": {},
     "output_type": "execute_result"
    }
   ],
   "source": [
    "con"
   ]
  },
  {
   "cell_type": "code",
   "execution_count": 20,
   "id": "e3351621",
   "metadata": {},
   "outputs": [
    {
     "data": {
      "text/html": [
       "<div>\n",
       "<style scoped>\n",
       "    .dataframe tbody tr th:only-of-type {\n",
       "        vertical-align: middle;\n",
       "    }\n",
       "\n",
       "    .dataframe tbody tr th {\n",
       "        vertical-align: top;\n",
       "    }\n",
       "\n",
       "    .dataframe thead th {\n",
       "        text-align: right;\n",
       "    }\n",
       "</style>\n",
       "<table border=\"1\" class=\"dataframe\">\n",
       "  <thead>\n",
       "    <tr style=\"text-align: right;\">\n",
       "      <th></th>\n",
       "      <th>AirBags</th>\n",
       "      <th>DriveTrain</th>\n",
       "      <th>Cylinders</th>\n",
       "      <th>Man_trans_avail</th>\n",
       "      <th>Origin</th>\n",
       "    </tr>\n",
       "  </thead>\n",
       "  <tbody>\n",
       "    <tr>\n",
       "      <th>0</th>\n",
       "      <td>None</td>\n",
       "      <td>Front</td>\n",
       "      <td>4</td>\n",
       "      <td>Yes</td>\n",
       "      <td>non-USA</td>\n",
       "    </tr>\n",
       "    <tr>\n",
       "      <th>1</th>\n",
       "      <td>Driver &amp; Passenger</td>\n",
       "      <td>Front</td>\n",
       "      <td>6</td>\n",
       "      <td>Yes</td>\n",
       "      <td>non-USA</td>\n",
       "    </tr>\n",
       "    <tr>\n",
       "      <th>2</th>\n",
       "      <td>Driver only</td>\n",
       "      <td>Front</td>\n",
       "      <td>6</td>\n",
       "      <td>Yes</td>\n",
       "      <td>non-USA</td>\n",
       "    </tr>\n",
       "  </tbody>\n",
       "</table>\n",
       "</div>"
      ],
      "text/plain": [
       "              AirBags DriveTrain Cylinders Man_trans_avail   Origin\n",
       "0                None      Front         4             Yes  non-USA\n",
       "1  Driver & Passenger      Front         6             Yes  non-USA\n",
       "2         Driver only      Front         6             Yes  non-USA"
      ]
     },
     "execution_count": 20,
     "metadata": {},
     "output_type": "execute_result"
    }
   ],
   "source": [
    "X[cat].head(3)"
   ]
  },
  {
   "cell_type": "code",
   "execution_count": 21,
   "id": "c84b57e6",
   "metadata": {},
   "outputs": [
    {
     "data": {
      "text/html": [
       "<div>\n",
       "<style scoped>\n",
       "    .dataframe tbody tr th:only-of-type {\n",
       "        vertical-align: middle;\n",
       "    }\n",
       "\n",
       "    .dataframe tbody tr th {\n",
       "        vertical-align: top;\n",
       "    }\n",
       "\n",
       "    .dataframe thead th {\n",
       "        text-align: right;\n",
       "    }\n",
       "</style>\n",
       "<table border=\"1\" class=\"dataframe\">\n",
       "  <thead>\n",
       "    <tr style=\"text-align: right;\">\n",
       "      <th></th>\n",
       "      <th>Price</th>\n",
       "      <th>MPG_city</th>\n",
       "      <th>MPG_highway</th>\n",
       "      <th>EngineSize</th>\n",
       "      <th>Horsepower</th>\n",
       "      <th>RPM</th>\n",
       "      <th>Rev_per_mile</th>\n",
       "      <th>Fuel_tank_capacity</th>\n",
       "      <th>Passengers</th>\n",
       "      <th>Length</th>\n",
       "      <th>Wheelbase</th>\n",
       "      <th>Width</th>\n",
       "      <th>Turn_circle</th>\n",
       "      <th>Rear_seat_room</th>\n",
       "      <th>Luggage_room</th>\n",
       "      <th>Weight</th>\n",
       "    </tr>\n",
       "  </thead>\n",
       "  <tbody>\n",
       "    <tr>\n",
       "      <th>0</th>\n",
       "      <td>15.9</td>\n",
       "      <td>25</td>\n",
       "      <td>31</td>\n",
       "      <td>1.8</td>\n",
       "      <td>140</td>\n",
       "      <td>6300</td>\n",
       "      <td>2890</td>\n",
       "      <td>13.2</td>\n",
       "      <td>5</td>\n",
       "      <td>177</td>\n",
       "      <td>102</td>\n",
       "      <td>68</td>\n",
       "      <td>37</td>\n",
       "      <td>26.5</td>\n",
       "      <td>11.0</td>\n",
       "      <td>2705</td>\n",
       "    </tr>\n",
       "    <tr>\n",
       "      <th>1</th>\n",
       "      <td>33.9</td>\n",
       "      <td>18</td>\n",
       "      <td>25</td>\n",
       "      <td>3.2</td>\n",
       "      <td>200</td>\n",
       "      <td>5500</td>\n",
       "      <td>2335</td>\n",
       "      <td>18.0</td>\n",
       "      <td>5</td>\n",
       "      <td>195</td>\n",
       "      <td>115</td>\n",
       "      <td>71</td>\n",
       "      <td>38</td>\n",
       "      <td>30.0</td>\n",
       "      <td>15.0</td>\n",
       "      <td>3560</td>\n",
       "    </tr>\n",
       "    <tr>\n",
       "      <th>2</th>\n",
       "      <td>29.1</td>\n",
       "      <td>20</td>\n",
       "      <td>26</td>\n",
       "      <td>2.8</td>\n",
       "      <td>172</td>\n",
       "      <td>5500</td>\n",
       "      <td>2280</td>\n",
       "      <td>16.9</td>\n",
       "      <td>5</td>\n",
       "      <td>180</td>\n",
       "      <td>102</td>\n",
       "      <td>67</td>\n",
       "      <td>37</td>\n",
       "      <td>28.0</td>\n",
       "      <td>14.0</td>\n",
       "      <td>3375</td>\n",
       "    </tr>\n",
       "  </tbody>\n",
       "</table>\n",
       "</div>"
      ],
      "text/plain": [
       "   Price  MPG_city  MPG_highway  EngineSize  Horsepower   RPM  Rev_per_mile  \\\n",
       "0   15.9        25           31         1.8         140  6300          2890   \n",
       "1   33.9        18           25         3.2         200  5500          2335   \n",
       "2   29.1        20           26         2.8         172  5500          2280   \n",
       "\n",
       "   Fuel_tank_capacity  Passengers  Length  Wheelbase  Width  Turn_circle  \\\n",
       "0                13.2           5     177        102     68           37   \n",
       "1                18.0           5     195        115     71           38   \n",
       "2                16.9           5     180        102     67           37   \n",
       "\n",
       "   Rear_seat_room  Luggage_room  Weight  \n",
       "0            26.5          11.0    2705  \n",
       "1            30.0          15.0    3560  \n",
       "2            28.0          14.0    3375  "
      ]
     },
     "execution_count": 21,
     "metadata": {},
     "output_type": "execute_result"
    }
   ],
   "source": [
    "X[con].head(3)"
   ]
  },
  {
   "cell_type": "code",
   "execution_count": 26,
   "id": "f9d4c297",
   "metadata": {},
   "outputs": [],
   "source": [
    "def ANOVA(df,cat,con):\n",
    "    from pandas import DataFrame\n",
    "    from statsmodels.formula.api import ols\n",
    "    rel = con + \" ~ \" + cat\n",
    "    model = ols(rel,df).fit()\n",
    "    from statsmodels.stats.anova import anova_lm\n",
    "    anova_results = anova_lm(model)\n",
    "    Q = DataFrame(anova_results)\n",
    "    a = Q['PR(>F)'][cat]\n",
    "    return round(a,3)"
   ]
  },
  {
   "cell_type": "code",
   "execution_count": 27,
   "id": "72efc74f",
   "metadata": {},
   "outputs": [
    {
     "name": "stdout",
     "output_type": "stream",
     "text": [
      "--------Type vs Price ----------\n",
      "0.0\n",
      "--------Type vs MPG_city ----------\n",
      "0.0\n",
      "--------Type vs MPG_highway ----------\n",
      "0.0\n",
      "--------Type vs EngineSize ----------\n",
      "0.0\n",
      "--------Type vs Horsepower ----------\n",
      "0.0\n",
      "--------Type vs RPM ----------\n",
      "0.0\n",
      "--------Type vs Rev_per_mile ----------\n",
      "0.0\n",
      "--------Type vs Fuel_tank_capacity ----------\n",
      "0.0\n",
      "--------Type vs Passengers ----------\n",
      "0.0\n",
      "--------Type vs Length ----------\n",
      "0.0\n",
      "--------Type vs Wheelbase ----------\n",
      "0.0\n",
      "--------Type vs Width ----------\n",
      "0.0\n",
      "--------Type vs Turn_circle ----------\n",
      "0.0\n",
      "--------Type vs Rear_seat_room ----------\n",
      "0.0\n",
      "--------Type vs Luggage_room ----------\n",
      "0.0\n",
      "--------Type vs Weight ----------\n",
      "0.0\n"
     ]
    }
   ],
   "source": [
    "imp_cols = []\n",
    "for i in con:\n",
    "    print(\"--------Type vs\",i,\"----------\")\n",
    "    x = ANOVA(A,\"Type\",i)\n",
    "    print(x)\n",
    "    if(x < 0.05):\n",
    "        imp_cols.append(i)"
   ]
  },
  {
   "cell_type": "code",
   "execution_count": 28,
   "id": "d08b9fce",
   "metadata": {},
   "outputs": [
    {
     "data": {
      "text/plain": [
       "['Price',\n",
       " 'MPG_city',\n",
       " 'MPG_highway',\n",
       " 'EngineSize',\n",
       " 'Horsepower',\n",
       " 'RPM',\n",
       " 'Rev_per_mile',\n",
       " 'Fuel_tank_capacity',\n",
       " 'Passengers',\n",
       " 'Length',\n",
       " 'Wheelbase',\n",
       " 'Width',\n",
       " 'Turn_circle',\n",
       " 'Rear_seat_room',\n",
       " 'Luggage_room',\n",
       " 'Weight']"
      ]
     },
     "execution_count": 28,
     "metadata": {},
     "output_type": "execute_result"
    }
   ],
   "source": [
    "imp_cols"
   ]
  },
  {
   "cell_type": "code",
   "execution_count": 29,
   "id": "0b1eb3fd",
   "metadata": {},
   "outputs": [
    {
     "name": "stdout",
     "output_type": "stream",
     "text": [
      "----------Type vs AirBags ----------\n",
      "\n",
      "AirBags  Driver & Passenger  Driver only  None\n",
      "Type                                          \n",
      "Compact                   2            9     5\n",
      "Large                     4            7     0\n",
      "Midsize                   7           11     4\n",
      "Small                     0            5    16\n",
      "Sporty                    3            8     3\n",
      "Van                       0            3     6\n",
      "\n",
      "\n",
      "----------Type vs DriveTrain ----------\n",
      "\n",
      "DriveTrain  4WD  Front  Rear\n",
      "Type                        \n",
      "Compact       1     13     2\n",
      "Large         0      7     4\n",
      "Midsize       0     17     5\n",
      "Small         2     19     0\n",
      "Sporty        2      7     5\n",
      "Van           5      4     0\n",
      "\n",
      "\n",
      "----------Type vs Cylinders ----------\n",
      "\n",
      "Cylinders  3   4  5   6  8  rotary\n",
      "Type                              \n",
      "Compact    0  15  0   1  0       0\n",
      "Large      0   0  0   7  4       0\n",
      "Midsize    0   7  1  12  2       0\n",
      "Small      3  18  0   0  0       0\n",
      "Sporty     0   8  0   4  1       1\n",
      "Van        0   1  1   7  0       0\n",
      "\n",
      "\n",
      "----------Type vs Man_trans_avail ----------\n",
      "\n",
      "Man_trans_avail  No  Yes\n",
      "Type                    \n",
      "Compact           2   14\n",
      "Large            11    0\n",
      "Midsize          13    9\n",
      "Small             0   21\n",
      "Sporty            0   14\n",
      "Van               6    3\n",
      "\n",
      "\n",
      "----------Type vs Origin ----------\n",
      "\n",
      "Origin   USA  non-USA\n",
      "Type                 \n",
      "Compact    7        9\n",
      "Large     11        0\n",
      "Midsize   10       12\n",
      "Small      7       14\n",
      "Sporty     8        6\n",
      "Van        5        4\n",
      "\n",
      "\n"
     ]
    }
   ],
   "source": [
    "for i in cat:\n",
    "    print(\"----------Type vs\",i,\"----------\\n\")\n",
    "    print(pd.crosstab(A.Type,A[i]))\n",
    "    print(\"\\n\")"
   ]
  },
  {
   "cell_type": "code",
   "execution_count": 30,
   "id": "9782017a",
   "metadata": {},
   "outputs": [
    {
     "name": "stdout",
     "output_type": "stream",
     "text": [
      "AirBags 0.9945\n",
      "DriveTrain 0.9903\n",
      "Cylinders 1.0\n",
      "Man_trans_avail 0.6075\n",
      "Origin 0.9541\n"
     ]
    }
   ],
   "source": [
    "from scipy.stats import chi2_contingency\n",
    "for i in cat:\n",
    "    ct = pd.crosstab(A.Type,A[i],normalize=\"index\")\n",
    "    a,b,c,d = chi2_contingency(ct)\n",
    "    print(i,round(b,4))"
   ]
  },
  {
   "cell_type": "code",
   "execution_count": 31,
   "id": "71b96a27",
   "metadata": {},
   "outputs": [],
   "source": [
    "imp_cols.extend([\"Man_trans_avail\"])"
   ]
  },
  {
   "cell_type": "code",
   "execution_count": 32,
   "id": "a1eb7420",
   "metadata": {},
   "outputs": [
    {
     "data": {
      "text/plain": [
       "['Price',\n",
       " 'MPG_city',\n",
       " 'MPG_highway',\n",
       " 'EngineSize',\n",
       " 'Horsepower',\n",
       " 'RPM',\n",
       " 'Rev_per_mile',\n",
       " 'Fuel_tank_capacity',\n",
       " 'Passengers',\n",
       " 'Length',\n",
       " 'Wheelbase',\n",
       " 'Width',\n",
       " 'Turn_circle',\n",
       " 'Rear_seat_room',\n",
       " 'Luggage_room',\n",
       " 'Weight',\n",
       " 'Man_trans_avail']"
      ]
     },
     "execution_count": 32,
     "metadata": {},
     "output_type": "execute_result"
    }
   ],
   "source": [
    "imp_cols"
   ]
  },
  {
   "cell_type": "markdown",
   "id": "06c4428c",
   "metadata": {},
   "source": [
    "# preprocessing"
   ]
  },
  {
   "cell_type": "code",
   "execution_count": 33,
   "id": "91902def",
   "metadata": {},
   "outputs": [],
   "source": [
    "from PM8 import preprocessing\n",
    "Xnew = preprocessing(X[imp_cols])"
   ]
  },
  {
   "cell_type": "markdown",
   "id": "7afd6a85",
   "metadata": {},
   "source": [
    "# split the data in training and testing set"
   ]
  },
  {
   "cell_type": "code",
   "execution_count": 34,
   "id": "92a98e1f",
   "metadata": {},
   "outputs": [],
   "source": [
    "from sklearn.model_selection import train_test_split\n",
    "xtrain,xtest,ytrain,ytest=train_test_split(Xnew,Y,test_size=0.2,random_state=21)"
   ]
  },
  {
   "cell_type": "markdown",
   "id": "74c4676d",
   "metadata": {},
   "source": [
    "# simple tree"
   ]
  },
  {
   "cell_type": "code",
   "execution_count": 35,
   "id": "e48117e3",
   "metadata": {},
   "outputs": [
    {
     "name": "stdout",
     "output_type": "stream",
     "text": [
      "Training_Accuracy:  1.0\n",
      "Testing_Accuracy:  0.5789473684210527\n"
     ]
    }
   ],
   "source": [
    "from sklearn.tree import DecisionTreeClassifier\n",
    "dtc = DecisionTreeClassifier(random_state=21)\n",
    "\n",
    "model = dtc.fit(xtrain, ytrain)\n",
    "pred_tr = model.predict(xtrain)\n",
    "pred_ts = model.predict(xtest)\n",
    "\n",
    "from sklearn.metrics import accuracy_score\n",
    "tr_err = accuracy_score(ytrain, pred_tr)\n",
    "ts_err = accuracy_score(ytest, pred_ts)\n",
    "print(\"Training_Accuracy: \", tr_err)\n",
    "print(\"Testing_Accuracy: \", ts_err)"
   ]
  },
  {
   "cell_type": "markdown",
   "id": "52564865",
   "metadata": {},
   "source": [
    "# pruned tree with max depth"
   ]
  },
  {
   "cell_type": "code",
   "execution_count": 36,
   "id": "d7495600",
   "metadata": {},
   "outputs": [
    {
     "data": {
      "text/plain": [
       "{'max_depth': 3}"
      ]
     },
     "execution_count": 36,
     "metadata": {},
     "output_type": "execute_result"
    }
   ],
   "source": [
    "from sklearn.model_selection import GridSearchCV\n",
    "tg = {\"max_depth\":range(2, 25, 1)}\n",
    "cv = GridSearchCV(dtc, tg, scoring= \"accuracy\", cv = 3)\n",
    "cvmodel = cv.fit(xtrain,ytrain)\n",
    "cvmodel.best_params_"
   ]
  },
  {
   "cell_type": "code",
   "execution_count": 37,
   "id": "d2ea7eb5",
   "metadata": {},
   "outputs": [
    {
     "name": "stdout",
     "output_type": "stream",
     "text": [
      "Training_Accuracy:  0.8378378378378378\n",
      "Testing_Accuracy:  0.47368421052631576\n"
     ]
    }
   ],
   "source": [
    "dtc = DecisionTreeClassifier(random_state=21, max_depth= 3)\n",
    "\n",
    "model = dtc.fit(xtrain, ytrain)\n",
    "pred_tr = model.predict(xtrain)\n",
    "pred_ts = model.predict(xtest)\n",
    "\n",
    "from sklearn.metrics import accuracy_score\n",
    "tr_err = accuracy_score(ytrain, pred_tr)\n",
    "ts_err = accuracy_score(ytest, pred_ts)\n",
    "print(\"Training_Accuracy: \", tr_err)\n",
    "print(\"Testing_Accuracy: \", ts_err)"
   ]
  },
  {
   "cell_type": "markdown",
   "id": "5418fa38",
   "metadata": {},
   "source": [
    "# pruned tree with min samples leaf"
   ]
  },
  {
   "cell_type": "code",
   "execution_count": 38,
   "id": "e9d023a2",
   "metadata": {},
   "outputs": [
    {
     "data": {
      "text/plain": [
       "{'min_samples_leaf': 6}"
      ]
     },
     "execution_count": 38,
     "metadata": {},
     "output_type": "execute_result"
    }
   ],
   "source": [
    "dtc = DecisionTreeClassifier(random_state=21)\n",
    "from sklearn.model_selection import GridSearchCV\n",
    "tg = {\"min_samples_leaf\":range(2, 25, 1)}\n",
    "cv = GridSearchCV(dtc, tg, scoring= \"accuracy\", cv = 3)\n",
    "cvmodel = cv.fit(xtrain,ytrain)\n",
    "cvmodel.best_params_"
   ]
  },
  {
   "cell_type": "code",
   "execution_count": 39,
   "id": "09633089",
   "metadata": {},
   "outputs": [
    {
     "name": "stdout",
     "output_type": "stream",
     "text": [
      "Training_Accuracy:  0.8783783783783784\n",
      "Testing_Accuracy:  0.5263157894736842\n"
     ]
    }
   ],
   "source": [
    "dtc = DecisionTreeClassifier(random_state=21, min_samples_leaf = 6)\n",
    "\n",
    "model = dtc.fit(xtrain, ytrain)\n",
    "pred_tr = model.predict(xtrain)\n",
    "pred_ts = model.predict(xtest)\n",
    "\n",
    "from sklearn.metrics import accuracy_score\n",
    "tr_err = accuracy_score(ytrain, pred_tr)\n",
    "ts_err = accuracy_score(ytest, pred_ts)\n",
    "print(\"Training_Accuracy: \", tr_err)\n",
    "print(\"Testing_Accuracy: \", ts_err)"
   ]
  },
  {
   "cell_type": "markdown",
   "id": "5a68b9e2",
   "metadata": {},
   "source": [
    "# pruned tree with min samples used for splitting"
   ]
  },
  {
   "cell_type": "code",
   "execution_count": 40,
   "id": "7af1df48",
   "metadata": {},
   "outputs": [
    {
     "data": {
      "text/plain": [
       "{'min_samples_split': 15}"
      ]
     },
     "execution_count": 40,
     "metadata": {},
     "output_type": "execute_result"
    }
   ],
   "source": [
    "dtc = DecisionTreeClassifier(random_state=21)\n",
    "from sklearn.model_selection import GridSearchCV\n",
    "tg = {\"min_samples_split\":range(3, 25, 1)}\n",
    "cv = GridSearchCV(dtc, tg, scoring= \"accuracy\", cv = 3)\n",
    "cvmodel = cv.fit(xtrain,ytrain)\n",
    "cvmodel.best_params_"
   ]
  },
  {
   "cell_type": "code",
   "execution_count": 41,
   "id": "09a41aa5",
   "metadata": {},
   "outputs": [
    {
     "name": "stdout",
     "output_type": "stream",
     "text": [
      "Training_Accuracy:  0.9459459459459459\n",
      "Testing_Accuracy:  0.5789473684210527\n"
     ]
    }
   ],
   "source": [
    "dtc = DecisionTreeClassifier(random_state=21, min_samples_split = 15)\n",
    "\n",
    "model = dtc.fit(xtrain, ytrain)\n",
    "pred_tr = model.predict(xtrain)\n",
    "pred_ts = model.predict(xtest)\n",
    "\n",
    "from sklearn.metrics import accuracy_score\n",
    "tr_err = accuracy_score(ytrain, pred_tr)\n",
    "ts_err = accuracy_score(ytest, pred_ts)\n",
    "print(\"Training_Accuracy: \", tr_err)\n",
    "print(\"Testing_Accuracy: \", ts_err)"
   ]
  },
  {
   "cell_type": "markdown",
   "id": "b32bc65f",
   "metadata": {},
   "source": [
    "# random forest"
   ]
  },
  {
   "cell_type": "code",
   "execution_count": 42,
   "id": "7579db53",
   "metadata": {},
   "outputs": [
    {
     "name": "stdout",
     "output_type": "stream",
     "text": [
      "Training_Accuracy:  1.0\n",
      "Testing_Accuracy:  0.7894736842105263\n"
     ]
    }
   ],
   "source": [
    "from sklearn.ensemble import RandomForestClassifier\n",
    "rfc = RandomForestClassifier(random_state= 21)\n",
    "\n",
    "model = rfc.fit(xtrain, ytrain)\n",
    "pred_tr = model.predict(xtrain)\n",
    "pred_ts = model.predict(xtest)\n",
    "\n",
    "from sklearn.metrics import accuracy_score\n",
    "tr_err = accuracy_score(ytrain, pred_tr)\n",
    "ts_err = accuracy_score(ytest, pred_ts)\n",
    "print(\"Training_Accuracy: \", tr_err)\n",
    "print(\"Testing_Accuracy: \", ts_err)"
   ]
  },
  {
   "cell_type": "markdown",
   "id": "e0a1389d",
   "metadata": {},
   "source": [
    "# random forest with max depth"
   ]
  },
  {
   "cell_type": "code",
   "execution_count": 43,
   "id": "3543e369",
   "metadata": {},
   "outputs": [
    {
     "data": {
      "text/plain": [
       "{'max_depth': 5}"
      ]
     },
     "execution_count": 43,
     "metadata": {},
     "output_type": "execute_result"
    }
   ],
   "source": [
    "from sklearn.model_selection import GridSearchCV\n",
    "tg = {\"max_depth\":range(2, 25, 1)}\n",
    "cv = GridSearchCV(rfc, tg, scoring= \"accuracy\", cv = 3)\n",
    "cvmodel = cv.fit(xtrain,ytrain)\n",
    "cvmodel.best_params_"
   ]
  },
  {
   "cell_type": "code",
   "execution_count": 44,
   "id": "3d814ab4",
   "metadata": {},
   "outputs": [
    {
     "name": "stdout",
     "output_type": "stream",
     "text": [
      "Training_Accuracy:  1.0\n",
      "Testing_Accuracy:  0.7894736842105263\n"
     ]
    }
   ],
   "source": [
    "from sklearn.ensemble import RandomForestClassifier\n",
    "rfc = RandomForestClassifier(random_state= 21, max_depth= 5)\n",
    "\n",
    "model = rfc.fit(xtrain, ytrain)\n",
    "pred_tr = model.predict(xtrain)\n",
    "pred_ts = model.predict(xtest)\n",
    "\n",
    "from sklearn.metrics import accuracy_score\n",
    "tr_err = accuracy_score(ytrain, pred_tr)\n",
    "ts_err = accuracy_score(ytest, pred_ts)\n",
    "print(\"Training_Accuracy: \", tr_err)\n",
    "print(\"Testing_Accuracy: \", ts_err)"
   ]
  },
  {
   "cell_type": "markdown",
   "id": "f5d70daf",
   "metadata": {},
   "source": [
    "# random forest with min samples leaf"
   ]
  },
  {
   "cell_type": "code",
   "execution_count": 45,
   "id": "dd16b4be",
   "metadata": {},
   "outputs": [
    {
     "data": {
      "text/plain": [
       "{'min_samples_leaf': 2}"
      ]
     },
     "execution_count": 45,
     "metadata": {},
     "output_type": "execute_result"
    }
   ],
   "source": [
    "rfc = RandomForestClassifier(random_state= 21)\n",
    "from sklearn.model_selection import GridSearchCV\n",
    "tg = {\"min_samples_leaf\":range(2, 25, 1)}\n",
    "cv = GridSearchCV(rfc, tg, scoring= \"accuracy\", cv = 3)\n",
    "cvmodel = cv.fit(xtrain,ytrain)\n",
    "cvmodel.best_params_"
   ]
  },
  {
   "cell_type": "code",
   "execution_count": 46,
   "id": "861b540e",
   "metadata": {},
   "outputs": [
    {
     "name": "stdout",
     "output_type": "stream",
     "text": [
      "Training_Accuracy:  1.0\n",
      "Testing_Accuracy:  0.7894736842105263\n"
     ]
    }
   ],
   "source": [
    "from sklearn.ensemble import RandomForestClassifier\n",
    "rfc = RandomForestClassifier(random_state= 21, min_samples_leaf= 2)\n",
    "\n",
    "model = rfc.fit(xtrain, ytrain)\n",
    "pred_tr = model.predict(xtrain)\n",
    "pred_ts = model.predict(xtest)\n",
    "\n",
    "from sklearn.metrics import accuracy_score\n",
    "tr_err = accuracy_score(ytrain, pred_tr)\n",
    "ts_err = accuracy_score(ytest, pred_ts)\n",
    "print(\"Training_Accuracy: \", tr_err)\n",
    "print(\"Testing_Accuracy: \", ts_err)"
   ]
  },
  {
   "cell_type": "markdown",
   "id": "dbda73bf",
   "metadata": {},
   "source": [
    "# random forest with min samples split"
   ]
  },
  {
   "cell_type": "code",
   "execution_count": 47,
   "id": "bf1c2d88",
   "metadata": {},
   "outputs": [
    {
     "data": {
      "text/plain": [
       "{'min_samples_split': 5}"
      ]
     },
     "execution_count": 47,
     "metadata": {},
     "output_type": "execute_result"
    }
   ],
   "source": [
    "rfc = RandomForestClassifier(random_state= 21)\n",
    "from sklearn.model_selection import GridSearchCV\n",
    "tg = {\"min_samples_split\":range(2, 25, 1)}\n",
    "cv = GridSearchCV(rfc, tg, scoring= \"accuracy\", cv = 3)\n",
    "cvmodel = cv.fit(xtrain,ytrain)\n",
    "cvmodel.best_params_"
   ]
  },
  {
   "cell_type": "code",
   "execution_count": 48,
   "id": "980439f5",
   "metadata": {},
   "outputs": [
    {
     "name": "stdout",
     "output_type": "stream",
     "text": [
      "Training_Accuracy:  0.918918918918919\n",
      "Testing_Accuracy:  0.5263157894736842\n"
     ]
    }
   ],
   "source": [
    "from sklearn.ensemble import RandomForestClassifier\n",
    "rfc = RandomForestClassifier(random_state= 21, min_samples_leaf= 5)\n",
    "\n",
    "model = rfc.fit(xtrain, ytrain)\n",
    "pred_tr = model.predict(xtrain)\n",
    "pred_ts = model.predict(xtest)\n",
    "\n",
    "from sklearn.metrics import accuracy_score\n",
    "tr_err = accuracy_score(ytrain, pred_tr)\n",
    "ts_err = accuracy_score(ytest, pred_ts)\n",
    "print(\"Training_Accuracy: \", tr_err)\n",
    "print(\"Testing_Accuracy: \", ts_err)"
   ]
  },
  {
   "cell_type": "markdown",
   "id": "71544b7b",
   "metadata": {},
   "source": [
    "# Adaboost"
   ]
  },
  {
   "cell_type": "code",
   "execution_count": 49,
   "id": "54512428",
   "metadata": {},
   "outputs": [
    {
     "data": {
      "text/plain": [
       "{'n_estimators': 14}"
      ]
     },
     "execution_count": 49,
     "metadata": {},
     "output_type": "execute_result"
    }
   ],
   "source": [
    "from sklearn.ensemble import AdaBoostClassifier\n",
    "dtc = DecisionTreeClassifier(random_state= 21, max_depth= 4)\n",
    "\n",
    "abc = AdaBoostClassifier(dtc, random_state=21)\n",
    "tg = {\"n_estimators\":range(2,25,1)}\n",
    "cv = GridSearchCV(abc, tg, scoring= \"accuracy\", cv = 3)\n",
    "cvmodel = cv.fit(xtrain, ytrain)\n",
    "cvmodel.best_params_"
   ]
  },
  {
   "cell_type": "code",
   "execution_count": 50,
   "id": "9c26909a",
   "metadata": {},
   "outputs": [
    {
     "name": "stdout",
     "output_type": "stream",
     "text": [
      "Training_Accuracy:  1.0\n",
      "Testing_Accuracy:  0.8421052631578947\n"
     ]
    }
   ],
   "source": [
    "abc = AdaBoostClassifier(dtc, random_state=21, n_estimators= 14)\n",
    "\n",
    "model = abc.fit(xtrain, ytrain)\n",
    "pred_tr = model.predict(xtrain)\n",
    "pred_ts = model.predict(xtest)\n",
    "\n",
    "from sklearn.metrics import accuracy_score\n",
    "tr_err = accuracy_score(ytrain, pred_tr)\n",
    "ts_err = accuracy_score(ytest, pred_ts)\n",
    "print(\"Training_Accuracy: \", tr_err)\n",
    "print(\"Testing_Accuracy: \", ts_err)"
   ]
  },
  {
   "cell_type": "markdown",
   "id": "06824576",
   "metadata": {},
   "source": [
    "# KNN"
   ]
  },
  {
   "cell_type": "code",
   "execution_count": 51,
   "id": "dd1698e3",
   "metadata": {},
   "outputs": [
    {
     "data": {
      "text/plain": [
       "{'n_neighbors': 3}"
      ]
     },
     "execution_count": 51,
     "metadata": {},
     "output_type": "execute_result"
    }
   ],
   "source": [
    "from sklearn.neighbors import KNeighborsClassifier\n",
    "knc = KNeighborsClassifier()\n",
    "tg = {\"n_neighbors\":range(2, 50, 1)}\n",
    "cv = GridSearchCV(knc, tg, scoring= \"accuracy\", cv = 3)\n",
    "cvmodel = cv.fit(xtrain, ytrain)\n",
    "cvmodel.best_params_"
   ]
  },
  {
   "cell_type": "code",
   "execution_count": 52,
   "id": "713fe0d2",
   "metadata": {},
   "outputs": [
    {
     "name": "stdout",
     "output_type": "stream",
     "text": [
      "Training_Accuracy:  0.918918918918919\n",
      "Testing_Accuracy:  0.6842105263157895\n"
     ]
    }
   ],
   "source": [
    "knc = KNeighborsClassifier(n_neighbors= 3)\n",
    "\n",
    "model = knc.fit(xtrain, ytrain)\n",
    "pred_tr = model.predict(xtrain)\n",
    "pred_ts = model.predict(xtest)\n",
    "\n",
    "from sklearn.metrics import accuracy_score\n",
    "tr_err = accuracy_score(ytrain, pred_tr)\n",
    "ts_err = accuracy_score(ytest, pred_ts)\n",
    "print(\"Training_Accuracy: \", tr_err)\n",
    "print(\"Testing_Accuracy: \", ts_err)"
   ]
  },
  {
   "cell_type": "markdown",
   "id": "272de680",
   "metadata": {},
   "source": [
    "# results"
   ]
  },
  {
   "cell_type": "code",
   "execution_count": 60,
   "id": "c0f1e42f",
   "metadata": {},
   "outputs": [],
   "source": [
    "results = pd.DataFrame(data = ytest)"
   ]
  },
  {
   "cell_type": "code",
   "execution_count": 62,
   "id": "12a40e49",
   "metadata": {},
   "outputs": [],
   "source": [
    "results[\"predicted_type\"] = pred_ts"
   ]
  },
  {
   "cell_type": "code",
   "execution_count": 63,
   "id": "3d71979c",
   "metadata": {},
   "outputs": [
    {
     "data": {
      "text/html": [
       "<div>\n",
       "<style scoped>\n",
       "    .dataframe tbody tr th:only-of-type {\n",
       "        vertical-align: middle;\n",
       "    }\n",
       "\n",
       "    .dataframe tbody tr th {\n",
       "        vertical-align: top;\n",
       "    }\n",
       "\n",
       "    .dataframe thead th {\n",
       "        text-align: right;\n",
       "    }\n",
       "</style>\n",
       "<table border=\"1\" class=\"dataframe\">\n",
       "  <thead>\n",
       "    <tr style=\"text-align: right;\">\n",
       "      <th></th>\n",
       "      <th>Type</th>\n",
       "      <th>predicted_type</th>\n",
       "    </tr>\n",
       "  </thead>\n",
       "  <tbody>\n",
       "    <tr>\n",
       "      <th>23</th>\n",
       "      <td>Small</td>\n",
       "      <td>Compact</td>\n",
       "    </tr>\n",
       "    <tr>\n",
       "      <th>86</th>\n",
       "      <td>Van</td>\n",
       "      <td>Van</td>\n",
       "    </tr>\n",
       "    <tr>\n",
       "      <th>91</th>\n",
       "      <td>Compact</td>\n",
       "      <td>Compact</td>\n",
       "    </tr>\n",
       "    <tr>\n",
       "      <th>21</th>\n",
       "      <td>Large</td>\n",
       "      <td>Large</td>\n",
       "    </tr>\n",
       "    <tr>\n",
       "      <th>17</th>\n",
       "      <td>Large</td>\n",
       "      <td>Large</td>\n",
       "    </tr>\n",
       "    <tr>\n",
       "      <th>82</th>\n",
       "      <td>Small</td>\n",
       "      <td>Small</td>\n",
       "    </tr>\n",
       "    <tr>\n",
       "      <th>34</th>\n",
       "      <td>Sporty</td>\n",
       "      <td>Compact</td>\n",
       "    </tr>\n",
       "    <tr>\n",
       "      <th>27</th>\n",
       "      <td>Sporty</td>\n",
       "      <td>Midsize</td>\n",
       "    </tr>\n",
       "    <tr>\n",
       "      <th>10</th>\n",
       "      <td>Midsize</td>\n",
       "      <td>Midsize</td>\n",
       "    </tr>\n",
       "    <tr>\n",
       "      <th>40</th>\n",
       "      <td>Sporty</td>\n",
       "      <td>Compact</td>\n",
       "    </tr>\n",
       "    <tr>\n",
       "      <th>13</th>\n",
       "      <td>Sporty</td>\n",
       "      <td>Midsize</td>\n",
       "    </tr>\n",
       "    <tr>\n",
       "      <th>3</th>\n",
       "      <td>Midsize</td>\n",
       "      <td>Midsize</td>\n",
       "    </tr>\n",
       "    <tr>\n",
       "      <th>55</th>\n",
       "      <td>Van</td>\n",
       "      <td>Van</td>\n",
       "    </tr>\n",
       "    <tr>\n",
       "      <th>1</th>\n",
       "      <td>Midsize</td>\n",
       "      <td>Midsize</td>\n",
       "    </tr>\n",
       "    <tr>\n",
       "      <th>22</th>\n",
       "      <td>Small</td>\n",
       "      <td>Small</td>\n",
       "    </tr>\n",
       "    <tr>\n",
       "      <th>84</th>\n",
       "      <td>Sporty</td>\n",
       "      <td>Compact</td>\n",
       "    </tr>\n",
       "    <tr>\n",
       "      <th>19</th>\n",
       "      <td>Large</td>\n",
       "      <td>Large</td>\n",
       "    </tr>\n",
       "    <tr>\n",
       "      <th>36</th>\n",
       "      <td>Midsize</td>\n",
       "      <td>Midsize</td>\n",
       "    </tr>\n",
       "    <tr>\n",
       "      <th>83</th>\n",
       "      <td>Small</td>\n",
       "      <td>Small</td>\n",
       "    </tr>\n",
       "  </tbody>\n",
       "</table>\n",
       "</div>"
      ],
      "text/plain": [
       "       Type predicted_type\n",
       "23    Small        Compact\n",
       "86      Van            Van\n",
       "91  Compact        Compact\n",
       "21    Large          Large\n",
       "17    Large          Large\n",
       "82    Small          Small\n",
       "34   Sporty        Compact\n",
       "27   Sporty        Midsize\n",
       "10  Midsize        Midsize\n",
       "40   Sporty        Compact\n",
       "13   Sporty        Midsize\n",
       "3   Midsize        Midsize\n",
       "55      Van            Van\n",
       "1   Midsize        Midsize\n",
       "22    Small          Small\n",
       "84   Sporty        Compact\n",
       "19    Large          Large\n",
       "36  Midsize        Midsize\n",
       "83    Small          Small"
      ]
     },
     "execution_count": 63,
     "metadata": {},
     "output_type": "execute_result"
    }
   ],
   "source": [
    "results"
   ]
  },
  {
   "cell_type": "code",
   "execution_count": null,
   "id": "c4cd3cf8",
   "metadata": {},
   "outputs": [],
   "source": []
  }
 ],
 "metadata": {
  "kernelspec": {
   "display_name": "Python 3",
   "language": "python",
   "name": "python3"
  },
  "language_info": {
   "codemirror_mode": {
    "name": "ipython",
    "version": 3
   },
   "file_extension": ".py",
   "mimetype": "text/x-python",
   "name": "python",
   "nbconvert_exporter": "python",
   "pygments_lexer": "ipython3",
   "version": "3.8.8"
  }
 },
 "nbformat": 4,
 "nbformat_minor": 5
}
