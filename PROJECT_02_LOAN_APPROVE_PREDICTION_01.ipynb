{
 "cells": [
  {
   "cell_type": "code",
   "execution_count": 1,
   "id": "cfc762d4",
   "metadata": {},
   "outputs": [],
   "source": [
    "from warnings import filterwarnings\n",
    "filterwarnings(\"ignore\")\n",
    "\n",
    "import pandas as pd\n",
    "A = pd.read_csv(\"F:/DS_ML_AI_Course/START/22_23122021_PROJECT_02/training_set.csv\")"
   ]
  },
  {
   "cell_type": "code",
   "execution_count": 2,
   "id": "9476ff5f",
   "metadata": {},
   "outputs": [
    {
     "data": {
      "text/html": [
       "<div>\n",
       "<style scoped>\n",
       "    .dataframe tbody tr th:only-of-type {\n",
       "        vertical-align: middle;\n",
       "    }\n",
       "\n",
       "    .dataframe tbody tr th {\n",
       "        vertical-align: top;\n",
       "    }\n",
       "\n",
       "    .dataframe thead th {\n",
       "        text-align: right;\n",
       "    }\n",
       "</style>\n",
       "<table border=\"1\" class=\"dataframe\">\n",
       "  <thead>\n",
       "    <tr style=\"text-align: right;\">\n",
       "      <th></th>\n",
       "      <th>Loan_ID</th>\n",
       "      <th>Gender</th>\n",
       "      <th>Married</th>\n",
       "      <th>Dependents</th>\n",
       "      <th>Education</th>\n",
       "      <th>Self_Employed</th>\n",
       "      <th>ApplicantIncome</th>\n",
       "      <th>CoapplicantIncome</th>\n",
       "      <th>LoanAmount</th>\n",
       "      <th>Loan_Amount_Term</th>\n",
       "      <th>Credit_History</th>\n",
       "      <th>Property_Area</th>\n",
       "      <th>Loan_Status</th>\n",
       "    </tr>\n",
       "  </thead>\n",
       "  <tbody>\n",
       "    <tr>\n",
       "      <th>0</th>\n",
       "      <td>LP001002</td>\n",
       "      <td>Male</td>\n",
       "      <td>No</td>\n",
       "      <td>0</td>\n",
       "      <td>Graduate</td>\n",
       "      <td>No</td>\n",
       "      <td>5849.0</td>\n",
       "      <td>0.0</td>\n",
       "      <td>NaN</td>\n",
       "      <td>360.0</td>\n",
       "      <td>1.0</td>\n",
       "      <td>Urban</td>\n",
       "      <td>Y</td>\n",
       "    </tr>\n",
       "    <tr>\n",
       "      <th>1</th>\n",
       "      <td>LP001003</td>\n",
       "      <td>Male</td>\n",
       "      <td>Yes</td>\n",
       "      <td>1</td>\n",
       "      <td>Graduate</td>\n",
       "      <td>No</td>\n",
       "      <td>NaN</td>\n",
       "      <td>1508.0</td>\n",
       "      <td>128.0</td>\n",
       "      <td>360.0</td>\n",
       "      <td>1.0</td>\n",
       "      <td>Rural</td>\n",
       "      <td>N</td>\n",
       "    </tr>\n",
       "    <tr>\n",
       "      <th>2</th>\n",
       "      <td>LP001005</td>\n",
       "      <td>Male</td>\n",
       "      <td>Yes</td>\n",
       "      <td>0</td>\n",
       "      <td>Graduate</td>\n",
       "      <td>Yes</td>\n",
       "      <td>3000.0</td>\n",
       "      <td>0.0</td>\n",
       "      <td>66.0</td>\n",
       "      <td>360.0</td>\n",
       "      <td>1.0</td>\n",
       "      <td>Urban</td>\n",
       "      <td>Y</td>\n",
       "    </tr>\n",
       "    <tr>\n",
       "      <th>3</th>\n",
       "      <td>LP001006</td>\n",
       "      <td>Male</td>\n",
       "      <td>Yes</td>\n",
       "      <td>0</td>\n",
       "      <td>Not Graduate</td>\n",
       "      <td>No</td>\n",
       "      <td>2583.0</td>\n",
       "      <td>2358.0</td>\n",
       "      <td>120.0</td>\n",
       "      <td>360.0</td>\n",
       "      <td>1.0</td>\n",
       "      <td>Urban</td>\n",
       "      <td>Y</td>\n",
       "    </tr>\n",
       "    <tr>\n",
       "      <th>4</th>\n",
       "      <td>LP001008</td>\n",
       "      <td>Male</td>\n",
       "      <td>No</td>\n",
       "      <td>0</td>\n",
       "      <td>Graduate</td>\n",
       "      <td>No</td>\n",
       "      <td>6000.0</td>\n",
       "      <td>0.0</td>\n",
       "      <td>141.0</td>\n",
       "      <td>360.0</td>\n",
       "      <td>1.0</td>\n",
       "      <td>Urban</td>\n",
       "      <td>Y</td>\n",
       "    </tr>\n",
       "  </tbody>\n",
       "</table>\n",
       "</div>"
      ],
      "text/plain": [
       "    Loan_ID Gender Married Dependents     Education Self_Employed  \\\n",
       "0  LP001002   Male      No          0      Graduate            No   \n",
       "1  LP001003   Male     Yes          1      Graduate            No   \n",
       "2  LP001005   Male     Yes          0      Graduate           Yes   \n",
       "3  LP001006   Male     Yes          0  Not Graduate            No   \n",
       "4  LP001008   Male      No          0      Graduate            No   \n",
       "\n",
       "   ApplicantIncome  CoapplicantIncome  LoanAmount  Loan_Amount_Term  \\\n",
       "0           5849.0                0.0         NaN             360.0   \n",
       "1              NaN             1508.0       128.0             360.0   \n",
       "2           3000.0                0.0        66.0             360.0   \n",
       "3           2583.0             2358.0       120.0             360.0   \n",
       "4           6000.0                0.0       141.0             360.0   \n",
       "\n",
       "   Credit_History Property_Area Loan_Status  \n",
       "0             1.0         Urban           Y  \n",
       "1             1.0         Rural           N  \n",
       "2             1.0         Urban           Y  \n",
       "3             1.0         Urban           Y  \n",
       "4             1.0         Urban           Y  "
      ]
     },
     "execution_count": 2,
     "metadata": {},
     "output_type": "execute_result"
    }
   ],
   "source": [
    "A.head()"
   ]
  },
  {
   "cell_type": "code",
   "execution_count": 3,
   "id": "ccf8ad76",
   "metadata": {},
   "outputs": [
    {
     "data": {
      "text/plain": [
       "ApplicantIncome      6.528264\n",
       "CoapplicantIncome    7.485927\n",
       "LoanAmount           2.677552\n",
       "Loan_Amount_Term    -2.362414\n",
       "Credit_History      -1.882361\n",
       "dtype: float64"
      ]
     },
     "execution_count": 3,
     "metadata": {},
     "output_type": "execute_result"
    }
   ],
   "source": [
    "A.skew()"
   ]
  },
  {
   "cell_type": "markdown",
   "id": "3f1e0114",
   "metadata": {},
   "source": [
    "# missing data treatment"
   ]
  },
  {
   "cell_type": "code",
   "execution_count": 4,
   "id": "e2c9605c",
   "metadata": {},
   "outputs": [],
   "source": [
    "from PM8 import replacer\n",
    "replacer(A)"
   ]
  },
  {
   "cell_type": "code",
   "execution_count": 5,
   "id": "bbfd8d0e",
   "metadata": {},
   "outputs": [
    {
     "data": {
      "text/plain": [
       "Loan_ID              0\n",
       "Gender               0\n",
       "Married              0\n",
       "Dependents           0\n",
       "Education            0\n",
       "Self_Employed        0\n",
       "ApplicantIncome      0\n",
       "CoapplicantIncome    0\n",
       "LoanAmount           0\n",
       "Loan_Amount_Term     0\n",
       "Credit_History       0\n",
       "Property_Area        0\n",
       "Loan_Status          0\n",
       "dtype: int64"
      ]
     },
     "execution_count": 5,
     "metadata": {},
     "output_type": "execute_result"
    }
   ],
   "source": [
    "A.isna().sum()"
   ]
  },
  {
   "cell_type": "code",
   "execution_count": 6,
   "id": "b47876eb",
   "metadata": {},
   "outputs": [],
   "source": [
    "A = A.drop(labels = \"Loan_ID\", axis = 1)"
   ]
  },
  {
   "cell_type": "markdown",
   "id": "43c4388c",
   "metadata": {},
   "source": [
    "# assigning X and Y"
   ]
  },
  {
   "cell_type": "code",
   "execution_count": 7,
   "id": "cc3b119b",
   "metadata": {},
   "outputs": [],
   "source": [
    "Y = A[[\"Loan_Status\"]]\n",
    "X = A.drop(labels = \"Loan_Status\", axis = 1)"
   ]
  },
  {
   "cell_type": "markdown",
   "id": "acdeff12",
   "metadata": {},
   "source": [
    "# seperating cat and con"
   ]
  },
  {
   "cell_type": "code",
   "execution_count": 8,
   "id": "b90acfa0",
   "metadata": {},
   "outputs": [],
   "source": [
    "cat = []\n",
    "con = []\n",
    "\n",
    "for i in X.columns:\n",
    "    if (X[i].dtypes == \"object\"):\n",
    "        cat.append(i)\n",
    "    else:\n",
    "        con.append(i)"
   ]
  },
  {
   "cell_type": "code",
   "execution_count": 9,
   "id": "66d518d7",
   "metadata": {},
   "outputs": [
    {
     "data": {
      "text/plain": [
       "['Gender',\n",
       " 'Married',\n",
       " 'Dependents',\n",
       " 'Education',\n",
       " 'Self_Employed',\n",
       " 'Property_Area']"
      ]
     },
     "execution_count": 9,
     "metadata": {},
     "output_type": "execute_result"
    }
   ],
   "source": [
    "cat"
   ]
  },
  {
   "cell_type": "code",
   "execution_count": 10,
   "id": "dc615c08",
   "metadata": {},
   "outputs": [
    {
     "data": {
      "text/plain": [
       "['ApplicantIncome',\n",
       " 'CoapplicantIncome',\n",
       " 'LoanAmount',\n",
       " 'Loan_Amount_Term',\n",
       " 'Credit_History']"
      ]
     },
     "execution_count": 10,
     "metadata": {},
     "output_type": "execute_result"
    }
   ],
   "source": [
    "con"
   ]
  },
  {
   "cell_type": "markdown",
   "id": "ab157607",
   "metadata": {},
   "source": [
    "# standerdization of cat and con"
   ]
  },
  {
   "cell_type": "code",
   "execution_count": 11,
   "id": "4366d65c",
   "metadata": {},
   "outputs": [
    {
     "data": {
      "text/html": [
       "<div>\n",
       "<style scoped>\n",
       "    .dataframe tbody tr th:only-of-type {\n",
       "        vertical-align: middle;\n",
       "    }\n",
       "\n",
       "    .dataframe tbody tr th {\n",
       "        vertical-align: top;\n",
       "    }\n",
       "\n",
       "    .dataframe thead th {\n",
       "        text-align: right;\n",
       "    }\n",
       "</style>\n",
       "<table border=\"1\" class=\"dataframe\">\n",
       "  <thead>\n",
       "    <tr style=\"text-align: right;\">\n",
       "      <th></th>\n",
       "      <th>Gender_Female</th>\n",
       "      <th>Gender_Male</th>\n",
       "      <th>Married_No</th>\n",
       "      <th>Married_Yes</th>\n",
       "      <th>Dependents_0</th>\n",
       "      <th>Dependents_1</th>\n",
       "      <th>Dependents_2</th>\n",
       "      <th>Dependents_3+</th>\n",
       "      <th>Education_Graduate</th>\n",
       "      <th>Education_Not Graduate</th>\n",
       "      <th>Self_Employed_No</th>\n",
       "      <th>Self_Employed_Yes</th>\n",
       "      <th>Property_Area_Rural</th>\n",
       "      <th>Property_Area_Semiurban</th>\n",
       "      <th>Property_Area_Urban</th>\n",
       "    </tr>\n",
       "  </thead>\n",
       "  <tbody>\n",
       "    <tr>\n",
       "      <th>0</th>\n",
       "      <td>0</td>\n",
       "      <td>1</td>\n",
       "      <td>1</td>\n",
       "      <td>0</td>\n",
       "      <td>1</td>\n",
       "      <td>0</td>\n",
       "      <td>0</td>\n",
       "      <td>0</td>\n",
       "      <td>1</td>\n",
       "      <td>0</td>\n",
       "      <td>1</td>\n",
       "      <td>0</td>\n",
       "      <td>0</td>\n",
       "      <td>0</td>\n",
       "      <td>1</td>\n",
       "    </tr>\n",
       "    <tr>\n",
       "      <th>1</th>\n",
       "      <td>0</td>\n",
       "      <td>1</td>\n",
       "      <td>0</td>\n",
       "      <td>1</td>\n",
       "      <td>0</td>\n",
       "      <td>1</td>\n",
       "      <td>0</td>\n",
       "      <td>0</td>\n",
       "      <td>1</td>\n",
       "      <td>0</td>\n",
       "      <td>1</td>\n",
       "      <td>0</td>\n",
       "      <td>1</td>\n",
       "      <td>0</td>\n",
       "      <td>0</td>\n",
       "    </tr>\n",
       "    <tr>\n",
       "      <th>2</th>\n",
       "      <td>0</td>\n",
       "      <td>1</td>\n",
       "      <td>0</td>\n",
       "      <td>1</td>\n",
       "      <td>1</td>\n",
       "      <td>0</td>\n",
       "      <td>0</td>\n",
       "      <td>0</td>\n",
       "      <td>1</td>\n",
       "      <td>0</td>\n",
       "      <td>0</td>\n",
       "      <td>1</td>\n",
       "      <td>0</td>\n",
       "      <td>0</td>\n",
       "      <td>1</td>\n",
       "    </tr>\n",
       "    <tr>\n",
       "      <th>3</th>\n",
       "      <td>0</td>\n",
       "      <td>1</td>\n",
       "      <td>0</td>\n",
       "      <td>1</td>\n",
       "      <td>1</td>\n",
       "      <td>0</td>\n",
       "      <td>0</td>\n",
       "      <td>0</td>\n",
       "      <td>0</td>\n",
       "      <td>1</td>\n",
       "      <td>1</td>\n",
       "      <td>0</td>\n",
       "      <td>0</td>\n",
       "      <td>0</td>\n",
       "      <td>1</td>\n",
       "    </tr>\n",
       "    <tr>\n",
       "      <th>4</th>\n",
       "      <td>0</td>\n",
       "      <td>1</td>\n",
       "      <td>1</td>\n",
       "      <td>0</td>\n",
       "      <td>1</td>\n",
       "      <td>0</td>\n",
       "      <td>0</td>\n",
       "      <td>0</td>\n",
       "      <td>1</td>\n",
       "      <td>0</td>\n",
       "      <td>1</td>\n",
       "      <td>0</td>\n",
       "      <td>0</td>\n",
       "      <td>0</td>\n",
       "      <td>1</td>\n",
       "    </tr>\n",
       "  </tbody>\n",
       "</table>\n",
       "</div>"
      ],
      "text/plain": [
       "   Gender_Female  Gender_Male  Married_No  Married_Yes  Dependents_0  \\\n",
       "0              0            1           1            0             1   \n",
       "1              0            1           0            1             0   \n",
       "2              0            1           0            1             1   \n",
       "3              0            1           0            1             1   \n",
       "4              0            1           1            0             1   \n",
       "\n",
       "   Dependents_1  Dependents_2  Dependents_3+  Education_Graduate  \\\n",
       "0             0             0              0                   1   \n",
       "1             1             0              0                   1   \n",
       "2             0             0              0                   1   \n",
       "3             0             0              0                   0   \n",
       "4             0             0              0                   1   \n",
       "\n",
       "   Education_Not Graduate  Self_Employed_No  Self_Employed_Yes  \\\n",
       "0                       0                 1                  0   \n",
       "1                       0                 1                  0   \n",
       "2                       0                 0                  1   \n",
       "3                       1                 1                  0   \n",
       "4                       0                 1                  0   \n",
       "\n",
       "   Property_Area_Rural  Property_Area_Semiurban  Property_Area_Urban  \n",
       "0                    0                        0                    1  \n",
       "1                    1                        0                    0  \n",
       "2                    0                        0                    1  \n",
       "3                    0                        0                    1  \n",
       "4                    0                        0                    1  "
      ]
     },
     "execution_count": 11,
     "metadata": {},
     "output_type": "execute_result"
    }
   ],
   "source": [
    "Xcat = pd.get_dummies(X[cat])\n",
    "Xcat.head()"
   ]
  },
  {
   "cell_type": "code",
   "execution_count": 12,
   "id": "7a9413e3",
   "metadata": {},
   "outputs": [
    {
     "data": {
      "text/html": [
       "<div>\n",
       "<style scoped>\n",
       "    .dataframe tbody tr th:only-of-type {\n",
       "        vertical-align: middle;\n",
       "    }\n",
       "\n",
       "    .dataframe tbody tr th {\n",
       "        vertical-align: top;\n",
       "    }\n",
       "\n",
       "    .dataframe thead th {\n",
       "        text-align: right;\n",
       "    }\n",
       "</style>\n",
       "<table border=\"1\" class=\"dataframe\">\n",
       "  <thead>\n",
       "    <tr style=\"text-align: right;\">\n",
       "      <th></th>\n",
       "      <th>ApplicantIncome</th>\n",
       "      <th>CoapplicantIncome</th>\n",
       "      <th>LoanAmount</th>\n",
       "      <th>Loan_Amount_Term</th>\n",
       "      <th>Credit_History</th>\n",
       "    </tr>\n",
       "  </thead>\n",
       "  <tbody>\n",
       "    <tr>\n",
       "      <th>0</th>\n",
       "      <td>0.072651</td>\n",
       "      <td>-0.554368</td>\n",
       "      <td>0.000000</td>\n",
       "      <td>0.279851</td>\n",
       "      <td>0.45164</td>\n",
       "    </tr>\n",
       "    <tr>\n",
       "      <th>1</th>\n",
       "      <td>0.000000</td>\n",
       "      <td>-0.038610</td>\n",
       "      <td>-0.219273</td>\n",
       "      <td>0.279851</td>\n",
       "      <td>0.45164</td>\n",
       "    </tr>\n",
       "    <tr>\n",
       "      <th>2</th>\n",
       "      <td>-0.394096</td>\n",
       "      <td>-0.554368</td>\n",
       "      <td>-0.957641</td>\n",
       "      <td>0.279851</td>\n",
       "      <td>0.45164</td>\n",
       "    </tr>\n",
       "    <tr>\n",
       "      <th>3</th>\n",
       "      <td>-0.462412</td>\n",
       "      <td>0.252103</td>\n",
       "      <td>-0.314547</td>\n",
       "      <td>0.279851</td>\n",
       "      <td>0.45164</td>\n",
       "    </tr>\n",
       "    <tr>\n",
       "      <th>4</th>\n",
       "      <td>0.097389</td>\n",
       "      <td>-0.554368</td>\n",
       "      <td>-0.064454</td>\n",
       "      <td>0.279851</td>\n",
       "      <td>0.45164</td>\n",
       "    </tr>\n",
       "  </tbody>\n",
       "</table>\n",
       "</div>"
      ],
      "text/plain": [
       "   ApplicantIncome  CoapplicantIncome  LoanAmount  Loan_Amount_Term  \\\n",
       "0         0.072651          -0.554368    0.000000          0.279851   \n",
       "1         0.000000          -0.038610   -0.219273          0.279851   \n",
       "2        -0.394096          -0.554368   -0.957641          0.279851   \n",
       "3        -0.462412           0.252103   -0.314547          0.279851   \n",
       "4         0.097389          -0.554368   -0.064454          0.279851   \n",
       "\n",
       "   Credit_History  \n",
       "0         0.45164  \n",
       "1         0.45164  \n",
       "2         0.45164  \n",
       "3         0.45164  \n",
       "4         0.45164  "
      ]
     },
     "execution_count": 12,
     "metadata": {},
     "output_type": "execute_result"
    }
   ],
   "source": [
    "from sklearn.preprocessing import StandardScaler\n",
    "ss = StandardScaler()\n",
    "Xcon = pd.DataFrame(ss.fit_transform(X[con]), columns = con)\n",
    "Xcon.head()"
   ]
  },
  {
   "cell_type": "code",
   "execution_count": 13,
   "id": "a0e11198",
   "metadata": {},
   "outputs": [
    {
     "data": {
      "text/html": [
       "<div>\n",
       "<style scoped>\n",
       "    .dataframe tbody tr th:only-of-type {\n",
       "        vertical-align: middle;\n",
       "    }\n",
       "\n",
       "    .dataframe tbody tr th {\n",
       "        vertical-align: top;\n",
       "    }\n",
       "\n",
       "    .dataframe thead th {\n",
       "        text-align: right;\n",
       "    }\n",
       "</style>\n",
       "<table border=\"1\" class=\"dataframe\">\n",
       "  <thead>\n",
       "    <tr style=\"text-align: right;\">\n",
       "      <th></th>\n",
       "      <th>ApplicantIncome</th>\n",
       "      <th>CoapplicantIncome</th>\n",
       "      <th>LoanAmount</th>\n",
       "      <th>Loan_Amount_Term</th>\n",
       "      <th>Credit_History</th>\n",
       "      <th>Gender_Female</th>\n",
       "      <th>Gender_Male</th>\n",
       "      <th>Married_No</th>\n",
       "      <th>Married_Yes</th>\n",
       "      <th>Dependents_0</th>\n",
       "      <th>Dependents_1</th>\n",
       "      <th>Dependents_2</th>\n",
       "      <th>Dependents_3+</th>\n",
       "      <th>Education_Graduate</th>\n",
       "      <th>Education_Not Graduate</th>\n",
       "      <th>Self_Employed_No</th>\n",
       "      <th>Self_Employed_Yes</th>\n",
       "      <th>Property_Area_Rural</th>\n",
       "      <th>Property_Area_Semiurban</th>\n",
       "      <th>Property_Area_Urban</th>\n",
       "    </tr>\n",
       "  </thead>\n",
       "  <tbody>\n",
       "    <tr>\n",
       "      <th>0</th>\n",
       "      <td>0.072651</td>\n",
       "      <td>-0.554368</td>\n",
       "      <td>0.000000</td>\n",
       "      <td>0.279851</td>\n",
       "      <td>0.45164</td>\n",
       "      <td>0</td>\n",
       "      <td>1</td>\n",
       "      <td>1</td>\n",
       "      <td>0</td>\n",
       "      <td>1</td>\n",
       "      <td>0</td>\n",
       "      <td>0</td>\n",
       "      <td>0</td>\n",
       "      <td>1</td>\n",
       "      <td>0</td>\n",
       "      <td>1</td>\n",
       "      <td>0</td>\n",
       "      <td>0</td>\n",
       "      <td>0</td>\n",
       "      <td>1</td>\n",
       "    </tr>\n",
       "    <tr>\n",
       "      <th>1</th>\n",
       "      <td>0.000000</td>\n",
       "      <td>-0.038610</td>\n",
       "      <td>-0.219273</td>\n",
       "      <td>0.279851</td>\n",
       "      <td>0.45164</td>\n",
       "      <td>0</td>\n",
       "      <td>1</td>\n",
       "      <td>0</td>\n",
       "      <td>1</td>\n",
       "      <td>0</td>\n",
       "      <td>1</td>\n",
       "      <td>0</td>\n",
       "      <td>0</td>\n",
       "      <td>1</td>\n",
       "      <td>0</td>\n",
       "      <td>1</td>\n",
       "      <td>0</td>\n",
       "      <td>1</td>\n",
       "      <td>0</td>\n",
       "      <td>0</td>\n",
       "    </tr>\n",
       "    <tr>\n",
       "      <th>2</th>\n",
       "      <td>-0.394096</td>\n",
       "      <td>-0.554368</td>\n",
       "      <td>-0.957641</td>\n",
       "      <td>0.279851</td>\n",
       "      <td>0.45164</td>\n",
       "      <td>0</td>\n",
       "      <td>1</td>\n",
       "      <td>0</td>\n",
       "      <td>1</td>\n",
       "      <td>1</td>\n",
       "      <td>0</td>\n",
       "      <td>0</td>\n",
       "      <td>0</td>\n",
       "      <td>1</td>\n",
       "      <td>0</td>\n",
       "      <td>0</td>\n",
       "      <td>1</td>\n",
       "      <td>0</td>\n",
       "      <td>0</td>\n",
       "      <td>1</td>\n",
       "    </tr>\n",
       "    <tr>\n",
       "      <th>3</th>\n",
       "      <td>-0.462412</td>\n",
       "      <td>0.252103</td>\n",
       "      <td>-0.314547</td>\n",
       "      <td>0.279851</td>\n",
       "      <td>0.45164</td>\n",
       "      <td>0</td>\n",
       "      <td>1</td>\n",
       "      <td>0</td>\n",
       "      <td>1</td>\n",
       "      <td>1</td>\n",
       "      <td>0</td>\n",
       "      <td>0</td>\n",
       "      <td>0</td>\n",
       "      <td>0</td>\n",
       "      <td>1</td>\n",
       "      <td>1</td>\n",
       "      <td>0</td>\n",
       "      <td>0</td>\n",
       "      <td>0</td>\n",
       "      <td>1</td>\n",
       "    </tr>\n",
       "    <tr>\n",
       "      <th>4</th>\n",
       "      <td>0.097389</td>\n",
       "      <td>-0.554368</td>\n",
       "      <td>-0.064454</td>\n",
       "      <td>0.279851</td>\n",
       "      <td>0.45164</td>\n",
       "      <td>0</td>\n",
       "      <td>1</td>\n",
       "      <td>1</td>\n",
       "      <td>0</td>\n",
       "      <td>1</td>\n",
       "      <td>0</td>\n",
       "      <td>0</td>\n",
       "      <td>0</td>\n",
       "      <td>1</td>\n",
       "      <td>0</td>\n",
       "      <td>1</td>\n",
       "      <td>0</td>\n",
       "      <td>0</td>\n",
       "      <td>0</td>\n",
       "      <td>1</td>\n",
       "    </tr>\n",
       "  </tbody>\n",
       "</table>\n",
       "</div>"
      ],
      "text/plain": [
       "   ApplicantIncome  CoapplicantIncome  LoanAmount  Loan_Amount_Term  \\\n",
       "0         0.072651          -0.554368    0.000000          0.279851   \n",
       "1         0.000000          -0.038610   -0.219273          0.279851   \n",
       "2        -0.394096          -0.554368   -0.957641          0.279851   \n",
       "3        -0.462412           0.252103   -0.314547          0.279851   \n",
       "4         0.097389          -0.554368   -0.064454          0.279851   \n",
       "\n",
       "   Credit_History  Gender_Female  Gender_Male  Married_No  Married_Yes  \\\n",
       "0         0.45164              0            1           1            0   \n",
       "1         0.45164              0            1           0            1   \n",
       "2         0.45164              0            1           0            1   \n",
       "3         0.45164              0            1           0            1   \n",
       "4         0.45164              0            1           1            0   \n",
       "\n",
       "   Dependents_0  Dependents_1  Dependents_2  Dependents_3+  \\\n",
       "0             1             0             0              0   \n",
       "1             0             1             0              0   \n",
       "2             1             0             0              0   \n",
       "3             1             0             0              0   \n",
       "4             1             0             0              0   \n",
       "\n",
       "   Education_Graduate  Education_Not Graduate  Self_Employed_No  \\\n",
       "0                   1                       0                 1   \n",
       "1                   1                       0                 1   \n",
       "2                   1                       0                 0   \n",
       "3                   0                       1                 1   \n",
       "4                   1                       0                 1   \n",
       "\n",
       "   Self_Employed_Yes  Property_Area_Rural  Property_Area_Semiurban  \\\n",
       "0                  0                    0                        0   \n",
       "1                  0                    1                        0   \n",
       "2                  1                    0                        0   \n",
       "3                  0                    0                        0   \n",
       "4                  0                    0                        0   \n",
       "\n",
       "   Property_Area_Urban  \n",
       "0                    1  \n",
       "1                    0  \n",
       "2                    1  \n",
       "3                    1  \n",
       "4                    1  "
      ]
     },
     "execution_count": 13,
     "metadata": {},
     "output_type": "execute_result"
    }
   ],
   "source": [
    "X = Xcon.join(Xcat)\n",
    "X.head()"
   ]
  },
  {
   "cell_type": "markdown",
   "id": "bd67f7ae",
   "metadata": {},
   "source": [
    "# spliitind data into training and testing"
   ]
  },
  {
   "cell_type": "code",
   "execution_count": 14,
   "id": "11be3d42",
   "metadata": {},
   "outputs": [],
   "source": [
    "from sklearn.model_selection import train_test_split\n",
    "xtrain, xtest, ytrain, ytest = train_test_split(X, Y, test_size= 0.2, random_state=21)"
   ]
  },
  {
   "cell_type": "markdown",
   "id": "1d37bc53",
   "metadata": {},
   "source": [
    "# simple tree"
   ]
  },
  {
   "cell_type": "code",
   "execution_count": 15,
   "id": "d99a17da",
   "metadata": {},
   "outputs": [],
   "source": [
    "from sklearn.tree import DecisionTreeClassifier\n",
    "dtc = DecisionTreeClassifier(random_state=21)"
   ]
  },
  {
   "cell_type": "code",
   "execution_count": 16,
   "id": "900ec543",
   "metadata": {},
   "outputs": [],
   "source": [
    "model = dtc.fit(xtrain, ytrain)\n",
    "pred_tr = model.predict(xtrain)\n",
    "pred_ts = model.predict(xtest)"
   ]
  },
  {
   "cell_type": "code",
   "execution_count": 17,
   "id": "88537d59",
   "metadata": {},
   "outputs": [
    {
     "name": "stdout",
     "output_type": "stream",
     "text": [
      "Training_Accuracy:  1.0\n",
      "Testing_Accuracy:  0.6910569105691057\n"
     ]
    }
   ],
   "source": [
    "from sklearn.metrics import accuracy_score\n",
    "tr_err = accuracy_score(ytrain, pred_tr)\n",
    "ts_err = accuracy_score(ytest, pred_ts)\n",
    "print(\"Training_Accuracy: \", tr_err)\n",
    "print(\"Testing_Accuracy: \", ts_err)"
   ]
  },
  {
   "cell_type": "markdown",
   "id": "5c851123",
   "metadata": {},
   "source": [
    "# pruned tree with max depth"
   ]
  },
  {
   "cell_type": "code",
   "execution_count": 18,
   "id": "74f3a16d",
   "metadata": {},
   "outputs": [
    {
     "data": {
      "text/plain": [
       "{'max_depth': 4}"
      ]
     },
     "execution_count": 18,
     "metadata": {},
     "output_type": "execute_result"
    }
   ],
   "source": [
    "from sklearn.model_selection import GridSearchCV\n",
    "tg = {\"max_depth\":range(2, 25, 1)}\n",
    "cv = GridSearchCV(dtc, tg, scoring= \"accuracy\", cv = 3)\n",
    "cvmodel = cv.fit(xtrain,ytrain)\n",
    "cvmodel.best_params_"
   ]
  },
  {
   "cell_type": "code",
   "execution_count": 19,
   "id": "bb3b8cf6",
   "metadata": {},
   "outputs": [
    {
     "name": "stdout",
     "output_type": "stream",
     "text": [
      "Training_Accuracy:  0.8268839103869654\n",
      "Testing_Accuracy:  0.7886178861788617\n"
     ]
    }
   ],
   "source": [
    "dtc = DecisionTreeClassifier(random_state=21, max_depth= 4)\n",
    "\n",
    "model = dtc.fit(xtrain, ytrain)\n",
    "pred_tr = model.predict(xtrain)\n",
    "pred_ts = model.predict(xtest)\n",
    "\n",
    "from sklearn.metrics import accuracy_score\n",
    "tr_err = accuracy_score(ytrain, pred_tr)\n",
    "ts_err = accuracy_score(ytest, pred_ts)\n",
    "print(\"Training_Accuracy: \", tr_err)\n",
    "print(\"Testing_Accuracy: \", ts_err)"
   ]
  },
  {
   "cell_type": "markdown",
   "id": "3df7d546",
   "metadata": {},
   "source": [
    "# pruned tree with min samples leaf"
   ]
  },
  {
   "cell_type": "code",
   "execution_count": 20,
   "id": "f14e057b",
   "metadata": {},
   "outputs": [
    {
     "data": {
      "text/plain": [
       "{'min_samples_leaf': 24}"
      ]
     },
     "execution_count": 20,
     "metadata": {},
     "output_type": "execute_result"
    }
   ],
   "source": [
    "dtc = DecisionTreeClassifier(random_state=21)\n",
    "from sklearn.model_selection import GridSearchCV\n",
    "tg = {\"min_samples_leaf\":range(2, 25, 1)}\n",
    "cv = GridSearchCV(dtc, tg, scoring= \"accuracy\", cv = 3)\n",
    "cvmodel = cv.fit(xtrain,ytrain)\n",
    "cvmodel.best_params_"
   ]
  },
  {
   "cell_type": "code",
   "execution_count": 21,
   "id": "c3478370",
   "metadata": {},
   "outputs": [
    {
     "name": "stdout",
     "output_type": "stream",
     "text": [
      "Training_Accuracy:  0.8085539714867617\n",
      "Testing_Accuracy:  0.7723577235772358\n"
     ]
    }
   ],
   "source": [
    "dtc = DecisionTreeClassifier(random_state=21, min_samples_leaf = 24)\n",
    "\n",
    "model = dtc.fit(xtrain, ytrain)\n",
    "pred_tr = model.predict(xtrain)\n",
    "pred_ts = model.predict(xtest)\n",
    "\n",
    "from sklearn.metrics import accuracy_score\n",
    "tr_err = accuracy_score(ytrain, pred_tr)\n",
    "ts_err = accuracy_score(ytest, pred_ts)\n",
    "print(\"Training_Accuracy: \", tr_err)\n",
    "print(\"Testing_Accuracy: \", ts_err)"
   ]
  },
  {
   "cell_type": "markdown",
   "id": "9b5f48cf",
   "metadata": {},
   "source": [
    "# pruned tree with min samples used for splitting"
   ]
  },
  {
   "cell_type": "code",
   "execution_count": 22,
   "id": "07de9903",
   "metadata": {},
   "outputs": [
    {
     "data": {
      "text/plain": [
       "{'min_samples_split': 24}"
      ]
     },
     "execution_count": 22,
     "metadata": {},
     "output_type": "execute_result"
    }
   ],
   "source": [
    "dtc = DecisionTreeClassifier(random_state=21)\n",
    "from sklearn.model_selection import GridSearchCV\n",
    "tg = {\"min_samples_split\":range(3, 25, 1)}\n",
    "cv = GridSearchCV(dtc, tg, scoring= \"accuracy\", cv = 3)\n",
    "cvmodel = cv.fit(xtrain,ytrain)\n",
    "cvmodel.best_params_"
   ]
  },
  {
   "cell_type": "code",
   "execution_count": 23,
   "id": "a6529395",
   "metadata": {},
   "outputs": [
    {
     "name": "stdout",
     "output_type": "stream",
     "text": [
      "Training_Accuracy:  0.8778004073319755\n",
      "Testing_Accuracy:  0.6991869918699187\n"
     ]
    }
   ],
   "source": [
    "dtc = DecisionTreeClassifier(random_state=21, min_samples_split = 24)\n",
    "\n",
    "model = dtc.fit(xtrain, ytrain)\n",
    "pred_tr = model.predict(xtrain)\n",
    "pred_ts = model.predict(xtest)\n",
    "\n",
    "from sklearn.metrics import accuracy_score\n",
    "tr_err = accuracy_score(ytrain, pred_tr)\n",
    "ts_err = accuracy_score(ytest, pred_ts)\n",
    "print(\"Training_Accuracy: \", tr_err)\n",
    "print(\"Testing_Accuracy: \", ts_err)"
   ]
  },
  {
   "cell_type": "markdown",
   "id": "d0ba548f",
   "metadata": {},
   "source": [
    "# random forest"
   ]
  },
  {
   "cell_type": "code",
   "execution_count": 24,
   "id": "fbe438e8",
   "metadata": {},
   "outputs": [
    {
     "name": "stdout",
     "output_type": "stream",
     "text": [
      "Training_Accuracy:  1.0\n",
      "Testing_Accuracy:  0.7804878048780488\n"
     ]
    }
   ],
   "source": [
    "from sklearn.ensemble import RandomForestClassifier\n",
    "rfc = RandomForestClassifier(random_state= 21)\n",
    "\n",
    "model = rfc.fit(xtrain, ytrain)\n",
    "pred_tr = model.predict(xtrain)\n",
    "pred_ts = model.predict(xtest)\n",
    "\n",
    "from sklearn.metrics import accuracy_score\n",
    "tr_err = accuracy_score(ytrain, pred_tr)\n",
    "ts_err = accuracy_score(ytest, pred_ts)\n",
    "print(\"Training_Accuracy: \", tr_err)\n",
    "print(\"Testing_Accuracy: \", ts_err)"
   ]
  },
  {
   "cell_type": "markdown",
   "id": "a6441341",
   "metadata": {},
   "source": [
    "# random forest with max depth"
   ]
  },
  {
   "cell_type": "code",
   "execution_count": 25,
   "id": "9fbded8d",
   "metadata": {},
   "outputs": [
    {
     "data": {
      "text/plain": [
       "{'max_depth': 5}"
      ]
     },
     "execution_count": 25,
     "metadata": {},
     "output_type": "execute_result"
    }
   ],
   "source": [
    "from sklearn.model_selection import GridSearchCV\n",
    "tg = {\"max_depth\":range(2, 25, 1)}\n",
    "cv = GridSearchCV(rfc, tg, scoring= \"accuracy\", cv = 3)\n",
    "cvmodel = cv.fit(xtrain,ytrain)\n",
    "cvmodel.best_params_"
   ]
  },
  {
   "cell_type": "code",
   "execution_count": 26,
   "id": "8a8f2cb7",
   "metadata": {},
   "outputs": [
    {
     "name": "stdout",
     "output_type": "stream",
     "text": [
      "Training_Accuracy:  0.8187372708757638\n",
      "Testing_Accuracy:  0.8130081300813008\n"
     ]
    }
   ],
   "source": [
    "from sklearn.ensemble import RandomForestClassifier\n",
    "rfc = RandomForestClassifier(random_state= 21, max_depth= 5)\n",
    "\n",
    "model = rfc.fit(xtrain, ytrain)\n",
    "pred_tr = model.predict(xtrain)\n",
    "pred_ts = model.predict(xtest)\n",
    "\n",
    "from sklearn.metrics import accuracy_score\n",
    "tr_err = accuracy_score(ytrain, pred_tr)\n",
    "ts_err = accuracy_score(ytest, pred_ts)\n",
    "print(\"Training_Accuracy: \", tr_err)\n",
    "print(\"Testing_Accuracy: \", ts_err)"
   ]
  },
  {
   "cell_type": "markdown",
   "id": "91d5434b",
   "metadata": {},
   "source": [
    "# random forest with min samples leaf"
   ]
  },
  {
   "cell_type": "code",
   "execution_count": 27,
   "id": "fd4830b0",
   "metadata": {},
   "outputs": [
    {
     "data": {
      "text/plain": [
       "{'min_samples_leaf': 4}"
      ]
     },
     "execution_count": 27,
     "metadata": {},
     "output_type": "execute_result"
    }
   ],
   "source": [
    "rfc = RandomForestClassifier(random_state= 21)\n",
    "from sklearn.model_selection import GridSearchCV\n",
    "tg = {\"min_samples_leaf\":range(2, 25, 1)}\n",
    "cv = GridSearchCV(rfc, tg, scoring= \"accuracy\", cv = 3)\n",
    "cvmodel = cv.fit(xtrain,ytrain)\n",
    "cvmodel.best_params_"
   ]
  },
  {
   "cell_type": "code",
   "execution_count": 28,
   "id": "d0f56040",
   "metadata": {},
   "outputs": [
    {
     "name": "stdout",
     "output_type": "stream",
     "text": [
      "Training_Accuracy:  0.8370672097759674\n",
      "Testing_Accuracy:  0.7967479674796748\n"
     ]
    }
   ],
   "source": [
    "from sklearn.ensemble import RandomForestClassifier\n",
    "rfc = RandomForestClassifier(random_state= 21, min_samples_leaf= 4)\n",
    "\n",
    "model = rfc.fit(xtrain, ytrain)\n",
    "pred_tr = model.predict(xtrain)\n",
    "pred_ts = model.predict(xtest)\n",
    "\n",
    "from sklearn.metrics import accuracy_score\n",
    "tr_err = accuracy_score(ytrain, pred_tr)\n",
    "ts_err = accuracy_score(ytest, pred_ts)\n",
    "print(\"Training_Accuracy: \", tr_err)\n",
    "print(\"Testing_Accuracy: \", ts_err)"
   ]
  },
  {
   "cell_type": "markdown",
   "id": "19d0b129",
   "metadata": {},
   "source": [
    "# random forest with min samples split"
   ]
  },
  {
   "cell_type": "code",
   "execution_count": 29,
   "id": "edbd817d",
   "metadata": {},
   "outputs": [
    {
     "data": {
      "text/plain": [
       "{'min_samples_split': 18}"
      ]
     },
     "execution_count": 29,
     "metadata": {},
     "output_type": "execute_result"
    }
   ],
   "source": [
    "rfc = RandomForestClassifier(random_state= 21)\n",
    "from sklearn.model_selection import GridSearchCV\n",
    "tg = {\"min_samples_split\":range(2, 25, 1)}\n",
    "cv = GridSearchCV(rfc, tg, scoring= \"accuracy\", cv = 3)\n",
    "cvmodel = cv.fit(xtrain,ytrain)\n",
    "cvmodel.best_params_"
   ]
  },
  {
   "cell_type": "code",
   "execution_count": 30,
   "id": "f688d08a",
   "metadata": {},
   "outputs": [
    {
     "name": "stdout",
     "output_type": "stream",
     "text": [
      "Training_Accuracy:  0.8065173116089613\n",
      "Testing_Accuracy:  0.8130081300813008\n"
     ]
    }
   ],
   "source": [
    "from sklearn.ensemble import RandomForestClassifier\n",
    "rfc = RandomForestClassifier(random_state= 21, min_samples_leaf= 18)\n",
    "\n",
    "model = rfc.fit(xtrain, ytrain)\n",
    "pred_tr = model.predict(xtrain)\n",
    "pred_ts = model.predict(xtest)\n",
    "\n",
    "from sklearn.metrics import accuracy_score\n",
    "tr_err = accuracy_score(ytrain, pred_tr)\n",
    "ts_err = accuracy_score(ytest, pred_ts)\n",
    "print(\"Training_Accuracy: \", tr_err)\n",
    "print(\"Testing_Accuracy: \", ts_err)"
   ]
  },
  {
   "cell_type": "markdown",
   "id": "21118ba6",
   "metadata": {},
   "source": [
    "# Adaboost"
   ]
  },
  {
   "cell_type": "code",
   "execution_count": 31,
   "id": "0e1512a3",
   "metadata": {},
   "outputs": [
    {
     "data": {
      "text/plain": [
       "{'n_estimators': 2}"
      ]
     },
     "execution_count": 31,
     "metadata": {},
     "output_type": "execute_result"
    }
   ],
   "source": [
    "from sklearn.ensemble import AdaBoostClassifier\n",
    "dtc = DecisionTreeClassifier(random_state= 21, max_depth= 4)\n",
    "\n",
    "abc = AdaBoostClassifier(dtc, random_state=21)\n",
    "tg = {\"n_estimators\":range(2,25,1)}\n",
    "cv = GridSearchCV(abc, tg, scoring= \"accuracy\", cv = 3)\n",
    "cvmodel = cv.fit(xtrain, ytrain)\n",
    "cvmodel.best_params_"
   ]
  },
  {
   "cell_type": "code",
   "execution_count": 32,
   "id": "4b7514b7",
   "metadata": {},
   "outputs": [
    {
     "name": "stdout",
     "output_type": "stream",
     "text": [
      "Training_Accuracy:  0.8431771894093686\n",
      "Testing_Accuracy:  0.7479674796747967\n"
     ]
    }
   ],
   "source": [
    "abc = AdaBoostClassifier(dtc, random_state=21, n_estimators= 2)\n",
    "\n",
    "model = abc.fit(xtrain, ytrain)\n",
    "pred_tr = model.predict(xtrain)\n",
    "pred_ts = model.predict(xtest)\n",
    "\n",
    "from sklearn.metrics import accuracy_score\n",
    "tr_err = accuracy_score(ytrain, pred_tr)\n",
    "ts_err = accuracy_score(ytest, pred_ts)\n",
    "print(\"Training_Accuracy: \", tr_err)\n",
    "print(\"Testing_Accuracy: \", ts_err)"
   ]
  },
  {
   "cell_type": "markdown",
   "id": "677f9fe2",
   "metadata": {},
   "source": [
    "# KNN"
   ]
  },
  {
   "cell_type": "code",
   "execution_count": 33,
   "id": "a4be5da0",
   "metadata": {},
   "outputs": [
    {
     "data": {
      "text/plain": [
       "{'n_neighbors': 38}"
      ]
     },
     "execution_count": 33,
     "metadata": {},
     "output_type": "execute_result"
    }
   ],
   "source": [
    "from sklearn.neighbors import KNeighborsClassifier\n",
    "knc = KNeighborsClassifier()\n",
    "tg = {\"n_neighbors\":range(2, 50, 1)}\n",
    "cv = GridSearchCV(knc, tg, scoring= \"accuracy\", cv = 3)\n",
    "cvmodel = cv.fit(xtrain, ytrain)\n",
    "cvmodel.best_params_"
   ]
  },
  {
   "cell_type": "code",
   "execution_count": 34,
   "id": "45c4a55c",
   "metadata": {},
   "outputs": [
    {
     "name": "stdout",
     "output_type": "stream",
     "text": [
      "Training_Accuracy:  0.8044806517311609\n",
      "Testing_Accuracy:  0.8211382113821138\n"
     ]
    }
   ],
   "source": [
    "knc = KNeighborsClassifier(n_neighbors= 38)\n",
    "\n",
    "model = knc.fit(xtrain, ytrain)\n",
    "pred_tr = model.predict(xtrain)\n",
    "pred_ts = model.predict(xtest)\n",
    "\n",
    "from sklearn.metrics import accuracy_score\n",
    "tr_err = accuracy_score(ytrain, pred_tr)\n",
    "ts_err = accuracy_score(ytest, pred_ts)\n",
    "print(\"Training_Accuracy: \", tr_err)\n",
    "print(\"Testing_Accuracy: \", ts_err)"
   ]
  },
  {
   "cell_type": "markdown",
   "id": "5a91d3ef",
   "metadata": {},
   "source": [
    "# fetching testing set"
   ]
  },
  {
   "cell_type": "code",
   "execution_count": 35,
   "id": "bf4d45e4",
   "metadata": {},
   "outputs": [
    {
     "data": {
      "text/html": [
       "<div>\n",
       "<style scoped>\n",
       "    .dataframe tbody tr th:only-of-type {\n",
       "        vertical-align: middle;\n",
       "    }\n",
       "\n",
       "    .dataframe tbody tr th {\n",
       "        vertical-align: top;\n",
       "    }\n",
       "\n",
       "    .dataframe thead th {\n",
       "        text-align: right;\n",
       "    }\n",
       "</style>\n",
       "<table border=\"1\" class=\"dataframe\">\n",
       "  <thead>\n",
       "    <tr style=\"text-align: right;\">\n",
       "      <th></th>\n",
       "      <th>Loan_ID</th>\n",
       "      <th>Gender</th>\n",
       "      <th>Married</th>\n",
       "      <th>Dependents</th>\n",
       "      <th>Education</th>\n",
       "      <th>Self_Employed</th>\n",
       "      <th>ApplicantIncome</th>\n",
       "      <th>CoapplicantIncome</th>\n",
       "      <th>LoanAmount</th>\n",
       "      <th>Loan_Amount_Term</th>\n",
       "      <th>Credit_History</th>\n",
       "      <th>Property_Area</th>\n",
       "    </tr>\n",
       "  </thead>\n",
       "  <tbody>\n",
       "    <tr>\n",
       "      <th>0</th>\n",
       "      <td>LP001015</td>\n",
       "      <td>Male</td>\n",
       "      <td>Yes</td>\n",
       "      <td>0</td>\n",
       "      <td>Graduate</td>\n",
       "      <td>No</td>\n",
       "      <td>5720</td>\n",
       "      <td>0</td>\n",
       "      <td>110.0</td>\n",
       "      <td>360.0</td>\n",
       "      <td>1.0</td>\n",
       "      <td>Urban</td>\n",
       "    </tr>\n",
       "    <tr>\n",
       "      <th>1</th>\n",
       "      <td>LP001022</td>\n",
       "      <td>Male</td>\n",
       "      <td>Yes</td>\n",
       "      <td>1</td>\n",
       "      <td>Graduate</td>\n",
       "      <td>No</td>\n",
       "      <td>3076</td>\n",
       "      <td>1500</td>\n",
       "      <td>126.0</td>\n",
       "      <td>360.0</td>\n",
       "      <td>1.0</td>\n",
       "      <td>Urban</td>\n",
       "    </tr>\n",
       "    <tr>\n",
       "      <th>2</th>\n",
       "      <td>LP001031</td>\n",
       "      <td>Male</td>\n",
       "      <td>Yes</td>\n",
       "      <td>2</td>\n",
       "      <td>Graduate</td>\n",
       "      <td>No</td>\n",
       "      <td>5000</td>\n",
       "      <td>1800</td>\n",
       "      <td>208.0</td>\n",
       "      <td>360.0</td>\n",
       "      <td>1.0</td>\n",
       "      <td>Urban</td>\n",
       "    </tr>\n",
       "    <tr>\n",
       "      <th>3</th>\n",
       "      <td>LP001035</td>\n",
       "      <td>Male</td>\n",
       "      <td>Yes</td>\n",
       "      <td>2</td>\n",
       "      <td>Graduate</td>\n",
       "      <td>No</td>\n",
       "      <td>2340</td>\n",
       "      <td>2546</td>\n",
       "      <td>100.0</td>\n",
       "      <td>360.0</td>\n",
       "      <td>NaN</td>\n",
       "      <td>Urban</td>\n",
       "    </tr>\n",
       "    <tr>\n",
       "      <th>4</th>\n",
       "      <td>LP001051</td>\n",
       "      <td>Male</td>\n",
       "      <td>No</td>\n",
       "      <td>0</td>\n",
       "      <td>Not Graduate</td>\n",
       "      <td>No</td>\n",
       "      <td>3276</td>\n",
       "      <td>0</td>\n",
       "      <td>78.0</td>\n",
       "      <td>360.0</td>\n",
       "      <td>1.0</td>\n",
       "      <td>Urban</td>\n",
       "    </tr>\n",
       "  </tbody>\n",
       "</table>\n",
       "</div>"
      ],
      "text/plain": [
       "    Loan_ID Gender Married Dependents     Education Self_Employed  \\\n",
       "0  LP001015   Male     Yes          0      Graduate            No   \n",
       "1  LP001022   Male     Yes          1      Graduate            No   \n",
       "2  LP001031   Male     Yes          2      Graduate            No   \n",
       "3  LP001035   Male     Yes          2      Graduate            No   \n",
       "4  LP001051   Male      No          0  Not Graduate            No   \n",
       "\n",
       "   ApplicantIncome  CoapplicantIncome  LoanAmount  Loan_Amount_Term  \\\n",
       "0             5720                  0       110.0             360.0   \n",
       "1             3076               1500       126.0             360.0   \n",
       "2             5000               1800       208.0             360.0   \n",
       "3             2340               2546       100.0             360.0   \n",
       "4             3276                  0        78.0             360.0   \n",
       "\n",
       "   Credit_History Property_Area  \n",
       "0             1.0         Urban  \n",
       "1             1.0         Urban  \n",
       "2             1.0         Urban  \n",
       "3             NaN         Urban  \n",
       "4             1.0         Urban  "
      ]
     },
     "execution_count": 35,
     "metadata": {},
     "output_type": "execute_result"
    }
   ],
   "source": [
    "Testing_set = pd.read_csv(\"F:/DS_ML_AI_Course/START/22_23122021_PROJECT_02/testing_set.csv\")\n",
    "Testing_set.head()"
   ]
  },
  {
   "cell_type": "markdown",
   "id": "ac0e6d27",
   "metadata": {},
   "source": [
    "# preprocessing"
   ]
  },
  {
   "cell_type": "code",
   "execution_count": 36,
   "id": "3364a9b5",
   "metadata": {},
   "outputs": [],
   "source": [
    "replacer(Testing_set)"
   ]
  },
  {
   "cell_type": "code",
   "execution_count": 37,
   "id": "cc94276d",
   "metadata": {},
   "outputs": [],
   "source": [
    "Testing_set = Testing_set.drop(labels = \"Loan_ID\", axis = 1)"
   ]
  },
  {
   "cell_type": "code",
   "execution_count": 38,
   "id": "eab4b998",
   "metadata": {},
   "outputs": [
    {
     "data": {
      "text/html": [
       "<div>\n",
       "<style scoped>\n",
       "    .dataframe tbody tr th:only-of-type {\n",
       "        vertical-align: middle;\n",
       "    }\n",
       "\n",
       "    .dataframe tbody tr th {\n",
       "        vertical-align: top;\n",
       "    }\n",
       "\n",
       "    .dataframe thead th {\n",
       "        text-align: right;\n",
       "    }\n",
       "</style>\n",
       "<table border=\"1\" class=\"dataframe\">\n",
       "  <thead>\n",
       "    <tr style=\"text-align: right;\">\n",
       "      <th></th>\n",
       "      <th>Gender_Female</th>\n",
       "      <th>Gender_Male</th>\n",
       "      <th>Married_No</th>\n",
       "      <th>Married_Yes</th>\n",
       "      <th>Dependents_0</th>\n",
       "      <th>Dependents_1</th>\n",
       "      <th>Dependents_2</th>\n",
       "      <th>Dependents_3+</th>\n",
       "      <th>Education_Graduate</th>\n",
       "      <th>Education_Not Graduate</th>\n",
       "      <th>Self_Employed_No</th>\n",
       "      <th>Self_Employed_Yes</th>\n",
       "      <th>Property_Area_Rural</th>\n",
       "      <th>Property_Area_Semiurban</th>\n",
       "      <th>Property_Area_Urban</th>\n",
       "    </tr>\n",
       "  </thead>\n",
       "  <tbody>\n",
       "    <tr>\n",
       "      <th>0</th>\n",
       "      <td>0</td>\n",
       "      <td>1</td>\n",
       "      <td>0</td>\n",
       "      <td>1</td>\n",
       "      <td>1</td>\n",
       "      <td>0</td>\n",
       "      <td>0</td>\n",
       "      <td>0</td>\n",
       "      <td>1</td>\n",
       "      <td>0</td>\n",
       "      <td>1</td>\n",
       "      <td>0</td>\n",
       "      <td>0</td>\n",
       "      <td>0</td>\n",
       "      <td>1</td>\n",
       "    </tr>\n",
       "    <tr>\n",
       "      <th>1</th>\n",
       "      <td>0</td>\n",
       "      <td>1</td>\n",
       "      <td>0</td>\n",
       "      <td>1</td>\n",
       "      <td>0</td>\n",
       "      <td>1</td>\n",
       "      <td>0</td>\n",
       "      <td>0</td>\n",
       "      <td>1</td>\n",
       "      <td>0</td>\n",
       "      <td>1</td>\n",
       "      <td>0</td>\n",
       "      <td>0</td>\n",
       "      <td>0</td>\n",
       "      <td>1</td>\n",
       "    </tr>\n",
       "    <tr>\n",
       "      <th>2</th>\n",
       "      <td>0</td>\n",
       "      <td>1</td>\n",
       "      <td>0</td>\n",
       "      <td>1</td>\n",
       "      <td>0</td>\n",
       "      <td>0</td>\n",
       "      <td>1</td>\n",
       "      <td>0</td>\n",
       "      <td>1</td>\n",
       "      <td>0</td>\n",
       "      <td>1</td>\n",
       "      <td>0</td>\n",
       "      <td>0</td>\n",
       "      <td>0</td>\n",
       "      <td>1</td>\n",
       "    </tr>\n",
       "    <tr>\n",
       "      <th>3</th>\n",
       "      <td>0</td>\n",
       "      <td>1</td>\n",
       "      <td>0</td>\n",
       "      <td>1</td>\n",
       "      <td>0</td>\n",
       "      <td>0</td>\n",
       "      <td>1</td>\n",
       "      <td>0</td>\n",
       "      <td>1</td>\n",
       "      <td>0</td>\n",
       "      <td>1</td>\n",
       "      <td>0</td>\n",
       "      <td>0</td>\n",
       "      <td>0</td>\n",
       "      <td>1</td>\n",
       "    </tr>\n",
       "    <tr>\n",
       "      <th>4</th>\n",
       "      <td>0</td>\n",
       "      <td>1</td>\n",
       "      <td>1</td>\n",
       "      <td>0</td>\n",
       "      <td>1</td>\n",
       "      <td>0</td>\n",
       "      <td>0</td>\n",
       "      <td>0</td>\n",
       "      <td>0</td>\n",
       "      <td>1</td>\n",
       "      <td>1</td>\n",
       "      <td>0</td>\n",
       "      <td>0</td>\n",
       "      <td>0</td>\n",
       "      <td>1</td>\n",
       "    </tr>\n",
       "  </tbody>\n",
       "</table>\n",
       "</div>"
      ],
      "text/plain": [
       "   Gender_Female  Gender_Male  Married_No  Married_Yes  Dependents_0  \\\n",
       "0              0            1           0            1             1   \n",
       "1              0            1           0            1             0   \n",
       "2              0            1           0            1             0   \n",
       "3              0            1           0            1             0   \n",
       "4              0            1           1            0             1   \n",
       "\n",
       "   Dependents_1  Dependents_2  Dependents_3+  Education_Graduate  \\\n",
       "0             0             0              0                   1   \n",
       "1             1             0              0                   1   \n",
       "2             0             1              0                   1   \n",
       "3             0             1              0                   1   \n",
       "4             0             0              0                   0   \n",
       "\n",
       "   Education_Not Graduate  Self_Employed_No  Self_Employed_Yes  \\\n",
       "0                       0                 1                  0   \n",
       "1                       0                 1                  0   \n",
       "2                       0                 1                  0   \n",
       "3                       0                 1                  0   \n",
       "4                       1                 1                  0   \n",
       "\n",
       "   Property_Area_Rural  Property_Area_Semiurban  Property_Area_Urban  \n",
       "0                    0                        0                    1  \n",
       "1                    0                        0                    1  \n",
       "2                    0                        0                    1  \n",
       "3                    0                        0                    1  \n",
       "4                    0                        0                    1  "
      ]
     },
     "execution_count": 38,
     "metadata": {},
     "output_type": "execute_result"
    }
   ],
   "source": [
    "Testing_set_cat = pd.get_dummies(Testing_set[cat])\n",
    "Testing_set_cat.head()"
   ]
  },
  {
   "cell_type": "code",
   "execution_count": 39,
   "id": "c36f60d2",
   "metadata": {},
   "outputs": [
    {
     "data": {
      "text/html": [
       "<div>\n",
       "<style scoped>\n",
       "    .dataframe tbody tr th:only-of-type {\n",
       "        vertical-align: middle;\n",
       "    }\n",
       "\n",
       "    .dataframe tbody tr th {\n",
       "        vertical-align: top;\n",
       "    }\n",
       "\n",
       "    .dataframe thead th {\n",
       "        text-align: right;\n",
       "    }\n",
       "</style>\n",
       "<table border=\"1\" class=\"dataframe\">\n",
       "  <thead>\n",
       "    <tr style=\"text-align: right;\">\n",
       "      <th></th>\n",
       "      <th>ApplicantIncome</th>\n",
       "      <th>CoapplicantIncome</th>\n",
       "      <th>LoanAmount</th>\n",
       "      <th>Loan_Amount_Term</th>\n",
       "      <th>Credit_History</th>\n",
       "    </tr>\n",
       "  </thead>\n",
       "  <tbody>\n",
       "    <tr>\n",
       "      <th>0</th>\n",
       "      <td>0.186461</td>\n",
       "      <td>-0.673335</td>\n",
       "      <td>-0.429368</td>\n",
       "      <td>0.270603</td>\n",
       "      <td>0.47918</td>\n",
       "    </tr>\n",
       "    <tr>\n",
       "      <th>1</th>\n",
       "      <td>-0.352692</td>\n",
       "      <td>-0.029848</td>\n",
       "      <td>-0.166482</td>\n",
       "      <td>0.270603</td>\n",
       "      <td>0.47918</td>\n",
       "    </tr>\n",
       "    <tr>\n",
       "      <th>2</th>\n",
       "      <td>0.039641</td>\n",
       "      <td>0.098849</td>\n",
       "      <td>1.180807</td>\n",
       "      <td>0.270603</td>\n",
       "      <td>0.47918</td>\n",
       "    </tr>\n",
       "    <tr>\n",
       "      <th>3</th>\n",
       "      <td>-0.502774</td>\n",
       "      <td>0.418877</td>\n",
       "      <td>-0.593671</td>\n",
       "      <td>0.270603</td>\n",
       "      <td>0.00000</td>\n",
       "    </tr>\n",
       "    <tr>\n",
       "      <th>4</th>\n",
       "      <td>-0.311909</td>\n",
       "      <td>-0.673335</td>\n",
       "      <td>-0.955139</td>\n",
       "      <td>0.270603</td>\n",
       "      <td>0.47918</td>\n",
       "    </tr>\n",
       "  </tbody>\n",
       "</table>\n",
       "</div>"
      ],
      "text/plain": [
       "   ApplicantIncome  CoapplicantIncome  LoanAmount  Loan_Amount_Term  \\\n",
       "0         0.186461          -0.673335   -0.429368          0.270603   \n",
       "1        -0.352692          -0.029848   -0.166482          0.270603   \n",
       "2         0.039641           0.098849    1.180807          0.270603   \n",
       "3        -0.502774           0.418877   -0.593671          0.270603   \n",
       "4        -0.311909          -0.673335   -0.955139          0.270603   \n",
       "\n",
       "   Credit_History  \n",
       "0         0.47918  \n",
       "1         0.47918  \n",
       "2         0.47918  \n",
       "3         0.00000  \n",
       "4         0.47918  "
      ]
     },
     "execution_count": 39,
     "metadata": {},
     "output_type": "execute_result"
    }
   ],
   "source": [
    "from sklearn.preprocessing import StandardScaler\n",
    "ss = StandardScaler()\n",
    "Testing_set_con = pd.DataFrame(ss.fit_transform(Testing_set[con]), columns = con)\n",
    "Testing_set_con.head()"
   ]
  },
  {
   "cell_type": "code",
   "execution_count": 40,
   "id": "3a108d7d",
   "metadata": {},
   "outputs": [],
   "source": [
    "Testing_set = Testing_set_con.join(Testing_set_cat)"
   ]
  },
  {
   "cell_type": "code",
   "execution_count": 41,
   "id": "20f3dff2",
   "metadata": {},
   "outputs": [
    {
     "data": {
      "text/html": [
       "<div>\n",
       "<style scoped>\n",
       "    .dataframe tbody tr th:only-of-type {\n",
       "        vertical-align: middle;\n",
       "    }\n",
       "\n",
       "    .dataframe tbody tr th {\n",
       "        vertical-align: top;\n",
       "    }\n",
       "\n",
       "    .dataframe thead th {\n",
       "        text-align: right;\n",
       "    }\n",
       "</style>\n",
       "<table border=\"1\" class=\"dataframe\">\n",
       "  <thead>\n",
       "    <tr style=\"text-align: right;\">\n",
       "      <th></th>\n",
       "      <th>ApplicantIncome</th>\n",
       "      <th>CoapplicantIncome</th>\n",
       "      <th>LoanAmount</th>\n",
       "      <th>Loan_Amount_Term</th>\n",
       "      <th>Credit_History</th>\n",
       "      <th>Gender_Female</th>\n",
       "      <th>Gender_Male</th>\n",
       "      <th>Married_No</th>\n",
       "      <th>Married_Yes</th>\n",
       "      <th>Dependents_0</th>\n",
       "      <th>Dependents_1</th>\n",
       "      <th>Dependents_2</th>\n",
       "      <th>Dependents_3+</th>\n",
       "      <th>Education_Graduate</th>\n",
       "      <th>Education_Not Graduate</th>\n",
       "      <th>Self_Employed_No</th>\n",
       "      <th>Self_Employed_Yes</th>\n",
       "      <th>Property_Area_Rural</th>\n",
       "      <th>Property_Area_Semiurban</th>\n",
       "      <th>Property_Area_Urban</th>\n",
       "    </tr>\n",
       "  </thead>\n",
       "  <tbody>\n",
       "    <tr>\n",
       "      <th>0</th>\n",
       "      <td>0.186461</td>\n",
       "      <td>-0.673335</td>\n",
       "      <td>-0.429368</td>\n",
       "      <td>0.270603</td>\n",
       "      <td>0.47918</td>\n",
       "      <td>0</td>\n",
       "      <td>1</td>\n",
       "      <td>0</td>\n",
       "      <td>1</td>\n",
       "      <td>1</td>\n",
       "      <td>0</td>\n",
       "      <td>0</td>\n",
       "      <td>0</td>\n",
       "      <td>1</td>\n",
       "      <td>0</td>\n",
       "      <td>1</td>\n",
       "      <td>0</td>\n",
       "      <td>0</td>\n",
       "      <td>0</td>\n",
       "      <td>1</td>\n",
       "    </tr>\n",
       "    <tr>\n",
       "      <th>1</th>\n",
       "      <td>-0.352692</td>\n",
       "      <td>-0.029848</td>\n",
       "      <td>-0.166482</td>\n",
       "      <td>0.270603</td>\n",
       "      <td>0.47918</td>\n",
       "      <td>0</td>\n",
       "      <td>1</td>\n",
       "      <td>0</td>\n",
       "      <td>1</td>\n",
       "      <td>0</td>\n",
       "      <td>1</td>\n",
       "      <td>0</td>\n",
       "      <td>0</td>\n",
       "      <td>1</td>\n",
       "      <td>0</td>\n",
       "      <td>1</td>\n",
       "      <td>0</td>\n",
       "      <td>0</td>\n",
       "      <td>0</td>\n",
       "      <td>1</td>\n",
       "    </tr>\n",
       "    <tr>\n",
       "      <th>2</th>\n",
       "      <td>0.039641</td>\n",
       "      <td>0.098849</td>\n",
       "      <td>1.180807</td>\n",
       "      <td>0.270603</td>\n",
       "      <td>0.47918</td>\n",
       "      <td>0</td>\n",
       "      <td>1</td>\n",
       "      <td>0</td>\n",
       "      <td>1</td>\n",
       "      <td>0</td>\n",
       "      <td>0</td>\n",
       "      <td>1</td>\n",
       "      <td>0</td>\n",
       "      <td>1</td>\n",
       "      <td>0</td>\n",
       "      <td>1</td>\n",
       "      <td>0</td>\n",
       "      <td>0</td>\n",
       "      <td>0</td>\n",
       "      <td>1</td>\n",
       "    </tr>\n",
       "    <tr>\n",
       "      <th>3</th>\n",
       "      <td>-0.502774</td>\n",
       "      <td>0.418877</td>\n",
       "      <td>-0.593671</td>\n",
       "      <td>0.270603</td>\n",
       "      <td>0.00000</td>\n",
       "      <td>0</td>\n",
       "      <td>1</td>\n",
       "      <td>0</td>\n",
       "      <td>1</td>\n",
       "      <td>0</td>\n",
       "      <td>0</td>\n",
       "      <td>1</td>\n",
       "      <td>0</td>\n",
       "      <td>1</td>\n",
       "      <td>0</td>\n",
       "      <td>1</td>\n",
       "      <td>0</td>\n",
       "      <td>0</td>\n",
       "      <td>0</td>\n",
       "      <td>1</td>\n",
       "    </tr>\n",
       "    <tr>\n",
       "      <th>4</th>\n",
       "      <td>-0.311909</td>\n",
       "      <td>-0.673335</td>\n",
       "      <td>-0.955139</td>\n",
       "      <td>0.270603</td>\n",
       "      <td>0.47918</td>\n",
       "      <td>0</td>\n",
       "      <td>1</td>\n",
       "      <td>1</td>\n",
       "      <td>0</td>\n",
       "      <td>1</td>\n",
       "      <td>0</td>\n",
       "      <td>0</td>\n",
       "      <td>0</td>\n",
       "      <td>0</td>\n",
       "      <td>1</td>\n",
       "      <td>1</td>\n",
       "      <td>0</td>\n",
       "      <td>0</td>\n",
       "      <td>0</td>\n",
       "      <td>1</td>\n",
       "    </tr>\n",
       "  </tbody>\n",
       "</table>\n",
       "</div>"
      ],
      "text/plain": [
       "   ApplicantIncome  CoapplicantIncome  LoanAmount  Loan_Amount_Term  \\\n",
       "0         0.186461          -0.673335   -0.429368          0.270603   \n",
       "1        -0.352692          -0.029848   -0.166482          0.270603   \n",
       "2         0.039641           0.098849    1.180807          0.270603   \n",
       "3        -0.502774           0.418877   -0.593671          0.270603   \n",
       "4        -0.311909          -0.673335   -0.955139          0.270603   \n",
       "\n",
       "   Credit_History  Gender_Female  Gender_Male  Married_No  Married_Yes  \\\n",
       "0         0.47918              0            1           0            1   \n",
       "1         0.47918              0            1           0            1   \n",
       "2         0.47918              0            1           0            1   \n",
       "3         0.00000              0            1           0            1   \n",
       "4         0.47918              0            1           1            0   \n",
       "\n",
       "   Dependents_0  Dependents_1  Dependents_2  Dependents_3+  \\\n",
       "0             1             0             0              0   \n",
       "1             0             1             0              0   \n",
       "2             0             0             1              0   \n",
       "3             0             0             1              0   \n",
       "4             1             0             0              0   \n",
       "\n",
       "   Education_Graduate  Education_Not Graduate  Self_Employed_No  \\\n",
       "0                   1                       0                 1   \n",
       "1                   1                       0                 1   \n",
       "2                   1                       0                 1   \n",
       "3                   1                       0                 1   \n",
       "4                   0                       1                 1   \n",
       "\n",
       "   Self_Employed_Yes  Property_Area_Rural  Property_Area_Semiurban  \\\n",
       "0                  0                    0                        0   \n",
       "1                  0                    0                        0   \n",
       "2                  0                    0                        0   \n",
       "3                  0                    0                        0   \n",
       "4                  0                    0                        0   \n",
       "\n",
       "   Property_Area_Urban  \n",
       "0                    1  \n",
       "1                    1  \n",
       "2                    1  \n",
       "3                    1  \n",
       "4                    1  "
      ]
     },
     "execution_count": 41,
     "metadata": {},
     "output_type": "execute_result"
    }
   ],
   "source": [
    "Testing_set.head()"
   ]
  },
  {
   "cell_type": "markdown",
   "id": "5bfe9a0a",
   "metadata": {},
   "source": [
    "# results - random forest with max depth"
   ]
  },
  {
   "cell_type": "code",
   "execution_count": 42,
   "id": "ffb2b045",
   "metadata": {},
   "outputs": [
    {
     "name": "stdout",
     "output_type": "stream",
     "text": [
      "Training_Accuracy:  0.8187372708757638\n",
      "Testing_Accuracy:  0.8130081300813008\n"
     ]
    }
   ],
   "source": [
    "from sklearn.ensemble import RandomForestClassifier\n",
    "rfc = RandomForestClassifier(random_state= 21, max_depth= 5)\n",
    "\n",
    "model = rfc.fit(xtrain, ytrain)\n",
    "pred_tr = model.predict(xtrain)\n",
    "pred_ts = model.predict(xtest)\n",
    "\n",
    "from sklearn.metrics import accuracy_score\n",
    "tr_err = accuracy_score(ytrain, pred_tr)\n",
    "ts_err = accuracy_score(ytest, pred_ts)\n",
    "print(\"Training_Accuracy: \", tr_err)\n",
    "print(\"Testing_Accuracy: \", ts_err)"
   ]
  },
  {
   "cell_type": "code",
   "execution_count": 43,
   "id": "66eee5ca",
   "metadata": {},
   "outputs": [],
   "source": [
    "pridicted_loan_status = model.predict(Testing_set)"
   ]
  },
  {
   "cell_type": "code",
   "execution_count": 44,
   "id": "fc935fab",
   "metadata": {},
   "outputs": [
    {
     "data": {
      "text/html": [
       "<div>\n",
       "<style scoped>\n",
       "    .dataframe tbody tr th:only-of-type {\n",
       "        vertical-align: middle;\n",
       "    }\n",
       "\n",
       "    .dataframe tbody tr th {\n",
       "        vertical-align: top;\n",
       "    }\n",
       "\n",
       "    .dataframe thead th {\n",
       "        text-align: right;\n",
       "    }\n",
       "</style>\n",
       "<table border=\"1\" class=\"dataframe\">\n",
       "  <thead>\n",
       "    <tr style=\"text-align: right;\">\n",
       "      <th></th>\n",
       "      <th>Loan_ID</th>\n",
       "      <th>Pridicted_Loan_Status</th>\n",
       "    </tr>\n",
       "  </thead>\n",
       "  <tbody>\n",
       "    <tr>\n",
       "      <th>0</th>\n",
       "      <td>LP001015</td>\n",
       "      <td>Y</td>\n",
       "    </tr>\n",
       "    <tr>\n",
       "      <th>1</th>\n",
       "      <td>LP001022</td>\n",
       "      <td>Y</td>\n",
       "    </tr>\n",
       "    <tr>\n",
       "      <th>2</th>\n",
       "      <td>LP001031</td>\n",
       "      <td>Y</td>\n",
       "    </tr>\n",
       "    <tr>\n",
       "      <th>3</th>\n",
       "      <td>LP001035</td>\n",
       "      <td>Y</td>\n",
       "    </tr>\n",
       "    <tr>\n",
       "      <th>4</th>\n",
       "      <td>LP001051</td>\n",
       "      <td>Y</td>\n",
       "    </tr>\n",
       "    <tr>\n",
       "      <th>5</th>\n",
       "      <td>LP001054</td>\n",
       "      <td>Y</td>\n",
       "    </tr>\n",
       "    <tr>\n",
       "      <th>6</th>\n",
       "      <td>LP001055</td>\n",
       "      <td>Y</td>\n",
       "    </tr>\n",
       "    <tr>\n",
       "      <th>7</th>\n",
       "      <td>LP001056</td>\n",
       "      <td>N</td>\n",
       "    </tr>\n",
       "    <tr>\n",
       "      <th>8</th>\n",
       "      <td>LP001059</td>\n",
       "      <td>Y</td>\n",
       "    </tr>\n",
       "    <tr>\n",
       "      <th>9</th>\n",
       "      <td>LP001067</td>\n",
       "      <td>Y</td>\n",
       "    </tr>\n",
       "    <tr>\n",
       "      <th>10</th>\n",
       "      <td>LP001078</td>\n",
       "      <td>Y</td>\n",
       "    </tr>\n",
       "    <tr>\n",
       "      <th>11</th>\n",
       "      <td>LP001082</td>\n",
       "      <td>Y</td>\n",
       "    </tr>\n",
       "    <tr>\n",
       "      <th>12</th>\n",
       "      <td>LP001083</td>\n",
       "      <td>Y</td>\n",
       "    </tr>\n",
       "    <tr>\n",
       "      <th>13</th>\n",
       "      <td>LP001094</td>\n",
       "      <td>N</td>\n",
       "    </tr>\n",
       "    <tr>\n",
       "      <th>14</th>\n",
       "      <td>LP001096</td>\n",
       "      <td>Y</td>\n",
       "    </tr>\n",
       "    <tr>\n",
       "      <th>15</th>\n",
       "      <td>LP001099</td>\n",
       "      <td>Y</td>\n",
       "    </tr>\n",
       "    <tr>\n",
       "      <th>16</th>\n",
       "      <td>LP001105</td>\n",
       "      <td>Y</td>\n",
       "    </tr>\n",
       "    <tr>\n",
       "      <th>17</th>\n",
       "      <td>LP001107</td>\n",
       "      <td>Y</td>\n",
       "    </tr>\n",
       "    <tr>\n",
       "      <th>18</th>\n",
       "      <td>LP001108</td>\n",
       "      <td>Y</td>\n",
       "    </tr>\n",
       "    <tr>\n",
       "      <th>19</th>\n",
       "      <td>LP001115</td>\n",
       "      <td>Y</td>\n",
       "    </tr>\n",
       "  </tbody>\n",
       "</table>\n",
       "</div>"
      ],
      "text/plain": [
       "     Loan_ID Pridicted_Loan_Status\n",
       "0   LP001015                     Y\n",
       "1   LP001022                     Y\n",
       "2   LP001031                     Y\n",
       "3   LP001035                     Y\n",
       "4   LP001051                     Y\n",
       "5   LP001054                     Y\n",
       "6   LP001055                     Y\n",
       "7   LP001056                     N\n",
       "8   LP001059                     Y\n",
       "9   LP001067                     Y\n",
       "10  LP001078                     Y\n",
       "11  LP001082                     Y\n",
       "12  LP001083                     Y\n",
       "13  LP001094                     N\n",
       "14  LP001096                     Y\n",
       "15  LP001099                     Y\n",
       "16  LP001105                     Y\n",
       "17  LP001107                     Y\n",
       "18  LP001108                     Y\n",
       "19  LP001115                     Y"
      ]
     },
     "execution_count": 44,
     "metadata": {},
     "output_type": "execute_result"
    }
   ],
   "source": [
    "temp_Testing_set = pd.read_csv(\"F:/DS_ML_AI_Course/START/22_23122021_PROJECT_02/testing_set.csv\")\n",
    "E = temp_Testing_set[[\"Loan_ID\"]]\n",
    "E[\"Pridicted_Loan_Status\"] = pridicted_loan_status\n",
    "E.head(20)"
   ]
  },
  {
   "cell_type": "markdown",
   "id": "4d7c01bd",
   "metadata": {},
   "source": [
    "# Problem 002"
   ]
  },
  {
   "cell_type": "code",
   "execution_count": 45,
   "id": "cb998914",
   "metadata": {},
   "outputs": [],
   "source": [
    "A = pd.read_csv(\"F:/DS_ML_AI_Course/START/22_23122021_PROJECT_02/training_set.csv\")"
   ]
  },
  {
   "cell_type": "code",
   "execution_count": 46,
   "id": "dabd6ef4",
   "metadata": {},
   "outputs": [
    {
     "data": {
      "text/html": [
       "<div>\n",
       "<style scoped>\n",
       "    .dataframe tbody tr th:only-of-type {\n",
       "        vertical-align: middle;\n",
       "    }\n",
       "\n",
       "    .dataframe tbody tr th {\n",
       "        vertical-align: top;\n",
       "    }\n",
       "\n",
       "    .dataframe thead th {\n",
       "        text-align: right;\n",
       "    }\n",
       "</style>\n",
       "<table border=\"1\" class=\"dataframe\">\n",
       "  <thead>\n",
       "    <tr style=\"text-align: right;\">\n",
       "      <th></th>\n",
       "      <th>Loan_ID</th>\n",
       "      <th>Gender</th>\n",
       "      <th>Married</th>\n",
       "      <th>Dependents</th>\n",
       "      <th>Education</th>\n",
       "      <th>Self_Employed</th>\n",
       "      <th>ApplicantIncome</th>\n",
       "      <th>CoapplicantIncome</th>\n",
       "      <th>LoanAmount</th>\n",
       "      <th>Loan_Amount_Term</th>\n",
       "      <th>Credit_History</th>\n",
       "      <th>Property_Area</th>\n",
       "      <th>Loan_Status</th>\n",
       "    </tr>\n",
       "  </thead>\n",
       "  <tbody>\n",
       "    <tr>\n",
       "      <th>0</th>\n",
       "      <td>LP001002</td>\n",
       "      <td>Male</td>\n",
       "      <td>No</td>\n",
       "      <td>0</td>\n",
       "      <td>Graduate</td>\n",
       "      <td>No</td>\n",
       "      <td>5849.0</td>\n",
       "      <td>0.0</td>\n",
       "      <td>NaN</td>\n",
       "      <td>360.0</td>\n",
       "      <td>1.0</td>\n",
       "      <td>Urban</td>\n",
       "      <td>Y</td>\n",
       "    </tr>\n",
       "    <tr>\n",
       "      <th>1</th>\n",
       "      <td>LP001003</td>\n",
       "      <td>Male</td>\n",
       "      <td>Yes</td>\n",
       "      <td>1</td>\n",
       "      <td>Graduate</td>\n",
       "      <td>No</td>\n",
       "      <td>NaN</td>\n",
       "      <td>1508.0</td>\n",
       "      <td>128.0</td>\n",
       "      <td>360.0</td>\n",
       "      <td>1.0</td>\n",
       "      <td>Rural</td>\n",
       "      <td>N</td>\n",
       "    </tr>\n",
       "    <tr>\n",
       "      <th>2</th>\n",
       "      <td>LP001005</td>\n",
       "      <td>Male</td>\n",
       "      <td>Yes</td>\n",
       "      <td>0</td>\n",
       "      <td>Graduate</td>\n",
       "      <td>Yes</td>\n",
       "      <td>3000.0</td>\n",
       "      <td>0.0</td>\n",
       "      <td>66.0</td>\n",
       "      <td>360.0</td>\n",
       "      <td>1.0</td>\n",
       "      <td>Urban</td>\n",
       "      <td>Y</td>\n",
       "    </tr>\n",
       "    <tr>\n",
       "      <th>3</th>\n",
       "      <td>LP001006</td>\n",
       "      <td>Male</td>\n",
       "      <td>Yes</td>\n",
       "      <td>0</td>\n",
       "      <td>Not Graduate</td>\n",
       "      <td>No</td>\n",
       "      <td>2583.0</td>\n",
       "      <td>2358.0</td>\n",
       "      <td>120.0</td>\n",
       "      <td>360.0</td>\n",
       "      <td>1.0</td>\n",
       "      <td>Urban</td>\n",
       "      <td>Y</td>\n",
       "    </tr>\n",
       "    <tr>\n",
       "      <th>4</th>\n",
       "      <td>LP001008</td>\n",
       "      <td>Male</td>\n",
       "      <td>No</td>\n",
       "      <td>0</td>\n",
       "      <td>Graduate</td>\n",
       "      <td>No</td>\n",
       "      <td>6000.0</td>\n",
       "      <td>0.0</td>\n",
       "      <td>141.0</td>\n",
       "      <td>360.0</td>\n",
       "      <td>1.0</td>\n",
       "      <td>Urban</td>\n",
       "      <td>Y</td>\n",
       "    </tr>\n",
       "  </tbody>\n",
       "</table>\n",
       "</div>"
      ],
      "text/plain": [
       "    Loan_ID Gender Married Dependents     Education Self_Employed  \\\n",
       "0  LP001002   Male      No          0      Graduate            No   \n",
       "1  LP001003   Male     Yes          1      Graduate            No   \n",
       "2  LP001005   Male     Yes          0      Graduate           Yes   \n",
       "3  LP001006   Male     Yes          0  Not Graduate            No   \n",
       "4  LP001008   Male      No          0      Graduate            No   \n",
       "\n",
       "   ApplicantIncome  CoapplicantIncome  LoanAmount  Loan_Amount_Term  \\\n",
       "0           5849.0                0.0         NaN             360.0   \n",
       "1              NaN             1508.0       128.0             360.0   \n",
       "2           3000.0                0.0        66.0             360.0   \n",
       "3           2583.0             2358.0       120.0             360.0   \n",
       "4           6000.0                0.0       141.0             360.0   \n",
       "\n",
       "   Credit_History Property_Area Loan_Status  \n",
       "0             1.0         Urban           Y  \n",
       "1             1.0         Rural           N  \n",
       "2             1.0         Urban           Y  \n",
       "3             1.0         Urban           Y  \n",
       "4             1.0         Urban           Y  "
      ]
     },
     "execution_count": 46,
     "metadata": {},
     "output_type": "execute_result"
    }
   ],
   "source": [
    "A.head()"
   ]
  },
  {
   "cell_type": "code",
   "execution_count": 47,
   "id": "da8548d8",
   "metadata": {},
   "outputs": [
    {
     "data": {
      "text/plain": [
       "(614, 13)"
      ]
     },
     "execution_count": 47,
     "metadata": {},
     "output_type": "execute_result"
    }
   ],
   "source": [
    "A.shape"
   ]
  },
  {
   "cell_type": "code",
   "execution_count": 48,
   "id": "4312cbd5",
   "metadata": {},
   "outputs": [],
   "source": [
    "replacer(A)"
   ]
  },
  {
   "cell_type": "code",
   "execution_count": 49,
   "id": "3ac3299e",
   "metadata": {},
   "outputs": [],
   "source": [
    "A = A.drop(labels = \"Loan_ID\", axis = 1)"
   ]
  },
  {
   "cell_type": "code",
   "execution_count": 50,
   "id": "0d517772",
   "metadata": {},
   "outputs": [
    {
     "data": {
      "text/plain": [
       "(614, 12)"
      ]
     },
     "execution_count": 50,
     "metadata": {},
     "output_type": "execute_result"
    }
   ],
   "source": [
    "A.shape"
   ]
  },
  {
   "cell_type": "code",
   "execution_count": 51,
   "id": "1be9494b",
   "metadata": {},
   "outputs": [],
   "source": [
    "Y = A[[\"LoanAmount\"]]\n",
    "X = A.drop(labels = \"LoanAmount\", axis = 1)"
   ]
  },
  {
   "cell_type": "code",
   "execution_count": 52,
   "id": "666ae69b",
   "metadata": {},
   "outputs": [
    {
     "data": {
      "text/plain": [
       "(614, 11)"
      ]
     },
     "execution_count": 52,
     "metadata": {},
     "output_type": "execute_result"
    }
   ],
   "source": [
    "X.shape"
   ]
  },
  {
   "cell_type": "code",
   "execution_count": 53,
   "id": "4460e5ab",
   "metadata": {},
   "outputs": [],
   "source": [
    "cat = []\n",
    "con = []\n",
    "\n",
    "for i in X.columns:\n",
    "    if (X[i].dtypes == \"object\"):\n",
    "        cat.append(i)\n",
    "    else:\n",
    "        con.append(i)"
   ]
  },
  {
   "cell_type": "code",
   "execution_count": 54,
   "id": "4ca6e140",
   "metadata": {},
   "outputs": [
    {
     "data": {
      "text/plain": [
       "['Gender',\n",
       " 'Married',\n",
       " 'Dependents',\n",
       " 'Education',\n",
       " 'Self_Employed',\n",
       " 'Property_Area',\n",
       " 'Loan_Status']"
      ]
     },
     "execution_count": 54,
     "metadata": {},
     "output_type": "execute_result"
    }
   ],
   "source": [
    "cat"
   ]
  },
  {
   "cell_type": "code",
   "execution_count": 55,
   "id": "1cea8971",
   "metadata": {},
   "outputs": [
    {
     "data": {
      "text/plain": [
       "['ApplicantIncome', 'CoapplicantIncome', 'Loan_Amount_Term', 'Credit_History']"
      ]
     },
     "execution_count": 55,
     "metadata": {},
     "output_type": "execute_result"
    }
   ],
   "source": [
    "con"
   ]
  },
  {
   "cell_type": "code",
   "execution_count": 56,
   "id": "93f36438",
   "metadata": {},
   "outputs": [
    {
     "data": {
      "text/html": [
       "<div>\n",
       "<style scoped>\n",
       "    .dataframe tbody tr th:only-of-type {\n",
       "        vertical-align: middle;\n",
       "    }\n",
       "\n",
       "    .dataframe tbody tr th {\n",
       "        vertical-align: top;\n",
       "    }\n",
       "\n",
       "    .dataframe thead th {\n",
       "        text-align: right;\n",
       "    }\n",
       "</style>\n",
       "<table border=\"1\" class=\"dataframe\">\n",
       "  <thead>\n",
       "    <tr style=\"text-align: right;\">\n",
       "      <th></th>\n",
       "      <th>ApplicantIncome</th>\n",
       "      <th>CoapplicantIncome</th>\n",
       "      <th>Loan_Amount_Term</th>\n",
       "      <th>Credit_History</th>\n",
       "    </tr>\n",
       "  </thead>\n",
       "  <tbody>\n",
       "    <tr>\n",
       "      <th>0</th>\n",
       "      <td>5849.00000</td>\n",
       "      <td>0.0</td>\n",
       "      <td>360.0</td>\n",
       "      <td>1.0</td>\n",
       "    </tr>\n",
       "    <tr>\n",
       "      <th>1</th>\n",
       "      <td>5405.54085</td>\n",
       "      <td>1508.0</td>\n",
       "      <td>360.0</td>\n",
       "      <td>1.0</td>\n",
       "    </tr>\n",
       "    <tr>\n",
       "      <th>2</th>\n",
       "      <td>3000.00000</td>\n",
       "      <td>0.0</td>\n",
       "      <td>360.0</td>\n",
       "      <td>1.0</td>\n",
       "    </tr>\n",
       "    <tr>\n",
       "      <th>3</th>\n",
       "      <td>2583.00000</td>\n",
       "      <td>2358.0</td>\n",
       "      <td>360.0</td>\n",
       "      <td>1.0</td>\n",
       "    </tr>\n",
       "    <tr>\n",
       "      <th>4</th>\n",
       "      <td>6000.00000</td>\n",
       "      <td>0.0</td>\n",
       "      <td>360.0</td>\n",
       "      <td>1.0</td>\n",
       "    </tr>\n",
       "    <tr>\n",
       "      <th>...</th>\n",
       "      <td>...</td>\n",
       "      <td>...</td>\n",
       "      <td>...</td>\n",
       "      <td>...</td>\n",
       "    </tr>\n",
       "    <tr>\n",
       "      <th>609</th>\n",
       "      <td>2900.00000</td>\n",
       "      <td>0.0</td>\n",
       "      <td>360.0</td>\n",
       "      <td>1.0</td>\n",
       "    </tr>\n",
       "    <tr>\n",
       "      <th>610</th>\n",
       "      <td>4106.00000</td>\n",
       "      <td>0.0</td>\n",
       "      <td>180.0</td>\n",
       "      <td>1.0</td>\n",
       "    </tr>\n",
       "    <tr>\n",
       "      <th>611</th>\n",
       "      <td>8072.00000</td>\n",
       "      <td>240.0</td>\n",
       "      <td>360.0</td>\n",
       "      <td>1.0</td>\n",
       "    </tr>\n",
       "    <tr>\n",
       "      <th>612</th>\n",
       "      <td>7583.00000</td>\n",
       "      <td>0.0</td>\n",
       "      <td>360.0</td>\n",
       "      <td>1.0</td>\n",
       "    </tr>\n",
       "    <tr>\n",
       "      <th>613</th>\n",
       "      <td>4583.00000</td>\n",
       "      <td>0.0</td>\n",
       "      <td>360.0</td>\n",
       "      <td>0.0</td>\n",
       "    </tr>\n",
       "  </tbody>\n",
       "</table>\n",
       "<p>614 rows × 4 columns</p>\n",
       "</div>"
      ],
      "text/plain": [
       "     ApplicantIncome  CoapplicantIncome  Loan_Amount_Term  Credit_History\n",
       "0         5849.00000                0.0             360.0             1.0\n",
       "1         5405.54085             1508.0             360.0             1.0\n",
       "2         3000.00000                0.0             360.0             1.0\n",
       "3         2583.00000             2358.0             360.0             1.0\n",
       "4         6000.00000                0.0             360.0             1.0\n",
       "..               ...                ...               ...             ...\n",
       "609       2900.00000                0.0             360.0             1.0\n",
       "610       4106.00000                0.0             180.0             1.0\n",
       "611       8072.00000              240.0             360.0             1.0\n",
       "612       7583.00000                0.0             360.0             1.0\n",
       "613       4583.00000                0.0             360.0             0.0\n",
       "\n",
       "[614 rows x 4 columns]"
      ]
     },
     "execution_count": 56,
     "metadata": {},
     "output_type": "execute_result"
    }
   ],
   "source": [
    "X[con]"
   ]
  },
  {
   "cell_type": "code",
   "execution_count": 57,
   "id": "9794c06b",
   "metadata": {},
   "outputs": [],
   "source": [
    "for col in X[con]:\n",
    "    m = []\n",
    "    for i in X[col]:\n",
    "        if (i == 0):\n",
    "            m.append(0.1)\n",
    "        else:\n",
    "            m.append(i)\n",
    "    X[col] = m"
   ]
  },
  {
   "cell_type": "code",
   "execution_count": 58,
   "id": "2ea94bb8",
   "metadata": {},
   "outputs": [
    {
     "data": {
      "text/html": [
       "<div>\n",
       "<style scoped>\n",
       "    .dataframe tbody tr th:only-of-type {\n",
       "        vertical-align: middle;\n",
       "    }\n",
       "\n",
       "    .dataframe tbody tr th {\n",
       "        vertical-align: top;\n",
       "    }\n",
       "\n",
       "    .dataframe thead th {\n",
       "        text-align: right;\n",
       "    }\n",
       "</style>\n",
       "<table border=\"1\" class=\"dataframe\">\n",
       "  <thead>\n",
       "    <tr style=\"text-align: right;\">\n",
       "      <th></th>\n",
       "      <th>ApplicantIncome</th>\n",
       "      <th>CoapplicantIncome</th>\n",
       "      <th>Loan_Amount_Term</th>\n",
       "      <th>Credit_History</th>\n",
       "    </tr>\n",
       "  </thead>\n",
       "  <tbody>\n",
       "    <tr>\n",
       "      <th>0</th>\n",
       "      <td>5849.00000</td>\n",
       "      <td>0.1</td>\n",
       "      <td>360.0</td>\n",
       "      <td>1.0</td>\n",
       "    </tr>\n",
       "    <tr>\n",
       "      <th>1</th>\n",
       "      <td>5405.54085</td>\n",
       "      <td>1508.0</td>\n",
       "      <td>360.0</td>\n",
       "      <td>1.0</td>\n",
       "    </tr>\n",
       "    <tr>\n",
       "      <th>2</th>\n",
       "      <td>3000.00000</td>\n",
       "      <td>0.1</td>\n",
       "      <td>360.0</td>\n",
       "      <td>1.0</td>\n",
       "    </tr>\n",
       "    <tr>\n",
       "      <th>3</th>\n",
       "      <td>2583.00000</td>\n",
       "      <td>2358.0</td>\n",
       "      <td>360.0</td>\n",
       "      <td>1.0</td>\n",
       "    </tr>\n",
       "    <tr>\n",
       "      <th>4</th>\n",
       "      <td>6000.00000</td>\n",
       "      <td>0.1</td>\n",
       "      <td>360.0</td>\n",
       "      <td>1.0</td>\n",
       "    </tr>\n",
       "    <tr>\n",
       "      <th>...</th>\n",
       "      <td>...</td>\n",
       "      <td>...</td>\n",
       "      <td>...</td>\n",
       "      <td>...</td>\n",
       "    </tr>\n",
       "    <tr>\n",
       "      <th>609</th>\n",
       "      <td>2900.00000</td>\n",
       "      <td>0.1</td>\n",
       "      <td>360.0</td>\n",
       "      <td>1.0</td>\n",
       "    </tr>\n",
       "    <tr>\n",
       "      <th>610</th>\n",
       "      <td>4106.00000</td>\n",
       "      <td>0.1</td>\n",
       "      <td>180.0</td>\n",
       "      <td>1.0</td>\n",
       "    </tr>\n",
       "    <tr>\n",
       "      <th>611</th>\n",
       "      <td>8072.00000</td>\n",
       "      <td>240.0</td>\n",
       "      <td>360.0</td>\n",
       "      <td>1.0</td>\n",
       "    </tr>\n",
       "    <tr>\n",
       "      <th>612</th>\n",
       "      <td>7583.00000</td>\n",
       "      <td>0.1</td>\n",
       "      <td>360.0</td>\n",
       "      <td>1.0</td>\n",
       "    </tr>\n",
       "    <tr>\n",
       "      <th>613</th>\n",
       "      <td>4583.00000</td>\n",
       "      <td>0.1</td>\n",
       "      <td>360.0</td>\n",
       "      <td>0.1</td>\n",
       "    </tr>\n",
       "  </tbody>\n",
       "</table>\n",
       "<p>614 rows × 4 columns</p>\n",
       "</div>"
      ],
      "text/plain": [
       "     ApplicantIncome  CoapplicantIncome  Loan_Amount_Term  Credit_History\n",
       "0         5849.00000                0.1             360.0             1.0\n",
       "1         5405.54085             1508.0             360.0             1.0\n",
       "2         3000.00000                0.1             360.0             1.0\n",
       "3         2583.00000             2358.0             360.0             1.0\n",
       "4         6000.00000                0.1             360.0             1.0\n",
       "..               ...                ...               ...             ...\n",
       "609       2900.00000                0.1             360.0             1.0\n",
       "610       4106.00000                0.1             180.0             1.0\n",
       "611       8072.00000              240.0             360.0             1.0\n",
       "612       7583.00000                0.1             360.0             1.0\n",
       "613       4583.00000                0.1             360.0             0.1\n",
       "\n",
       "[614 rows x 4 columns]"
      ]
     },
     "execution_count": 58,
     "metadata": {},
     "output_type": "execute_result"
    }
   ],
   "source": [
    "X[con]"
   ]
  },
  {
   "cell_type": "code",
   "execution_count": 59,
   "id": "0a11a508",
   "metadata": {},
   "outputs": [
    {
     "data": {
      "text/html": [
       "<div>\n",
       "<style scoped>\n",
       "    .dataframe tbody tr th:only-of-type {\n",
       "        vertical-align: middle;\n",
       "    }\n",
       "\n",
       "    .dataframe tbody tr th {\n",
       "        vertical-align: top;\n",
       "    }\n",
       "\n",
       "    .dataframe thead th {\n",
       "        text-align: right;\n",
       "    }\n",
       "</style>\n",
       "<table border=\"1\" class=\"dataframe\">\n",
       "  <thead>\n",
       "    <tr style=\"text-align: right;\">\n",
       "      <th></th>\n",
       "      <th>ApplicantIncome</th>\n",
       "      <th>CoapplicantIncome</th>\n",
       "      <th>Loan_Amount_Term</th>\n",
       "      <th>Credit_History</th>\n",
       "    </tr>\n",
       "  </thead>\n",
       "  <tbody>\n",
       "    <tr>\n",
       "      <th>0</th>\n",
       "      <td>8.674026</td>\n",
       "      <td>-2.302585</td>\n",
       "      <td>5.886104</td>\n",
       "      <td>0.0</td>\n",
       "    </tr>\n",
       "    <tr>\n",
       "      <th>1</th>\n",
       "      <td>8.595180</td>\n",
       "      <td>7.318540</td>\n",
       "      <td>5.886104</td>\n",
       "      <td>0.0</td>\n",
       "    </tr>\n",
       "    <tr>\n",
       "      <th>2</th>\n",
       "      <td>8.006368</td>\n",
       "      <td>-2.302585</td>\n",
       "      <td>5.886104</td>\n",
       "      <td>0.0</td>\n",
       "    </tr>\n",
       "    <tr>\n",
       "      <th>3</th>\n",
       "      <td>7.856707</td>\n",
       "      <td>7.765569</td>\n",
       "      <td>5.886104</td>\n",
       "      <td>0.0</td>\n",
       "    </tr>\n",
       "    <tr>\n",
       "      <th>4</th>\n",
       "      <td>8.699515</td>\n",
       "      <td>-2.302585</td>\n",
       "      <td>5.886104</td>\n",
       "      <td>0.0</td>\n",
       "    </tr>\n",
       "  </tbody>\n",
       "</table>\n",
       "</div>"
      ],
      "text/plain": [
       "   ApplicantIncome  CoapplicantIncome  Loan_Amount_Term  Credit_History\n",
       "0         8.674026          -2.302585          5.886104             0.0\n",
       "1         8.595180           7.318540          5.886104             0.0\n",
       "2         8.006368          -2.302585          5.886104             0.0\n",
       "3         7.856707           7.765569          5.886104             0.0\n",
       "4         8.699515          -2.302585          5.886104             0.0"
      ]
     },
     "execution_count": 59,
     "metadata": {},
     "output_type": "execute_result"
    }
   ],
   "source": [
    "import numpy as np\n",
    "X1 = X[con].apply(np.log)\n",
    "X1.head()"
   ]
  },
  {
   "cell_type": "code",
   "execution_count": 60,
   "id": "da0af894",
   "metadata": {},
   "outputs": [
    {
     "data": {
      "text/plain": [
       "(614, 4)"
      ]
     },
     "execution_count": 60,
     "metadata": {},
     "output_type": "execute_result"
    }
   ],
   "source": [
    "X1.shape"
   ]
  },
  {
   "cell_type": "code",
   "execution_count": 61,
   "id": "a6800a39",
   "metadata": {},
   "outputs": [],
   "source": [
    "X = X.drop(labels = con, axis = 1)"
   ]
  },
  {
   "cell_type": "code",
   "execution_count": 62,
   "id": "7f2aa3d7",
   "metadata": {},
   "outputs": [],
   "source": [
    "X = X.join(X1)"
   ]
  },
  {
   "cell_type": "code",
   "execution_count": 63,
   "id": "aa986635",
   "metadata": {},
   "outputs": [
    {
     "data": {
      "text/html": [
       "<div>\n",
       "<style scoped>\n",
       "    .dataframe tbody tr th:only-of-type {\n",
       "        vertical-align: middle;\n",
       "    }\n",
       "\n",
       "    .dataframe tbody tr th {\n",
       "        vertical-align: top;\n",
       "    }\n",
       "\n",
       "    .dataframe thead th {\n",
       "        text-align: right;\n",
       "    }\n",
       "</style>\n",
       "<table border=\"1\" class=\"dataframe\">\n",
       "  <thead>\n",
       "    <tr style=\"text-align: right;\">\n",
       "      <th></th>\n",
       "      <th>Gender</th>\n",
       "      <th>Married</th>\n",
       "      <th>Dependents</th>\n",
       "      <th>Education</th>\n",
       "      <th>Self_Employed</th>\n",
       "      <th>Property_Area</th>\n",
       "      <th>Loan_Status</th>\n",
       "      <th>ApplicantIncome</th>\n",
       "      <th>CoapplicantIncome</th>\n",
       "      <th>Loan_Amount_Term</th>\n",
       "      <th>Credit_History</th>\n",
       "    </tr>\n",
       "  </thead>\n",
       "  <tbody>\n",
       "    <tr>\n",
       "      <th>0</th>\n",
       "      <td>Male</td>\n",
       "      <td>No</td>\n",
       "      <td>0</td>\n",
       "      <td>Graduate</td>\n",
       "      <td>No</td>\n",
       "      <td>Urban</td>\n",
       "      <td>Y</td>\n",
       "      <td>8.674026</td>\n",
       "      <td>-2.302585</td>\n",
       "      <td>5.886104</td>\n",
       "      <td>0.000000</td>\n",
       "    </tr>\n",
       "    <tr>\n",
       "      <th>1</th>\n",
       "      <td>Male</td>\n",
       "      <td>Yes</td>\n",
       "      <td>1</td>\n",
       "      <td>Graduate</td>\n",
       "      <td>No</td>\n",
       "      <td>Rural</td>\n",
       "      <td>N</td>\n",
       "      <td>8.595180</td>\n",
       "      <td>7.318540</td>\n",
       "      <td>5.886104</td>\n",
       "      <td>0.000000</td>\n",
       "    </tr>\n",
       "    <tr>\n",
       "      <th>2</th>\n",
       "      <td>Male</td>\n",
       "      <td>Yes</td>\n",
       "      <td>0</td>\n",
       "      <td>Graduate</td>\n",
       "      <td>Yes</td>\n",
       "      <td>Urban</td>\n",
       "      <td>Y</td>\n",
       "      <td>8.006368</td>\n",
       "      <td>-2.302585</td>\n",
       "      <td>5.886104</td>\n",
       "      <td>0.000000</td>\n",
       "    </tr>\n",
       "    <tr>\n",
       "      <th>3</th>\n",
       "      <td>Male</td>\n",
       "      <td>Yes</td>\n",
       "      <td>0</td>\n",
       "      <td>Not Graduate</td>\n",
       "      <td>No</td>\n",
       "      <td>Urban</td>\n",
       "      <td>Y</td>\n",
       "      <td>7.856707</td>\n",
       "      <td>7.765569</td>\n",
       "      <td>5.886104</td>\n",
       "      <td>0.000000</td>\n",
       "    </tr>\n",
       "    <tr>\n",
       "      <th>4</th>\n",
       "      <td>Male</td>\n",
       "      <td>No</td>\n",
       "      <td>0</td>\n",
       "      <td>Graduate</td>\n",
       "      <td>No</td>\n",
       "      <td>Urban</td>\n",
       "      <td>Y</td>\n",
       "      <td>8.699515</td>\n",
       "      <td>-2.302585</td>\n",
       "      <td>5.886104</td>\n",
       "      <td>0.000000</td>\n",
       "    </tr>\n",
       "    <tr>\n",
       "      <th>...</th>\n",
       "      <td>...</td>\n",
       "      <td>...</td>\n",
       "      <td>...</td>\n",
       "      <td>...</td>\n",
       "      <td>...</td>\n",
       "      <td>...</td>\n",
       "      <td>...</td>\n",
       "      <td>...</td>\n",
       "      <td>...</td>\n",
       "      <td>...</td>\n",
       "      <td>...</td>\n",
       "    </tr>\n",
       "    <tr>\n",
       "      <th>609</th>\n",
       "      <td>Female</td>\n",
       "      <td>No</td>\n",
       "      <td>0</td>\n",
       "      <td>Graduate</td>\n",
       "      <td>No</td>\n",
       "      <td>Rural</td>\n",
       "      <td>Y</td>\n",
       "      <td>7.972466</td>\n",
       "      <td>-2.302585</td>\n",
       "      <td>5.886104</td>\n",
       "      <td>0.000000</td>\n",
       "    </tr>\n",
       "    <tr>\n",
       "      <th>610</th>\n",
       "      <td>Male</td>\n",
       "      <td>Yes</td>\n",
       "      <td>3+</td>\n",
       "      <td>Graduate</td>\n",
       "      <td>No</td>\n",
       "      <td>Rural</td>\n",
       "      <td>Y</td>\n",
       "      <td>8.320205</td>\n",
       "      <td>-2.302585</td>\n",
       "      <td>5.192957</td>\n",
       "      <td>0.000000</td>\n",
       "    </tr>\n",
       "    <tr>\n",
       "      <th>611</th>\n",
       "      <td>Male</td>\n",
       "      <td>Yes</td>\n",
       "      <td>1</td>\n",
       "      <td>Graduate</td>\n",
       "      <td>No</td>\n",
       "      <td>Urban</td>\n",
       "      <td>Y</td>\n",
       "      <td>8.996157</td>\n",
       "      <td>5.480639</td>\n",
       "      <td>5.886104</td>\n",
       "      <td>0.000000</td>\n",
       "    </tr>\n",
       "    <tr>\n",
       "      <th>612</th>\n",
       "      <td>Male</td>\n",
       "      <td>Yes</td>\n",
       "      <td>2</td>\n",
       "      <td>Graduate</td>\n",
       "      <td>No</td>\n",
       "      <td>Urban</td>\n",
       "      <td>Y</td>\n",
       "      <td>8.933664</td>\n",
       "      <td>-2.302585</td>\n",
       "      <td>5.886104</td>\n",
       "      <td>0.000000</td>\n",
       "    </tr>\n",
       "    <tr>\n",
       "      <th>613</th>\n",
       "      <td>Female</td>\n",
       "      <td>No</td>\n",
       "      <td>0</td>\n",
       "      <td>Graduate</td>\n",
       "      <td>Yes</td>\n",
       "      <td>Semiurban</td>\n",
       "      <td>N</td>\n",
       "      <td>8.430109</td>\n",
       "      <td>-2.302585</td>\n",
       "      <td>5.886104</td>\n",
       "      <td>-2.302585</td>\n",
       "    </tr>\n",
       "  </tbody>\n",
       "</table>\n",
       "<p>614 rows × 11 columns</p>\n",
       "</div>"
      ],
      "text/plain": [
       "     Gender Married Dependents     Education Self_Employed Property_Area  \\\n",
       "0      Male      No          0      Graduate            No         Urban   \n",
       "1      Male     Yes          1      Graduate            No         Rural   \n",
       "2      Male     Yes          0      Graduate           Yes         Urban   \n",
       "3      Male     Yes          0  Not Graduate            No         Urban   \n",
       "4      Male      No          0      Graduate            No         Urban   \n",
       "..      ...     ...        ...           ...           ...           ...   \n",
       "609  Female      No          0      Graduate            No         Rural   \n",
       "610    Male     Yes         3+      Graduate            No         Rural   \n",
       "611    Male     Yes          1      Graduate            No         Urban   \n",
       "612    Male     Yes          2      Graduate            No         Urban   \n",
       "613  Female      No          0      Graduate           Yes     Semiurban   \n",
       "\n",
       "    Loan_Status  ApplicantIncome  CoapplicantIncome  Loan_Amount_Term  \\\n",
       "0             Y         8.674026          -2.302585          5.886104   \n",
       "1             N         8.595180           7.318540          5.886104   \n",
       "2             Y         8.006368          -2.302585          5.886104   \n",
       "3             Y         7.856707           7.765569          5.886104   \n",
       "4             Y         8.699515          -2.302585          5.886104   \n",
       "..          ...              ...                ...               ...   \n",
       "609           Y         7.972466          -2.302585          5.886104   \n",
       "610           Y         8.320205          -2.302585          5.192957   \n",
       "611           Y         8.996157           5.480639          5.886104   \n",
       "612           Y         8.933664          -2.302585          5.886104   \n",
       "613           N         8.430109          -2.302585          5.886104   \n",
       "\n",
       "     Credit_History  \n",
       "0          0.000000  \n",
       "1          0.000000  \n",
       "2          0.000000  \n",
       "3          0.000000  \n",
       "4          0.000000  \n",
       "..              ...  \n",
       "609        0.000000  \n",
       "610        0.000000  \n",
       "611        0.000000  \n",
       "612        0.000000  \n",
       "613       -2.302585  \n",
       "\n",
       "[614 rows x 11 columns]"
      ]
     },
     "execution_count": 63,
     "metadata": {},
     "output_type": "execute_result"
    }
   ],
   "source": [
    "X"
   ]
  },
  {
   "cell_type": "code",
   "execution_count": 64,
   "id": "b0db0a00",
   "metadata": {},
   "outputs": [
    {
     "data": {
      "text/plain": [
       "ApplicantIncome      0.477562\n",
       "CoapplicantIncome   -0.192802\n",
       "Loan_Amount_Term    -4.868293\n",
       "Credit_History      -2.008284\n",
       "dtype: float64"
      ]
     },
     "execution_count": 64,
     "metadata": {},
     "output_type": "execute_result"
    }
   ],
   "source": [
    "X.skew()"
   ]
  },
  {
   "cell_type": "code",
   "execution_count": 65,
   "id": "b93cdcde",
   "metadata": {},
   "outputs": [
    {
     "data": {
      "text/plain": [
       "(614, 11)"
      ]
     },
     "execution_count": 65,
     "metadata": {},
     "output_type": "execute_result"
    }
   ],
   "source": [
    "X.shape"
   ]
  },
  {
   "cell_type": "code",
   "execution_count": 66,
   "id": "379fbd22",
   "metadata": {},
   "outputs": [],
   "source": [
    "X = X.join(Y)"
   ]
  },
  {
   "cell_type": "code",
   "execution_count": 67,
   "id": "6b60c7d1",
   "metadata": {},
   "outputs": [
    {
     "data": {
      "text/plain": [
       "(614, 12)"
      ]
     },
     "execution_count": 67,
     "metadata": {},
     "output_type": "execute_result"
    }
   ],
   "source": [
    "X.shape"
   ]
  },
  {
   "cell_type": "code",
   "execution_count": 68,
   "id": "fe7161f5",
   "metadata": {},
   "outputs": [],
   "source": [
    "X = X.drop(labels = \"LoanAmount\", axis = 1)"
   ]
  },
  {
   "cell_type": "code",
   "execution_count": 69,
   "id": "b612ba7e",
   "metadata": {},
   "outputs": [
    {
     "data": {
      "text/plain": [
       "(614, 11)"
      ]
     },
     "execution_count": 69,
     "metadata": {},
     "output_type": "execute_result"
    }
   ],
   "source": [
    "X.shape"
   ]
  },
  {
   "cell_type": "code",
   "execution_count": 70,
   "id": "b790ff8d",
   "metadata": {},
   "outputs": [],
   "source": [
    "from sklearn.preprocessing import LabelEncoder\n",
    "le = LabelEncoder()\n",
    "tr1 = X[cat].apply(le.fit_transform)"
   ]
  },
  {
   "cell_type": "code",
   "execution_count": 71,
   "id": "9c8a53c3",
   "metadata": {},
   "outputs": [
    {
     "data": {
      "text/plain": [
       "(614, 7)"
      ]
     },
     "execution_count": 71,
     "metadata": {},
     "output_type": "execute_result"
    }
   ],
   "source": [
    "tr1.shape"
   ]
  },
  {
   "cell_type": "code",
   "execution_count": 72,
   "id": "78326dd4",
   "metadata": {},
   "outputs": [],
   "source": [
    "from sklearn.preprocessing import StandardScaler\n",
    "ss = StandardScaler()\n",
    "tr2 = pd.DataFrame(ss.fit_transform(X[con]), columns = con)"
   ]
  },
  {
   "cell_type": "code",
   "execution_count": 73,
   "id": "96faea29",
   "metadata": {},
   "outputs": [
    {
     "data": {
      "text/plain": [
       "(614, 4)"
      ]
     },
     "execution_count": 73,
     "metadata": {},
     "output_type": "execute_result"
    }
   ],
   "source": [
    "tr2.shape"
   ]
  },
  {
   "cell_type": "code",
   "execution_count": 74,
   "id": "29a5121f",
   "metadata": {},
   "outputs": [],
   "source": [
    "trd = tr2.join(tr1)"
   ]
  },
  {
   "cell_type": "code",
   "execution_count": 75,
   "id": "259c5f3b",
   "metadata": {},
   "outputs": [
    {
     "data": {
      "text/html": [
       "<div>\n",
       "<style scoped>\n",
       "    .dataframe tbody tr th:only-of-type {\n",
       "        vertical-align: middle;\n",
       "    }\n",
       "\n",
       "    .dataframe tbody tr th {\n",
       "        vertical-align: top;\n",
       "    }\n",
       "\n",
       "    .dataframe thead th {\n",
       "        text-align: right;\n",
       "    }\n",
       "</style>\n",
       "<table border=\"1\" class=\"dataframe\">\n",
       "  <thead>\n",
       "    <tr style=\"text-align: right;\">\n",
       "      <th></th>\n",
       "      <th>ApplicantIncome</th>\n",
       "      <th>CoapplicantIncome</th>\n",
       "      <th>Loan_Amount_Term</th>\n",
       "      <th>Credit_History</th>\n",
       "      <th>Gender</th>\n",
       "      <th>Married</th>\n",
       "      <th>Dependents</th>\n",
       "      <th>Education</th>\n",
       "      <th>Self_Employed</th>\n",
       "      <th>Property_Area</th>\n",
       "      <th>Loan_Status</th>\n",
       "    </tr>\n",
       "  </thead>\n",
       "  <tbody>\n",
       "    <tr>\n",
       "      <th>0</th>\n",
       "      <td>0.515465</td>\n",
       "      <td>-1.111722</td>\n",
       "      <td>0.269161</td>\n",
       "      <td>0.431331</td>\n",
       "      <td>1</td>\n",
       "      <td>0</td>\n",
       "      <td>0</td>\n",
       "      <td>0</td>\n",
       "      <td>0</td>\n",
       "      <td>2</td>\n",
       "      <td>1</td>\n",
       "    </tr>\n",
       "    <tr>\n",
       "      <th>1</th>\n",
       "      <td>0.393196</td>\n",
       "      <td>0.809146</td>\n",
       "      <td>0.269161</td>\n",
       "      <td>0.431331</td>\n",
       "      <td>1</td>\n",
       "      <td>1</td>\n",
       "      <td>1</td>\n",
       "      <td>0</td>\n",
       "      <td>0</td>\n",
       "      <td>0</td>\n",
       "      <td>0</td>\n",
       "    </tr>\n",
       "    <tr>\n",
       "      <th>2</th>\n",
       "      <td>-0.519896</td>\n",
       "      <td>-1.111722</td>\n",
       "      <td>0.269161</td>\n",
       "      <td>0.431331</td>\n",
       "      <td>1</td>\n",
       "      <td>1</td>\n",
       "      <td>0</td>\n",
       "      <td>0</td>\n",
       "      <td>1</td>\n",
       "      <td>2</td>\n",
       "      <td>1</td>\n",
       "    </tr>\n",
       "    <tr>\n",
       "      <th>3</th>\n",
       "      <td>-0.751980</td>\n",
       "      <td>0.898396</td>\n",
       "      <td>0.269161</td>\n",
       "      <td>0.431331</td>\n",
       "      <td>1</td>\n",
       "      <td>1</td>\n",
       "      <td>0</td>\n",
       "      <td>1</td>\n",
       "      <td>0</td>\n",
       "      <td>2</td>\n",
       "      <td>1</td>\n",
       "    </tr>\n",
       "    <tr>\n",
       "      <th>4</th>\n",
       "      <td>0.554992</td>\n",
       "      <td>-1.111722</td>\n",
       "      <td>0.269161</td>\n",
       "      <td>0.431331</td>\n",
       "      <td>1</td>\n",
       "      <td>0</td>\n",
       "      <td>0</td>\n",
       "      <td>0</td>\n",
       "      <td>0</td>\n",
       "      <td>2</td>\n",
       "      <td>1</td>\n",
       "    </tr>\n",
       "  </tbody>\n",
       "</table>\n",
       "</div>"
      ],
      "text/plain": [
       "   ApplicantIncome  CoapplicantIncome  Loan_Amount_Term  Credit_History  \\\n",
       "0         0.515465          -1.111722          0.269161        0.431331   \n",
       "1         0.393196           0.809146          0.269161        0.431331   \n",
       "2        -0.519896          -1.111722          0.269161        0.431331   \n",
       "3        -0.751980           0.898396          0.269161        0.431331   \n",
       "4         0.554992          -1.111722          0.269161        0.431331   \n",
       "\n",
       "   Gender  Married  Dependents  Education  Self_Employed  Property_Area  \\\n",
       "0       1        0           0          0              0              2   \n",
       "1       1        1           1          0              0              0   \n",
       "2       1        1           0          0              1              2   \n",
       "3       1        1           0          1              0              2   \n",
       "4       1        0           0          0              0              2   \n",
       "\n",
       "   Loan_Status  \n",
       "0            1  \n",
       "1            0  \n",
       "2            1  \n",
       "3            1  \n",
       "4            1  "
      ]
     },
     "execution_count": 75,
     "metadata": {},
     "output_type": "execute_result"
    }
   ],
   "source": [
    "trd.head()"
   ]
  },
  {
   "cell_type": "code",
   "execution_count": 76,
   "id": "987c4d54",
   "metadata": {},
   "outputs": [
    {
     "data": {
      "text/plain": [
       "(614, 11)"
      ]
     },
     "execution_count": 76,
     "metadata": {},
     "output_type": "execute_result"
    }
   ],
   "source": [
    "trd.shape"
   ]
  },
  {
   "cell_type": "code",
   "execution_count": 77,
   "id": "59eb378e",
   "metadata": {},
   "outputs": [],
   "source": [
    "Y = A[[\"LoanAmount\"]]\n",
    "X = trd"
   ]
  },
  {
   "cell_type": "code",
   "execution_count": 78,
   "id": "e07d12ab",
   "metadata": {},
   "outputs": [
    {
     "data": {
      "text/plain": [
       "(614, 1)"
      ]
     },
     "execution_count": 78,
     "metadata": {},
     "output_type": "execute_result"
    }
   ],
   "source": [
    "Y.shape"
   ]
  },
  {
   "cell_type": "code",
   "execution_count": 79,
   "id": "4e7f0f7f",
   "metadata": {},
   "outputs": [
    {
     "data": {
      "text/plain": [
       "(614, 11)"
      ]
     },
     "execution_count": 79,
     "metadata": {},
     "output_type": "execute_result"
    }
   ],
   "source": [
    "X.shape"
   ]
  },
  {
   "cell_type": "code",
   "execution_count": 80,
   "id": "50746641",
   "metadata": {},
   "outputs": [
    {
     "data": {
      "text/plain": [
       "Index(['ApplicantIncome', 'CoapplicantIncome', 'Loan_Amount_Term',\n",
       "       'Credit_History', 'Gender', 'Married', 'Dependents', 'Education',\n",
       "       'Self_Employed', 'Property_Area', 'Loan_Status'],\n",
       "      dtype='object')"
      ]
     },
     "execution_count": 80,
     "metadata": {},
     "output_type": "execute_result"
    }
   ],
   "source": [
    "X.columns"
   ]
  },
  {
   "cell_type": "code",
   "execution_count": 81,
   "id": "9e966c26",
   "metadata": {},
   "outputs": [],
   "source": [
    "X = X.drop(labels = \"Loan_Status\", axis = 1)"
   ]
  },
  {
   "cell_type": "code",
   "execution_count": 82,
   "id": "b679b0b6",
   "metadata": {},
   "outputs": [],
   "source": [
    "from sklearn.model_selection import train_test_split\n",
    "xtrain, xtest, ytrain, ytest = train_test_split(X, Y, test_size= 0.2, random_state= 21)"
   ]
  },
  {
   "cell_type": "code",
   "execution_count": 83,
   "id": "86106374",
   "metadata": {},
   "outputs": [],
   "source": [
    "from sklearn.linear_model import LinearRegression\n",
    "lr = LinearRegression()\n",
    "model = lr.fit(xtrain, ytrain)\n",
    "\n",
    "pred_tr = model.predict(xtrain)\n",
    "pred_ts = model.predict(xtest)"
   ]
  },
  {
   "cell_type": "code",
   "execution_count": 84,
   "id": "c3d8a3b0",
   "metadata": {},
   "outputs": [],
   "source": [
    "from sklearn.metrics import mean_absolute_error\n",
    "\n",
    "tr_err = mean_absolute_error(ytrain, pred_tr)\n",
    "ts_err = mean_absolute_error(ytest, pred_ts)"
   ]
  },
  {
   "cell_type": "code",
   "execution_count": 85,
   "id": "15971d4d",
   "metadata": {},
   "outputs": [
    {
     "data": {
      "text/plain": [
       "40.376123275253825"
      ]
     },
     "execution_count": 85,
     "metadata": {},
     "output_type": "execute_result"
    }
   ],
   "source": [
    "tr_err"
   ]
  },
  {
   "cell_type": "code",
   "execution_count": 86,
   "id": "c17658e5",
   "metadata": {},
   "outputs": [
    {
     "data": {
      "text/plain": [
       "44.367259737115916"
      ]
     },
     "execution_count": 86,
     "metadata": {},
     "output_type": "execute_result"
    }
   ],
   "source": [
    "ts_err"
   ]
  },
  {
   "cell_type": "markdown",
   "id": "9a5d75a1",
   "metadata": {},
   "source": [
    "# Lasso"
   ]
  },
  {
   "cell_type": "code",
   "execution_count": 87,
   "id": "9c120a1c",
   "metadata": {},
   "outputs": [],
   "source": [
    "from sklearn.linear_model import Lasso\n",
    "ls = Lasso()\n",
    "\n",
    "tp = []\n",
    "x = 0.91\n",
    "\n",
    "for i in range(0, 200, 1):\n",
    "    x = x + 0.0001\n",
    "    x = round(x, 3)\n",
    "    tp.append(x)"
   ]
  },
  {
   "cell_type": "code",
   "execution_count": 88,
   "id": "45144391",
   "metadata": {},
   "outputs": [
    {
     "data": {
      "text/plain": [
       "{'alpha': 0.91}"
      ]
     },
     "execution_count": 88,
     "metadata": {},
     "output_type": "execute_result"
    }
   ],
   "source": [
    "tg = {\"alpha\": tp}\n",
    "\n",
    "cv = GridSearchCV(ls, tg, scoring= \"neg_mean_absolute_error\", cv = 3)\n",
    "cvmodel = cv.fit(xtrain, ytrain)\n",
    "cvmodel.best_params_"
   ]
  },
  {
   "cell_type": "code",
   "execution_count": 89,
   "id": "d6172650",
   "metadata": {},
   "outputs": [],
   "source": [
    "ls = Lasso(alpha= 0.91)\n",
    "\n",
    "model = ls.fit(xtrain, ytrain)\n",
    "\n",
    "pred_tr = model.predict(xtrain)\n",
    "pred_ts = model.predict(xtest)\n",
    "\n",
    "tr_err = mean_absolute_error(ytrain, pred_tr)\n",
    "ts_err = mean_absolute_error(ytest, pred_ts)"
   ]
  },
  {
   "cell_type": "code",
   "execution_count": 90,
   "id": "93eb4265",
   "metadata": {},
   "outputs": [
    {
     "data": {
      "text/plain": [
       "40.279600718479294"
      ]
     },
     "execution_count": 90,
     "metadata": {},
     "output_type": "execute_result"
    }
   ],
   "source": [
    "tr_err"
   ]
  },
  {
   "cell_type": "code",
   "execution_count": 91,
   "id": "ce517994",
   "metadata": {},
   "outputs": [
    {
     "data": {
      "text/plain": [
       "43.38212430674943"
      ]
     },
     "execution_count": 91,
     "metadata": {},
     "output_type": "execute_result"
    }
   ],
   "source": [
    "ts_err"
   ]
  },
  {
   "cell_type": "markdown",
   "id": "772012cf",
   "metadata": {},
   "source": [
    "# Ridge"
   ]
  },
  {
   "cell_type": "code",
   "execution_count": 92,
   "id": "e26f8dfe",
   "metadata": {},
   "outputs": [],
   "source": [
    "from sklearn.linear_model import Ridge\n",
    "rr = Ridge()\n",
    "\n",
    "tp = []\n",
    "x = 0.91\n",
    "\n",
    "for i in range(0, 200, 1):\n",
    "    x = x + 0.0001\n",
    "    x = round(x, 3)\n",
    "    tp.append(x)"
   ]
  },
  {
   "cell_type": "code",
   "execution_count": 93,
   "id": "b7fe9818",
   "metadata": {},
   "outputs": [
    {
     "data": {
      "text/plain": [
       "{'alpha': 0.91}"
      ]
     },
     "execution_count": 93,
     "metadata": {},
     "output_type": "execute_result"
    }
   ],
   "source": [
    "tg = {\"alpha\": tp}\n",
    "\n",
    "cv = GridSearchCV(ls, tg, scoring= \"neg_mean_absolute_error\", cv = 3)\n",
    "cvmodel = cv.fit(xtrain, ytrain)\n",
    "cvmodel.best_params_"
   ]
  },
  {
   "cell_type": "code",
   "execution_count": 94,
   "id": "30d6ce25",
   "metadata": {},
   "outputs": [],
   "source": [
    "rr = Ridge(alpha= 0.91)\n",
    "\n",
    "model = rr.fit(xtrain, ytrain)\n",
    "\n",
    "pred_tr = model.predict(xtrain)\n",
    "pred_ts = model.predict(xtest)\n",
    "\n",
    "tr_err = mean_absolute_error(ytrain, pred_tr)\n",
    "ts_err = mean_absolute_error(ytest, pred_ts)"
   ]
  },
  {
   "cell_type": "code",
   "execution_count": 95,
   "id": "cf751b6c",
   "metadata": {},
   "outputs": [
    {
     "data": {
      "text/plain": [
       "40.36662776088203"
      ]
     },
     "execution_count": 95,
     "metadata": {},
     "output_type": "execute_result"
    }
   ],
   "source": [
    "tr_err"
   ]
  },
  {
   "cell_type": "code",
   "execution_count": 96,
   "id": "d5bfa17d",
   "metadata": {},
   "outputs": [
    {
     "data": {
      "text/plain": [
       "44.36173442598151"
      ]
     },
     "execution_count": 96,
     "metadata": {},
     "output_type": "execute_result"
    }
   ],
   "source": [
    "ts_err"
   ]
  },
  {
   "cell_type": "markdown",
   "id": "9f7614e0",
   "metadata": {},
   "source": [
    "# fetching testing set"
   ]
  },
  {
   "cell_type": "code",
   "execution_count": 97,
   "id": "44f538bf",
   "metadata": {},
   "outputs": [],
   "source": [
    "testing_set = pd.read_csv(\"F:/DS_ML_AI_Course/START/22_23122021_PROJECT_02/testing_set.csv\")"
   ]
  },
  {
   "cell_type": "code",
   "execution_count": 98,
   "id": "fd30adbe",
   "metadata": {},
   "outputs": [],
   "source": [
    "replacer(testing_set)"
   ]
  },
  {
   "cell_type": "code",
   "execution_count": 99,
   "id": "6e42126e",
   "metadata": {},
   "outputs": [],
   "source": [
    "testing_set = testing_set.drop(labels = \"Loan_ID\", axis = 1)"
   ]
  },
  {
   "cell_type": "code",
   "execution_count": 100,
   "id": "e2131abe",
   "metadata": {},
   "outputs": [
    {
     "data": {
      "text/plain": [
       "Loan_Amount_Term    -2.701307\n",
       "Credit_History      -1.794114\n",
       "LoanAmount           2.238688\n",
       "CoapplicantIncome    4.257357\n",
       "ApplicantIncome      8.441375\n",
       "dtype: float64"
      ]
     },
     "execution_count": 100,
     "metadata": {},
     "output_type": "execute_result"
    }
   ],
   "source": [
    "testing_set.skew().sort_values()"
   ]
  },
  {
   "cell_type": "code",
   "execution_count": 101,
   "id": "efccac3a",
   "metadata": {},
   "outputs": [],
   "source": [
    "for col in testing_set[con]:\n",
    "    m = []\n",
    "    for i in testing_set[col]:\n",
    "        if (i == 0):\n",
    "            m.append(0.1)\n",
    "        else:\n",
    "            m.append(i)\n",
    "    testing_set[col] = m"
   ]
  },
  {
   "cell_type": "code",
   "execution_count": 102,
   "id": "09a92287",
   "metadata": {},
   "outputs": [
    {
     "data": {
      "text/html": [
       "<div>\n",
       "<style scoped>\n",
       "    .dataframe tbody tr th:only-of-type {\n",
       "        vertical-align: middle;\n",
       "    }\n",
       "\n",
       "    .dataframe tbody tr th {\n",
       "        vertical-align: top;\n",
       "    }\n",
       "\n",
       "    .dataframe thead th {\n",
       "        text-align: right;\n",
       "    }\n",
       "</style>\n",
       "<table border=\"1\" class=\"dataframe\">\n",
       "  <thead>\n",
       "    <tr style=\"text-align: right;\">\n",
       "      <th></th>\n",
       "      <th>ApplicantIncome</th>\n",
       "      <th>CoapplicantIncome</th>\n",
       "      <th>Loan_Amount_Term</th>\n",
       "      <th>Credit_History</th>\n",
       "    </tr>\n",
       "  </thead>\n",
       "  <tbody>\n",
       "    <tr>\n",
       "      <th>0</th>\n",
       "      <td>5720.0</td>\n",
       "      <td>0.1</td>\n",
       "      <td>360.0</td>\n",
       "      <td>1.000000</td>\n",
       "    </tr>\n",
       "    <tr>\n",
       "      <th>1</th>\n",
       "      <td>3076.0</td>\n",
       "      <td>1500.0</td>\n",
       "      <td>360.0</td>\n",
       "      <td>1.000000</td>\n",
       "    </tr>\n",
       "    <tr>\n",
       "      <th>2</th>\n",
       "      <td>5000.0</td>\n",
       "      <td>1800.0</td>\n",
       "      <td>360.0</td>\n",
       "      <td>1.000000</td>\n",
       "    </tr>\n",
       "    <tr>\n",
       "      <th>3</th>\n",
       "      <td>2340.0</td>\n",
       "      <td>2546.0</td>\n",
       "      <td>360.0</td>\n",
       "      <td>0.825444</td>\n",
       "    </tr>\n",
       "    <tr>\n",
       "      <th>4</th>\n",
       "      <td>3276.0</td>\n",
       "      <td>0.1</td>\n",
       "      <td>360.0</td>\n",
       "      <td>1.000000</td>\n",
       "    </tr>\n",
       "    <tr>\n",
       "      <th>...</th>\n",
       "      <td>...</td>\n",
       "      <td>...</td>\n",
       "      <td>...</td>\n",
       "      <td>...</td>\n",
       "    </tr>\n",
       "    <tr>\n",
       "      <th>362</th>\n",
       "      <td>4009.0</td>\n",
       "      <td>1777.0</td>\n",
       "      <td>360.0</td>\n",
       "      <td>1.000000</td>\n",
       "    </tr>\n",
       "    <tr>\n",
       "      <th>363</th>\n",
       "      <td>4158.0</td>\n",
       "      <td>709.0</td>\n",
       "      <td>360.0</td>\n",
       "      <td>1.000000</td>\n",
       "    </tr>\n",
       "    <tr>\n",
       "      <th>364</th>\n",
       "      <td>3250.0</td>\n",
       "      <td>1993.0</td>\n",
       "      <td>360.0</td>\n",
       "      <td>0.825444</td>\n",
       "    </tr>\n",
       "    <tr>\n",
       "      <th>365</th>\n",
       "      <td>5000.0</td>\n",
       "      <td>2393.0</td>\n",
       "      <td>360.0</td>\n",
       "      <td>1.000000</td>\n",
       "    </tr>\n",
       "    <tr>\n",
       "      <th>366</th>\n",
       "      <td>9200.0</td>\n",
       "      <td>0.1</td>\n",
       "      <td>180.0</td>\n",
       "      <td>1.000000</td>\n",
       "    </tr>\n",
       "  </tbody>\n",
       "</table>\n",
       "<p>367 rows × 4 columns</p>\n",
       "</div>"
      ],
      "text/plain": [
       "     ApplicantIncome  CoapplicantIncome  Loan_Amount_Term  Credit_History\n",
       "0             5720.0                0.1             360.0        1.000000\n",
       "1             3076.0             1500.0             360.0        1.000000\n",
       "2             5000.0             1800.0             360.0        1.000000\n",
       "3             2340.0             2546.0             360.0        0.825444\n",
       "4             3276.0                0.1             360.0        1.000000\n",
       "..               ...                ...               ...             ...\n",
       "362           4009.0             1777.0             360.0        1.000000\n",
       "363           4158.0              709.0             360.0        1.000000\n",
       "364           3250.0             1993.0             360.0        0.825444\n",
       "365           5000.0             2393.0             360.0        1.000000\n",
       "366           9200.0                0.1             180.0        1.000000\n",
       "\n",
       "[367 rows x 4 columns]"
      ]
     },
     "execution_count": 102,
     "metadata": {},
     "output_type": "execute_result"
    }
   ],
   "source": [
    "testing_set[con]"
   ]
  },
  {
   "cell_type": "code",
   "execution_count": 103,
   "id": "23345b26",
   "metadata": {},
   "outputs": [
    {
     "data": {
      "text/html": [
       "<div>\n",
       "<style scoped>\n",
       "    .dataframe tbody tr th:only-of-type {\n",
       "        vertical-align: middle;\n",
       "    }\n",
       "\n",
       "    .dataframe tbody tr th {\n",
       "        vertical-align: top;\n",
       "    }\n",
       "\n",
       "    .dataframe thead th {\n",
       "        text-align: right;\n",
       "    }\n",
       "</style>\n",
       "<table border=\"1\" class=\"dataframe\">\n",
       "  <thead>\n",
       "    <tr style=\"text-align: right;\">\n",
       "      <th></th>\n",
       "      <th>ApplicantIncome</th>\n",
       "      <th>CoapplicantIncome</th>\n",
       "      <th>Loan_Amount_Term</th>\n",
       "      <th>Credit_History</th>\n",
       "    </tr>\n",
       "  </thead>\n",
       "  <tbody>\n",
       "    <tr>\n",
       "      <th>0</th>\n",
       "      <td>8.651724</td>\n",
       "      <td>-2.302585</td>\n",
       "      <td>5.886104</td>\n",
       "      <td>0.000000</td>\n",
       "    </tr>\n",
       "    <tr>\n",
       "      <th>1</th>\n",
       "      <td>8.031385</td>\n",
       "      <td>7.313220</td>\n",
       "      <td>5.886104</td>\n",
       "      <td>0.000000</td>\n",
       "    </tr>\n",
       "    <tr>\n",
       "      <th>2</th>\n",
       "      <td>8.517193</td>\n",
       "      <td>7.495542</td>\n",
       "      <td>5.886104</td>\n",
       "      <td>0.000000</td>\n",
       "    </tr>\n",
       "    <tr>\n",
       "      <th>3</th>\n",
       "      <td>7.757906</td>\n",
       "      <td>7.842279</td>\n",
       "      <td>5.886104</td>\n",
       "      <td>-0.191834</td>\n",
       "    </tr>\n",
       "    <tr>\n",
       "      <th>4</th>\n",
       "      <td>8.094378</td>\n",
       "      <td>-2.302585</td>\n",
       "      <td>5.886104</td>\n",
       "      <td>0.000000</td>\n",
       "    </tr>\n",
       "  </tbody>\n",
       "</table>\n",
       "</div>"
      ],
      "text/plain": [
       "   ApplicantIncome  CoapplicantIncome  Loan_Amount_Term  Credit_History\n",
       "0         8.651724          -2.302585          5.886104        0.000000\n",
       "1         8.031385           7.313220          5.886104        0.000000\n",
       "2         8.517193           7.495542          5.886104        0.000000\n",
       "3         7.757906           7.842279          5.886104       -0.191834\n",
       "4         8.094378          -2.302585          5.886104        0.000000"
      ]
     },
     "execution_count": 103,
     "metadata": {},
     "output_type": "execute_result"
    }
   ],
   "source": [
    "testing_set_1 = testing_set[con].apply(np.log)\n",
    "testing_set_1.head()"
   ]
  },
  {
   "cell_type": "code",
   "execution_count": 104,
   "id": "d97dc5ea",
   "metadata": {},
   "outputs": [],
   "source": [
    "testing_set = testing_set.drop(labels = con, axis = 1)"
   ]
  },
  {
   "cell_type": "code",
   "execution_count": 105,
   "id": "592732ac",
   "metadata": {},
   "outputs": [],
   "source": [
    "testing_set = testing_set.join(testing_set_1)"
   ]
  },
  {
   "cell_type": "code",
   "execution_count": 106,
   "id": "5f0b1723",
   "metadata": {},
   "outputs": [
    {
     "data": {
      "text/html": [
       "<div>\n",
       "<style scoped>\n",
       "    .dataframe tbody tr th:only-of-type {\n",
       "        vertical-align: middle;\n",
       "    }\n",
       "\n",
       "    .dataframe tbody tr th {\n",
       "        vertical-align: top;\n",
       "    }\n",
       "\n",
       "    .dataframe thead th {\n",
       "        text-align: right;\n",
       "    }\n",
       "</style>\n",
       "<table border=\"1\" class=\"dataframe\">\n",
       "  <thead>\n",
       "    <tr style=\"text-align: right;\">\n",
       "      <th></th>\n",
       "      <th>Gender</th>\n",
       "      <th>Married</th>\n",
       "      <th>Dependents</th>\n",
       "      <th>Education</th>\n",
       "      <th>Self_Employed</th>\n",
       "      <th>LoanAmount</th>\n",
       "      <th>Property_Area</th>\n",
       "      <th>ApplicantIncome</th>\n",
       "      <th>CoapplicantIncome</th>\n",
       "      <th>Loan_Amount_Term</th>\n",
       "      <th>Credit_History</th>\n",
       "    </tr>\n",
       "  </thead>\n",
       "  <tbody>\n",
       "    <tr>\n",
       "      <th>0</th>\n",
       "      <td>Male</td>\n",
       "      <td>Yes</td>\n",
       "      <td>0</td>\n",
       "      <td>Graduate</td>\n",
       "      <td>No</td>\n",
       "      <td>110.0</td>\n",
       "      <td>Urban</td>\n",
       "      <td>8.651724</td>\n",
       "      <td>-2.302585</td>\n",
       "      <td>5.886104</td>\n",
       "      <td>0.000000</td>\n",
       "    </tr>\n",
       "    <tr>\n",
       "      <th>1</th>\n",
       "      <td>Male</td>\n",
       "      <td>Yes</td>\n",
       "      <td>1</td>\n",
       "      <td>Graduate</td>\n",
       "      <td>No</td>\n",
       "      <td>126.0</td>\n",
       "      <td>Urban</td>\n",
       "      <td>8.031385</td>\n",
       "      <td>7.313220</td>\n",
       "      <td>5.886104</td>\n",
       "      <td>0.000000</td>\n",
       "    </tr>\n",
       "    <tr>\n",
       "      <th>2</th>\n",
       "      <td>Male</td>\n",
       "      <td>Yes</td>\n",
       "      <td>2</td>\n",
       "      <td>Graduate</td>\n",
       "      <td>No</td>\n",
       "      <td>208.0</td>\n",
       "      <td>Urban</td>\n",
       "      <td>8.517193</td>\n",
       "      <td>7.495542</td>\n",
       "      <td>5.886104</td>\n",
       "      <td>0.000000</td>\n",
       "    </tr>\n",
       "    <tr>\n",
       "      <th>3</th>\n",
       "      <td>Male</td>\n",
       "      <td>Yes</td>\n",
       "      <td>2</td>\n",
       "      <td>Graduate</td>\n",
       "      <td>No</td>\n",
       "      <td>100.0</td>\n",
       "      <td>Urban</td>\n",
       "      <td>7.757906</td>\n",
       "      <td>7.842279</td>\n",
       "      <td>5.886104</td>\n",
       "      <td>-0.191834</td>\n",
       "    </tr>\n",
       "    <tr>\n",
       "      <th>4</th>\n",
       "      <td>Male</td>\n",
       "      <td>No</td>\n",
       "      <td>0</td>\n",
       "      <td>Not Graduate</td>\n",
       "      <td>No</td>\n",
       "      <td>78.0</td>\n",
       "      <td>Urban</td>\n",
       "      <td>8.094378</td>\n",
       "      <td>-2.302585</td>\n",
       "      <td>5.886104</td>\n",
       "      <td>0.000000</td>\n",
       "    </tr>\n",
       "    <tr>\n",
       "      <th>...</th>\n",
       "      <td>...</td>\n",
       "      <td>...</td>\n",
       "      <td>...</td>\n",
       "      <td>...</td>\n",
       "      <td>...</td>\n",
       "      <td>...</td>\n",
       "      <td>...</td>\n",
       "      <td>...</td>\n",
       "      <td>...</td>\n",
       "      <td>...</td>\n",
       "      <td>...</td>\n",
       "    </tr>\n",
       "    <tr>\n",
       "      <th>362</th>\n",
       "      <td>Male</td>\n",
       "      <td>Yes</td>\n",
       "      <td>3+</td>\n",
       "      <td>Not Graduate</td>\n",
       "      <td>Yes</td>\n",
       "      <td>113.0</td>\n",
       "      <td>Urban</td>\n",
       "      <td>8.296297</td>\n",
       "      <td>7.482682</td>\n",
       "      <td>5.886104</td>\n",
       "      <td>0.000000</td>\n",
       "    </tr>\n",
       "    <tr>\n",
       "      <th>363</th>\n",
       "      <td>Male</td>\n",
       "      <td>Yes</td>\n",
       "      <td>0</td>\n",
       "      <td>Graduate</td>\n",
       "      <td>No</td>\n",
       "      <td>115.0</td>\n",
       "      <td>Urban</td>\n",
       "      <td>8.332789</td>\n",
       "      <td>6.563856</td>\n",
       "      <td>5.886104</td>\n",
       "      <td>0.000000</td>\n",
       "    </tr>\n",
       "    <tr>\n",
       "      <th>364</th>\n",
       "      <td>Male</td>\n",
       "      <td>No</td>\n",
       "      <td>0</td>\n",
       "      <td>Graduate</td>\n",
       "      <td>No</td>\n",
       "      <td>126.0</td>\n",
       "      <td>Semiurban</td>\n",
       "      <td>8.086410</td>\n",
       "      <td>7.597396</td>\n",
       "      <td>5.886104</td>\n",
       "      <td>-0.191834</td>\n",
       "    </tr>\n",
       "    <tr>\n",
       "      <th>365</th>\n",
       "      <td>Male</td>\n",
       "      <td>Yes</td>\n",
       "      <td>0</td>\n",
       "      <td>Graduate</td>\n",
       "      <td>No</td>\n",
       "      <td>158.0</td>\n",
       "      <td>Rural</td>\n",
       "      <td>8.517193</td>\n",
       "      <td>7.780303</td>\n",
       "      <td>5.886104</td>\n",
       "      <td>0.000000</td>\n",
       "    </tr>\n",
       "    <tr>\n",
       "      <th>366</th>\n",
       "      <td>Male</td>\n",
       "      <td>No</td>\n",
       "      <td>0</td>\n",
       "      <td>Graduate</td>\n",
       "      <td>Yes</td>\n",
       "      <td>98.0</td>\n",
       "      <td>Rural</td>\n",
       "      <td>9.126959</td>\n",
       "      <td>-2.302585</td>\n",
       "      <td>5.192957</td>\n",
       "      <td>0.000000</td>\n",
       "    </tr>\n",
       "  </tbody>\n",
       "</table>\n",
       "<p>367 rows × 11 columns</p>\n",
       "</div>"
      ],
      "text/plain": [
       "    Gender Married Dependents     Education Self_Employed  LoanAmount  \\\n",
       "0     Male     Yes          0      Graduate            No       110.0   \n",
       "1     Male     Yes          1      Graduate            No       126.0   \n",
       "2     Male     Yes          2      Graduate            No       208.0   \n",
       "3     Male     Yes          2      Graduate            No       100.0   \n",
       "4     Male      No          0  Not Graduate            No        78.0   \n",
       "..     ...     ...        ...           ...           ...         ...   \n",
       "362   Male     Yes         3+  Not Graduate           Yes       113.0   \n",
       "363   Male     Yes          0      Graduate            No       115.0   \n",
       "364   Male      No          0      Graduate            No       126.0   \n",
       "365   Male     Yes          0      Graduate            No       158.0   \n",
       "366   Male      No          0      Graduate           Yes        98.0   \n",
       "\n",
       "    Property_Area  ApplicantIncome  CoapplicantIncome  Loan_Amount_Term  \\\n",
       "0           Urban         8.651724          -2.302585          5.886104   \n",
       "1           Urban         8.031385           7.313220          5.886104   \n",
       "2           Urban         8.517193           7.495542          5.886104   \n",
       "3           Urban         7.757906           7.842279          5.886104   \n",
       "4           Urban         8.094378          -2.302585          5.886104   \n",
       "..            ...              ...                ...               ...   \n",
       "362         Urban         8.296297           7.482682          5.886104   \n",
       "363         Urban         8.332789           6.563856          5.886104   \n",
       "364     Semiurban         8.086410           7.597396          5.886104   \n",
       "365         Rural         8.517193           7.780303          5.886104   \n",
       "366         Rural         9.126959          -2.302585          5.192957   \n",
       "\n",
       "     Credit_History  \n",
       "0          0.000000  \n",
       "1          0.000000  \n",
       "2          0.000000  \n",
       "3         -0.191834  \n",
       "4          0.000000  \n",
       "..              ...  \n",
       "362        0.000000  \n",
       "363        0.000000  \n",
       "364       -0.191834  \n",
       "365        0.000000  \n",
       "366        0.000000  \n",
       "\n",
       "[367 rows x 11 columns]"
      ]
     },
     "execution_count": 106,
     "metadata": {},
     "output_type": "execute_result"
    }
   ],
   "source": [
    "testing_set"
   ]
  },
  {
   "cell_type": "code",
   "execution_count": 107,
   "id": "68454eb1",
   "metadata": {},
   "outputs": [
    {
     "data": {
      "text/plain": [
       "LoanAmount           2.238688\n",
       "ApplicantIncome     -7.193757\n",
       "CoapplicantIncome   -0.269842\n",
       "Loan_Amount_Term    -6.342353\n",
       "Credit_History      -1.840151\n",
       "dtype: float64"
      ]
     },
     "execution_count": 107,
     "metadata": {},
     "output_type": "execute_result"
    }
   ],
   "source": [
    "testing_set.skew()"
   ]
  },
  {
   "cell_type": "code",
   "execution_count": 108,
   "id": "57a36038",
   "metadata": {},
   "outputs": [
    {
     "data": {
      "text/plain": [
       "['Gender',\n",
       " 'Married',\n",
       " 'Dependents',\n",
       " 'Education',\n",
       " 'Self_Employed',\n",
       " 'Property_Area',\n",
       " 'Loan_Status']"
      ]
     },
     "execution_count": 108,
     "metadata": {},
     "output_type": "execute_result"
    }
   ],
   "source": [
    "cat"
   ]
  },
  {
   "cell_type": "code",
   "execution_count": 109,
   "id": "9312294b",
   "metadata": {},
   "outputs": [],
   "source": [
    "cat.remove(\"Loan_Status\")"
   ]
  },
  {
   "cell_type": "code",
   "execution_count": 110,
   "id": "69cd4d8c",
   "metadata": {},
   "outputs": [],
   "source": [
    "from sklearn.preprocessing import LabelEncoder\n",
    "le = LabelEncoder()\n",
    "tr1 = testing_set[cat].apply(le.fit_transform)"
   ]
  },
  {
   "cell_type": "code",
   "execution_count": 111,
   "id": "25b362fd",
   "metadata": {},
   "outputs": [],
   "source": [
    "from sklearn.preprocessing import StandardScaler\n",
    "ss = StandardScaler()\n",
    "tr2 = pd.DataFrame(ss.fit_transform(testing_set[con]), columns = con)"
   ]
  },
  {
   "cell_type": "code",
   "execution_count": 112,
   "id": "07555bee",
   "metadata": {},
   "outputs": [
    {
     "data": {
      "text/html": [
       "<div>\n",
       "<style scoped>\n",
       "    .dataframe tbody tr th:only-of-type {\n",
       "        vertical-align: middle;\n",
       "    }\n",
       "\n",
       "    .dataframe tbody tr th {\n",
       "        vertical-align: top;\n",
       "    }\n",
       "\n",
       "    .dataframe thead th {\n",
       "        text-align: right;\n",
       "    }\n",
       "</style>\n",
       "<table border=\"1\" class=\"dataframe\">\n",
       "  <thead>\n",
       "    <tr style=\"text-align: right;\">\n",
       "      <th></th>\n",
       "      <th>ApplicantIncome</th>\n",
       "      <th>CoapplicantIncome</th>\n",
       "      <th>Loan_Amount_Term</th>\n",
       "      <th>Credit_History</th>\n",
       "      <th>Gender</th>\n",
       "      <th>Married</th>\n",
       "      <th>Dependents</th>\n",
       "      <th>Education</th>\n",
       "      <th>Self_Employed</th>\n",
       "      <th>Property_Area</th>\n",
       "    </tr>\n",
       "  </thead>\n",
       "  <tbody>\n",
       "    <tr>\n",
       "      <th>0</th>\n",
       "      <td>0.436393</td>\n",
       "      <td>-1.156252</td>\n",
       "      <td>0.237049</td>\n",
       "      <td>0.458342</td>\n",
       "      <td>1</td>\n",
       "      <td>1</td>\n",
       "      <td>0</td>\n",
       "      <td>0</td>\n",
       "      <td>0</td>\n",
       "      <td>2</td>\n",
       "    </tr>\n",
       "    <tr>\n",
       "      <th>1</th>\n",
       "      <td>-0.215007</td>\n",
       "      <td>0.783924</td>\n",
       "      <td>0.237049</td>\n",
       "      <td>0.458342</td>\n",
       "      <td>1</td>\n",
       "      <td>1</td>\n",
       "      <td>1</td>\n",
       "      <td>0</td>\n",
       "      <td>0</td>\n",
       "      <td>2</td>\n",
       "    </tr>\n",
       "    <tr>\n",
       "      <th>2</th>\n",
       "      <td>0.295126</td>\n",
       "      <td>0.820711</td>\n",
       "      <td>0.237049</td>\n",
       "      <td>0.458342</td>\n",
       "      <td>1</td>\n",
       "      <td>1</td>\n",
       "      <td>2</td>\n",
       "      <td>0</td>\n",
       "      <td>0</td>\n",
       "      <td>2</td>\n",
       "    </tr>\n",
       "    <tr>\n",
       "      <th>3</th>\n",
       "      <td>-0.502180</td>\n",
       "      <td>0.890672</td>\n",
       "      <td>0.237049</td>\n",
       "      <td>0.230159</td>\n",
       "      <td>1</td>\n",
       "      <td>1</td>\n",
       "      <td>2</td>\n",
       "      <td>0</td>\n",
       "      <td>0</td>\n",
       "      <td>2</td>\n",
       "    </tr>\n",
       "    <tr>\n",
       "      <th>4</th>\n",
       "      <td>-0.148860</td>\n",
       "      <td>-1.156252</td>\n",
       "      <td>0.237049</td>\n",
       "      <td>0.458342</td>\n",
       "      <td>1</td>\n",
       "      <td>0</td>\n",
       "      <td>0</td>\n",
       "      <td>1</td>\n",
       "      <td>0</td>\n",
       "      <td>2</td>\n",
       "    </tr>\n",
       "  </tbody>\n",
       "</table>\n",
       "</div>"
      ],
      "text/plain": [
       "   ApplicantIncome  CoapplicantIncome  Loan_Amount_Term  Credit_History  \\\n",
       "0         0.436393          -1.156252          0.237049        0.458342   \n",
       "1        -0.215007           0.783924          0.237049        0.458342   \n",
       "2         0.295126           0.820711          0.237049        0.458342   \n",
       "3        -0.502180           0.890672          0.237049        0.230159   \n",
       "4        -0.148860          -1.156252          0.237049        0.458342   \n",
       "\n",
       "   Gender  Married  Dependents  Education  Self_Employed  Property_Area  \n",
       "0       1        1           0          0              0              2  \n",
       "1       1        1           1          0              0              2  \n",
       "2       1        1           2          0              0              2  \n",
       "3       1        1           2          0              0              2  \n",
       "4       1        0           0          1              0              2  "
      ]
     },
     "execution_count": 112,
     "metadata": {},
     "output_type": "execute_result"
    }
   ],
   "source": [
    "testing_set = tr2.join(tr1)\n",
    "testing_set.head()"
   ]
  },
  {
   "cell_type": "code",
   "execution_count": 113,
   "id": "3ba6ce4b",
   "metadata": {},
   "outputs": [
    {
     "data": {
      "text/plain": [
       "(367, 10)"
      ]
     },
     "execution_count": 113,
     "metadata": {},
     "output_type": "execute_result"
    }
   ],
   "source": [
    "testing_set.shape"
   ]
  },
  {
   "cell_type": "markdown",
   "id": "1b405ba8",
   "metadata": {},
   "source": [
    "# result - Lasso"
   ]
  },
  {
   "cell_type": "code",
   "execution_count": 114,
   "id": "786e91ac",
   "metadata": {},
   "outputs": [],
   "source": [
    "ls = Lasso(alpha= 0.91)\n",
    "\n",
    "model = ls.fit(xtrain, ytrain)\n",
    "\n",
    "pred_tr = model.predict(xtrain)\n",
    "pred_ts = model.predict(xtest)\n",
    "\n",
    "tr_err = mean_absolute_error(ytrain, pred_tr)\n",
    "ts_err = mean_absolute_error(ytest, pred_ts)"
   ]
  },
  {
   "cell_type": "code",
   "execution_count": 115,
   "id": "662ea7d8",
   "metadata": {},
   "outputs": [],
   "source": [
    "predicted_loan_amount = model.predict(testing_set)"
   ]
  },
  {
   "cell_type": "code",
   "execution_count": 116,
   "id": "f5876d48",
   "metadata": {},
   "outputs": [],
   "source": [
    "temp_testing_set = pd.read_csv(\"F:/DS_ML_AI_Course/START/22_23122021_PROJECT_02/testing_set.csv\")"
   ]
  },
  {
   "cell_type": "code",
   "execution_count": 117,
   "id": "3be5d65d",
   "metadata": {},
   "outputs": [],
   "source": [
    "rejected_applicants = E[E[\"Pridicted_Loan_Status\"] == \"N\"][[\"Loan_ID\"]]"
   ]
  },
  {
   "cell_type": "code",
   "execution_count": 118,
   "id": "c359a621",
   "metadata": {},
   "outputs": [
    {
     "data": {
      "text/html": [
       "<div>\n",
       "<style scoped>\n",
       "    .dataframe tbody tr th:only-of-type {\n",
       "        vertical-align: middle;\n",
       "    }\n",
       "\n",
       "    .dataframe tbody tr th {\n",
       "        vertical-align: top;\n",
       "    }\n",
       "\n",
       "    .dataframe thead th {\n",
       "        text-align: right;\n",
       "    }\n",
       "</style>\n",
       "<table border=\"1\" class=\"dataframe\">\n",
       "  <thead>\n",
       "    <tr style=\"text-align: right;\">\n",
       "      <th></th>\n",
       "      <th>Loan_ID</th>\n",
       "    </tr>\n",
       "  </thead>\n",
       "  <tbody>\n",
       "    <tr>\n",
       "      <th>7</th>\n",
       "      <td>LP001056</td>\n",
       "    </tr>\n",
       "    <tr>\n",
       "      <th>13</th>\n",
       "      <td>LP001094</td>\n",
       "    </tr>\n",
       "    <tr>\n",
       "      <th>25</th>\n",
       "      <td>LP001153</td>\n",
       "    </tr>\n",
       "    <tr>\n",
       "      <th>35</th>\n",
       "      <td>LP001203</td>\n",
       "    </tr>\n",
       "    <tr>\n",
       "      <th>55</th>\n",
       "      <td>LP001313</td>\n",
       "    </tr>\n",
       "    <tr>\n",
       "      <th>58</th>\n",
       "      <td>LP001323</td>\n",
       "    </tr>\n",
       "    <tr>\n",
       "      <th>63</th>\n",
       "      <td>LP001347</td>\n",
       "    </tr>\n",
       "    <tr>\n",
       "      <th>66</th>\n",
       "      <td>LP001352</td>\n",
       "    </tr>\n",
       "    <tr>\n",
       "      <th>67</th>\n",
       "      <td>LP001358</td>\n",
       "    </tr>\n",
       "    <tr>\n",
       "      <th>69</th>\n",
       "      <td>LP001361</td>\n",
       "    </tr>\n",
       "    <tr>\n",
       "      <th>80</th>\n",
       "      <td>LP001420</td>\n",
       "    </tr>\n",
       "    <tr>\n",
       "      <th>82</th>\n",
       "      <td>LP001445</td>\n",
       "    </tr>\n",
       "    <tr>\n",
       "      <th>84</th>\n",
       "      <td>LP001450</td>\n",
       "    </tr>\n",
       "    <tr>\n",
       "      <th>94</th>\n",
       "      <td>LP001496</td>\n",
       "    </tr>\n",
       "    <tr>\n",
       "      <th>101</th>\n",
       "      <td>LP001542</td>\n",
       "    </tr>\n",
       "    <tr>\n",
       "      <th>106</th>\n",
       "      <td>LP001563</td>\n",
       "    </tr>\n",
       "    <tr>\n",
       "      <th>117</th>\n",
       "      <td>LP001611</td>\n",
       "    </tr>\n",
       "    <tr>\n",
       "      <th>118</th>\n",
       "      <td>LP001613</td>\n",
       "    </tr>\n",
       "    <tr>\n",
       "      <th>119</th>\n",
       "      <td>LP001622</td>\n",
       "    </tr>\n",
       "    <tr>\n",
       "      <th>123</th>\n",
       "      <td>LP001652</td>\n",
       "    </tr>\n",
       "  </tbody>\n",
       "</table>\n",
       "</div>"
      ],
      "text/plain": [
       "      Loan_ID\n",
       "7    LP001056\n",
       "13   LP001094\n",
       "25   LP001153\n",
       "35   LP001203\n",
       "55   LP001313\n",
       "58   LP001323\n",
       "63   LP001347\n",
       "66   LP001352\n",
       "67   LP001358\n",
       "69   LP001361\n",
       "80   LP001420\n",
       "82   LP001445\n",
       "84   LP001450\n",
       "94   LP001496\n",
       "101  LP001542\n",
       "106  LP001563\n",
       "117  LP001611\n",
       "118  LP001613\n",
       "119  LP001622\n",
       "123  LP001652"
      ]
     },
     "execution_count": 118,
     "metadata": {},
     "output_type": "execute_result"
    }
   ],
   "source": [
    "rejected_applicants.head(20)"
   ]
  },
  {
   "cell_type": "code",
   "execution_count": 119,
   "id": "61312b96",
   "metadata": {},
   "outputs": [
    {
     "data": {
      "text/html": [
       "<div>\n",
       "<style scoped>\n",
       "    .dataframe tbody tr th:only-of-type {\n",
       "        vertical-align: middle;\n",
       "    }\n",
       "\n",
       "    .dataframe tbody tr th {\n",
       "        vertical-align: top;\n",
       "    }\n",
       "\n",
       "    .dataframe thead th {\n",
       "        text-align: right;\n",
       "    }\n",
       "</style>\n",
       "<table border=\"1\" class=\"dataframe\">\n",
       "  <thead>\n",
       "    <tr style=\"text-align: right;\">\n",
       "      <th></th>\n",
       "      <th>Loan_ID</th>\n",
       "      <th>LoanAmount</th>\n",
       "      <th>predicted_loan_amount</th>\n",
       "    </tr>\n",
       "  </thead>\n",
       "  <tbody>\n",
       "    <tr>\n",
       "      <th>0</th>\n",
       "      <td>LP001015</td>\n",
       "      <td>110.0</td>\n",
       "      <td>138.904186</td>\n",
       "    </tr>\n",
       "    <tr>\n",
       "      <th>1</th>\n",
       "      <td>LP001022</td>\n",
       "      <td>126.0</td>\n",
       "      <td>154.518933</td>\n",
       "    </tr>\n",
       "    <tr>\n",
       "      <th>2</th>\n",
       "      <td>LP001031</td>\n",
       "      <td>208.0</td>\n",
       "      <td>186.945423</td>\n",
       "    </tr>\n",
       "    <tr>\n",
       "      <th>3</th>\n",
       "      <td>LP001035</td>\n",
       "      <td>100.0</td>\n",
       "      <td>153.246801</td>\n",
       "    </tr>\n",
       "    <tr>\n",
       "      <th>4</th>\n",
       "      <td>LP001051</td>\n",
       "      <td>78.0</td>\n",
       "      <td>100.045695</td>\n",
       "    </tr>\n",
       "    <tr>\n",
       "      <th>5</th>\n",
       "      <td>LP001054</td>\n",
       "      <td>152.0</td>\n",
       "      <td>124.285450</td>\n",
       "    </tr>\n",
       "    <tr>\n",
       "      <th>6</th>\n",
       "      <td>LP001055</td>\n",
       "      <td>59.0</td>\n",
       "      <td>95.128628</td>\n",
       "    </tr>\n",
       "    <tr>\n",
       "      <th>7</th>\n",
       "      <td>LP001056</td>\n",
       "      <td>147.0</td>\n",
       "      <td>139.364272</td>\n",
       "    </tr>\n",
       "    <tr>\n",
       "      <th>8</th>\n",
       "      <td>LP001059</td>\n",
       "      <td>280.0</td>\n",
       "      <td>194.412704</td>\n",
       "    </tr>\n",
       "    <tr>\n",
       "      <th>9</th>\n",
       "      <td>LP001067</td>\n",
       "      <td>123.0</td>\n",
       "      <td>123.082417</td>\n",
       "    </tr>\n",
       "    <tr>\n",
       "      <th>10</th>\n",
       "      <td>LP001078</td>\n",
       "      <td>90.0</td>\n",
       "      <td>97.310232</td>\n",
       "    </tr>\n",
       "    <tr>\n",
       "      <th>11</th>\n",
       "      <td>LP001082</td>\n",
       "      <td>162.0</td>\n",
       "      <td>138.463758</td>\n",
       "    </tr>\n",
       "    <tr>\n",
       "      <th>12</th>\n",
       "      <td>LP001083</td>\n",
       "      <td>40.0</td>\n",
       "      <td>141.295217</td>\n",
       "    </tr>\n",
       "    <tr>\n",
       "      <th>13</th>\n",
       "      <td>LP001094</td>\n",
       "      <td>166.0</td>\n",
       "      <td>201.061965</td>\n",
       "    </tr>\n",
       "    <tr>\n",
       "      <th>14</th>\n",
       "      <td>LP001096</td>\n",
       "      <td>124.0</td>\n",
       "      <td>128.976320</td>\n",
       "    </tr>\n",
       "    <tr>\n",
       "      <th>15</th>\n",
       "      <td>LP001099</td>\n",
       "      <td>131.0</td>\n",
       "      <td>142.622841</td>\n",
       "    </tr>\n",
       "    <tr>\n",
       "      <th>16</th>\n",
       "      <td>LP001105</td>\n",
       "      <td>200.0</td>\n",
       "      <td>184.649623</td>\n",
       "    </tr>\n",
       "    <tr>\n",
       "      <th>17</th>\n",
       "      <td>LP001107</td>\n",
       "      <td>126.0</td>\n",
       "      <td>176.436894</td>\n",
       "    </tr>\n",
       "    <tr>\n",
       "      <th>18</th>\n",
       "      <td>LP001108</td>\n",
       "      <td>300.0</td>\n",
       "      <td>203.538777</td>\n",
       "    </tr>\n",
       "    <tr>\n",
       "      <th>19</th>\n",
       "      <td>LP001115</td>\n",
       "      <td>100.0</td>\n",
       "      <td>98.158915</td>\n",
       "    </tr>\n",
       "  </tbody>\n",
       "</table>\n",
       "</div>"
      ],
      "text/plain": [
       "     Loan_ID  LoanAmount  predicted_loan_amount\n",
       "0   LP001015       110.0             138.904186\n",
       "1   LP001022       126.0             154.518933\n",
       "2   LP001031       208.0             186.945423\n",
       "3   LP001035       100.0             153.246801\n",
       "4   LP001051        78.0             100.045695\n",
       "5   LP001054       152.0             124.285450\n",
       "6   LP001055        59.0              95.128628\n",
       "7   LP001056       147.0             139.364272\n",
       "8   LP001059       280.0             194.412704\n",
       "9   LP001067       123.0             123.082417\n",
       "10  LP001078        90.0              97.310232\n",
       "11  LP001082       162.0             138.463758\n",
       "12  LP001083        40.0             141.295217\n",
       "13  LP001094       166.0             201.061965\n",
       "14  LP001096       124.0             128.976320\n",
       "15  LP001099       131.0             142.622841\n",
       "16  LP001105       200.0             184.649623\n",
       "17  LP001107       126.0             176.436894\n",
       "18  LP001108       300.0             203.538777\n",
       "19  LP001115       100.0              98.158915"
      ]
     },
     "execution_count": 119,
     "metadata": {},
     "output_type": "execute_result"
    }
   ],
   "source": [
    "concat = temp_testing_set[[\"Loan_ID\",\"LoanAmount\"]]\n",
    "concat[\"predicted_loan_amount\"] = predicted_loan_amount\n",
    "concat.head(20)"
   ]
  },
  {
   "cell_type": "code",
   "execution_count": 120,
   "id": "7511ce00",
   "metadata": {},
   "outputs": [
    {
     "data": {
      "text/html": [
       "<div>\n",
       "<style scoped>\n",
       "    .dataframe tbody tr th:only-of-type {\n",
       "        vertical-align: middle;\n",
       "    }\n",
       "\n",
       "    .dataframe tbody tr th {\n",
       "        vertical-align: top;\n",
       "    }\n",
       "\n",
       "    .dataframe thead th {\n",
       "        text-align: right;\n",
       "    }\n",
       "</style>\n",
       "<table border=\"1\" class=\"dataframe\">\n",
       "  <thead>\n",
       "    <tr style=\"text-align: right;\">\n",
       "      <th></th>\n",
       "      <th>Loan_ID</th>\n",
       "      <th>LoanAmount</th>\n",
       "      <th>predicted_loan_amount</th>\n",
       "    </tr>\n",
       "  </thead>\n",
       "  <tbody>\n",
       "    <tr>\n",
       "      <th>0</th>\n",
       "      <td>LP001056</td>\n",
       "      <td>147.0</td>\n",
       "      <td>139.364272</td>\n",
       "    </tr>\n",
       "    <tr>\n",
       "      <th>1</th>\n",
       "      <td>LP001094</td>\n",
       "      <td>166.0</td>\n",
       "      <td>201.061965</td>\n",
       "    </tr>\n",
       "    <tr>\n",
       "      <th>2</th>\n",
       "      <td>LP001153</td>\n",
       "      <td>148.0</td>\n",
       "      <td>-326.190236</td>\n",
       "    </tr>\n",
       "    <tr>\n",
       "      <th>3</th>\n",
       "      <td>LP001203</td>\n",
       "      <td>176.0</td>\n",
       "      <td>114.952297</td>\n",
       "    </tr>\n",
       "    <tr>\n",
       "      <th>4</th>\n",
       "      <td>LP001313</td>\n",
       "      <td>130.0</td>\n",
       "      <td>108.561625</td>\n",
       "    </tr>\n",
       "    <tr>\n",
       "      <th>5</th>\n",
       "      <td>LP001323</td>\n",
       "      <td>176.0</td>\n",
       "      <td>175.193304</td>\n",
       "    </tr>\n",
       "    <tr>\n",
       "      <th>6</th>\n",
       "      <td>LP001347</td>\n",
       "      <td>108.0</td>\n",
       "      <td>136.200905</td>\n",
       "    </tr>\n",
       "    <tr>\n",
       "      <th>7</th>\n",
       "      <td>LP001352</td>\n",
       "      <td>135.0</td>\n",
       "      <td>130.607075</td>\n",
       "    </tr>\n",
       "    <tr>\n",
       "      <th>8</th>\n",
       "      <td>LP001358</td>\n",
       "      <td>130.0</td>\n",
       "      <td>123.892129</td>\n",
       "    </tr>\n",
       "    <tr>\n",
       "      <th>9</th>\n",
       "      <td>LP001361</td>\n",
       "      <td>188.0</td>\n",
       "      <td>148.505143</td>\n",
       "    </tr>\n",
       "    <tr>\n",
       "      <th>10</th>\n",
       "      <td>LP001420</td>\n",
       "      <td>163.0</td>\n",
       "      <td>190.291535</td>\n",
       "    </tr>\n",
       "    <tr>\n",
       "      <th>11</th>\n",
       "      <td>LP001445</td>\n",
       "      <td>149.0</td>\n",
       "      <td>144.580293</td>\n",
       "    </tr>\n",
       "    <tr>\n",
       "      <th>12</th>\n",
       "      <td>LP001450</td>\n",
       "      <td>131.0</td>\n",
       "      <td>130.649475</td>\n",
       "    </tr>\n",
       "    <tr>\n",
       "      <th>13</th>\n",
       "      <td>LP001496</td>\n",
       "      <td>123.0</td>\n",
       "      <td>184.047670</td>\n",
       "    </tr>\n",
       "    <tr>\n",
       "      <th>14</th>\n",
       "      <td>LP001542</td>\n",
       "      <td>NaN</td>\n",
       "      <td>110.700528</td>\n",
       "    </tr>\n",
       "    <tr>\n",
       "      <th>15</th>\n",
       "      <td>LP001563</td>\n",
       "      <td>119.0</td>\n",
       "      <td>119.477465</td>\n",
       "    </tr>\n",
       "    <tr>\n",
       "      <th>16</th>\n",
       "      <td>LP001611</td>\n",
       "      <td>80.0</td>\n",
       "      <td>132.150018</td>\n",
       "    </tr>\n",
       "    <tr>\n",
       "      <th>17</th>\n",
       "      <td>LP001613</td>\n",
       "      <td>104.0</td>\n",
       "      <td>130.068791</td>\n",
       "    </tr>\n",
       "    <tr>\n",
       "      <th>18</th>\n",
       "      <td>LP001622</td>\n",
       "      <td>213.0</td>\n",
       "      <td>107.352561</td>\n",
       "    </tr>\n",
       "    <tr>\n",
       "      <th>19</th>\n",
       "      <td>LP001652</td>\n",
       "      <td>187.0</td>\n",
       "      <td>145.428158</td>\n",
       "    </tr>\n",
       "    <tr>\n",
       "      <th>20</th>\n",
       "      <td>LP001655</td>\n",
       "      <td>300.0</td>\n",
       "      <td>184.198328</td>\n",
       "    </tr>\n",
       "    <tr>\n",
       "      <th>21</th>\n",
       "      <td>LP001662</td>\n",
       "      <td>71.0</td>\n",
       "      <td>149.041753</td>\n",
       "    </tr>\n",
       "    <tr>\n",
       "      <th>22</th>\n",
       "      <td>LP001785</td>\n",
       "      <td>150.0</td>\n",
       "      <td>134.052955</td>\n",
       "    </tr>\n",
       "    <tr>\n",
       "      <th>23</th>\n",
       "      <td>LP001789</td>\n",
       "      <td>139.0</td>\n",
       "      <td>206.621257</td>\n",
       "    </tr>\n",
       "    <tr>\n",
       "      <th>24</th>\n",
       "      <td>LP001817</td>\n",
       "      <td>199.0</td>\n",
       "      <td>154.873262</td>\n",
       "    </tr>\n",
       "    <tr>\n",
       "      <th>25</th>\n",
       "      <td>LP001853</td>\n",
       "      <td>117.0</td>\n",
       "      <td>146.698734</td>\n",
       "    </tr>\n",
       "    <tr>\n",
       "      <th>26</th>\n",
       "      <td>LP001906</td>\n",
       "      <td>84.0</td>\n",
       "      <td>112.088163</td>\n",
       "    </tr>\n",
       "    <tr>\n",
       "      <th>27</th>\n",
       "      <td>LP001923</td>\n",
       "      <td>170.0</td>\n",
       "      <td>91.589890</td>\n",
       "    </tr>\n",
       "    <tr>\n",
       "      <th>28</th>\n",
       "      <td>LP001933</td>\n",
       "      <td>120.0</td>\n",
       "      <td>114.058086</td>\n",
       "    </tr>\n",
       "    <tr>\n",
       "      <th>29</th>\n",
       "      <td>LP001950</td>\n",
       "      <td>94.0</td>\n",
       "      <td>161.484700</td>\n",
       "    </tr>\n",
       "    <tr>\n",
       "      <th>30</th>\n",
       "      <td>LP001979</td>\n",
       "      <td>159.0</td>\n",
       "      <td>145.884750</td>\n",
       "    </tr>\n",
       "    <tr>\n",
       "      <th>31</th>\n",
       "      <td>LP001995</td>\n",
       "      <td>110.0</td>\n",
       "      <td>136.228877</td>\n",
       "    </tr>\n",
       "    <tr>\n",
       "      <th>32</th>\n",
       "      <td>LP002069</td>\n",
       "      <td>180.0</td>\n",
       "      <td>176.587308</td>\n",
       "    </tr>\n",
       "    <tr>\n",
       "      <th>33</th>\n",
       "      <td>LP002070</td>\n",
       "      <td>128.0</td>\n",
       "      <td>167.358931</td>\n",
       "    </tr>\n",
       "    <tr>\n",
       "      <th>34</th>\n",
       "      <td>LP002090</td>\n",
       "      <td>114.0</td>\n",
       "      <td>148.345733</td>\n",
       "    </tr>\n",
       "    <tr>\n",
       "      <th>35</th>\n",
       "      <td>LP002099</td>\n",
       "      <td>104.0</td>\n",
       "      <td>160.394190</td>\n",
       "    </tr>\n",
       "    <tr>\n",
       "      <th>36</th>\n",
       "      <td>LP002168</td>\n",
       "      <td>200.0</td>\n",
       "      <td>177.408657</td>\n",
       "    </tr>\n",
       "    <tr>\n",
       "      <th>37</th>\n",
       "      <td>LP002256</td>\n",
       "      <td>187.0</td>\n",
       "      <td>160.546905</td>\n",
       "    </tr>\n",
       "    <tr>\n",
       "      <th>38</th>\n",
       "      <td>LP002286</td>\n",
       "      <td>125.0</td>\n",
       "      <td>161.834526</td>\n",
       "    </tr>\n",
       "    <tr>\n",
       "      <th>39</th>\n",
       "      <td>LP002316</td>\n",
       "      <td>176.0</td>\n",
       "      <td>136.939552</td>\n",
       "    </tr>\n",
       "    <tr>\n",
       "      <th>40</th>\n",
       "      <td>LP002321</td>\n",
       "      <td>117.0</td>\n",
       "      <td>144.576842</td>\n",
       "    </tr>\n",
       "    <tr>\n",
       "      <th>41</th>\n",
       "      <td>LP002339</td>\n",
       "      <td>105.0</td>\n",
       "      <td>165.538321</td>\n",
       "    </tr>\n",
       "    <tr>\n",
       "      <th>42</th>\n",
       "      <td>LP002346</td>\n",
       "      <td>125.0</td>\n",
       "      <td>145.931743</td>\n",
       "    </tr>\n",
       "    <tr>\n",
       "      <th>43</th>\n",
       "      <td>LP002355</td>\n",
       "      <td>150.0</td>\n",
       "      <td>153.551189</td>\n",
       "    </tr>\n",
       "    <tr>\n",
       "      <th>44</th>\n",
       "      <td>LP002383</td>\n",
       "      <td>142.0</td>\n",
       "      <td>181.222797</td>\n",
       "    </tr>\n",
       "    <tr>\n",
       "      <th>45</th>\n",
       "      <td>LP002399</td>\n",
       "      <td>123.0</td>\n",
       "      <td>110.374389</td>\n",
       "    </tr>\n",
       "    <tr>\n",
       "      <th>46</th>\n",
       "      <td>LP002442</td>\n",
       "      <td>112.0</td>\n",
       "      <td>172.189961</td>\n",
       "    </tr>\n",
       "    <tr>\n",
       "      <th>47</th>\n",
       "      <td>LP002450</td>\n",
       "      <td>49.0</td>\n",
       "      <td>199.775174</td>\n",
       "    </tr>\n",
       "    <tr>\n",
       "      <th>48</th>\n",
       "      <td>LP002495</td>\n",
       "      <td>130.0</td>\n",
       "      <td>196.424174</td>\n",
       "    </tr>\n",
       "    <tr>\n",
       "      <th>49</th>\n",
       "      <td>LP002496</td>\n",
       "      <td>94.0</td>\n",
       "      <td>124.293961</td>\n",
       "    </tr>\n",
       "    <tr>\n",
       "      <th>50</th>\n",
       "      <td>LP002551</td>\n",
       "      <td>176.0</td>\n",
       "      <td>179.209840</td>\n",
       "    </tr>\n",
       "    <tr>\n",
       "      <th>51</th>\n",
       "      <td>LP002609</td>\n",
       "      <td>88.0</td>\n",
       "      <td>145.038412</td>\n",
       "    </tr>\n",
       "    <tr>\n",
       "      <th>52</th>\n",
       "      <td>LP002651</td>\n",
       "      <td>125.0</td>\n",
       "      <td>161.181868</td>\n",
       "    </tr>\n",
       "    <tr>\n",
       "      <th>53</th>\n",
       "      <td>LP002747</td>\n",
       "      <td>153.0</td>\n",
       "      <td>173.138017</td>\n",
       "    </tr>\n",
       "    <tr>\n",
       "      <th>54</th>\n",
       "      <td>LP002774</td>\n",
       "      <td>67.0</td>\n",
       "      <td>121.137557</td>\n",
       "    </tr>\n",
       "    <tr>\n",
       "      <th>55</th>\n",
       "      <td>LP002802</td>\n",
       "      <td>95.0</td>\n",
       "      <td>116.742701</td>\n",
       "    </tr>\n",
       "    <tr>\n",
       "      <th>56</th>\n",
       "      <td>LP002858</td>\n",
       "      <td>162.0</td>\n",
       "      <td>171.914435</td>\n",
       "    </tr>\n",
       "    <tr>\n",
       "      <th>57</th>\n",
       "      <td>LP002879</td>\n",
       "      <td>133.0</td>\n",
       "      <td>160.082765</td>\n",
       "    </tr>\n",
       "    <tr>\n",
       "      <th>58</th>\n",
       "      <td>LP002921</td>\n",
       "      <td>158.0</td>\n",
       "      <td>185.846828</td>\n",
       "    </tr>\n",
       "  </tbody>\n",
       "</table>\n",
       "</div>"
      ],
      "text/plain": [
       "     Loan_ID  LoanAmount  predicted_loan_amount\n",
       "0   LP001056       147.0             139.364272\n",
       "1   LP001094       166.0             201.061965\n",
       "2   LP001153       148.0            -326.190236\n",
       "3   LP001203       176.0             114.952297\n",
       "4   LP001313       130.0             108.561625\n",
       "5   LP001323       176.0             175.193304\n",
       "6   LP001347       108.0             136.200905\n",
       "7   LP001352       135.0             130.607075\n",
       "8   LP001358       130.0             123.892129\n",
       "9   LP001361       188.0             148.505143\n",
       "10  LP001420       163.0             190.291535\n",
       "11  LP001445       149.0             144.580293\n",
       "12  LP001450       131.0             130.649475\n",
       "13  LP001496       123.0             184.047670\n",
       "14  LP001542         NaN             110.700528\n",
       "15  LP001563       119.0             119.477465\n",
       "16  LP001611        80.0             132.150018\n",
       "17  LP001613       104.0             130.068791\n",
       "18  LP001622       213.0             107.352561\n",
       "19  LP001652       187.0             145.428158\n",
       "20  LP001655       300.0             184.198328\n",
       "21  LP001662        71.0             149.041753\n",
       "22  LP001785       150.0             134.052955\n",
       "23  LP001789       139.0             206.621257\n",
       "24  LP001817       199.0             154.873262\n",
       "25  LP001853       117.0             146.698734\n",
       "26  LP001906        84.0             112.088163\n",
       "27  LP001923       170.0              91.589890\n",
       "28  LP001933       120.0             114.058086\n",
       "29  LP001950        94.0             161.484700\n",
       "30  LP001979       159.0             145.884750\n",
       "31  LP001995       110.0             136.228877\n",
       "32  LP002069       180.0             176.587308\n",
       "33  LP002070       128.0             167.358931\n",
       "34  LP002090       114.0             148.345733\n",
       "35  LP002099       104.0             160.394190\n",
       "36  LP002168       200.0             177.408657\n",
       "37  LP002256       187.0             160.546905\n",
       "38  LP002286       125.0             161.834526\n",
       "39  LP002316       176.0             136.939552\n",
       "40  LP002321       117.0             144.576842\n",
       "41  LP002339       105.0             165.538321\n",
       "42  LP002346       125.0             145.931743\n",
       "43  LP002355       150.0             153.551189\n",
       "44  LP002383       142.0             181.222797\n",
       "45  LP002399       123.0             110.374389\n",
       "46  LP002442       112.0             172.189961\n",
       "47  LP002450        49.0             199.775174\n",
       "48  LP002495       130.0             196.424174\n",
       "49  LP002496        94.0             124.293961\n",
       "50  LP002551       176.0             179.209840\n",
       "51  LP002609        88.0             145.038412\n",
       "52  LP002651       125.0             161.181868\n",
       "53  LP002747       153.0             173.138017\n",
       "54  LP002774        67.0             121.137557\n",
       "55  LP002802        95.0             116.742701\n",
       "56  LP002858       162.0             171.914435\n",
       "57  LP002879       133.0             160.082765\n",
       "58  LP002921       158.0             185.846828"
      ]
     },
     "execution_count": 120,
     "metadata": {},
     "output_type": "execute_result"
    }
   ],
   "source": [
    "pd.merge(concat, rejected_applicants, left_on= \"Loan_ID\", right_on= \"Loan_ID\", how = \"inner\")"
   ]
  },
  {
   "cell_type": "code",
   "execution_count": 121,
   "id": "21cac1cb",
   "metadata": {},
   "outputs": [],
   "source": [
    "from pandas import DataFrame\n",
    "rejected_applicants.to_csv(\"F:/DS_ML_AI_Course/START/22_23122021_PROJECT_02/rejected_applicants.csv\")"
   ]
  },
  {
   "cell_type": "code",
   "execution_count": null,
   "id": "40dfa777",
   "metadata": {},
   "outputs": [],
   "source": []
  }
 ],
 "metadata": {
  "kernelspec": {
   "display_name": "Python 3",
   "language": "python",
   "name": "python3"
  },
  "language_info": {
   "codemirror_mode": {
    "name": "ipython",
    "version": 3
   },
   "file_extension": ".py",
   "mimetype": "text/x-python",
   "name": "python",
   "nbconvert_exporter": "python",
   "pygments_lexer": "ipython3",
   "version": "3.8.8"
  }
 },
 "nbformat": 4,
 "nbformat_minor": 5
}
